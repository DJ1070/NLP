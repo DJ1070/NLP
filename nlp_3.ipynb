{
  "nbformat": 4,
  "nbformat_minor": 0,
  "metadata": {
    "colab": {
      "name": "nlp-3.ipynb",
      "provenance": [],
      "collapsed_sections": [],
      "authorship_tag": "ABX9TyMMa7EMHdxsbvED+gyqQI8Z",
      "include_colab_link": true
    },
    "kernelspec": {
      "name": "python3",
      "display_name": "Python 3"
    },
    "language_info": {
      "name": "python"
    },
    "accelerator": "GPU"
  },
  "cells": [
    {
      "cell_type": "markdown",
      "metadata": {
        "id": "view-in-github",
        "colab_type": "text"
      },
      "source": [
        "<a href=\"https://colab.research.google.com/github/DJ1070/NLP/blob/main/nlp_3.ipynb\" target=\"_parent\"><img src=\"https://colab.research.google.com/assets/colab-badge.svg\" alt=\"Open In Colab\"/></a>"
      ]
    },
    {
      "cell_type": "code",
      "metadata": {
        "id": "Vsa99cTsPmKs"
      },
      "source": [
        "import numpy as np \n",
        "import pandas as pd \n",
        "import seaborn as sns \n",
        "import matplotlib.pyplot as plt\n",
        "plt.style.use('ggplot')\n",
        "from sklearn.metrics import roc_curve, auc\n",
        "from sklearn.metrics import classification_report, confusion_matrix\n",
        "import nltk\n",
        "from nltk.corpus import stopwords\n",
        "from nltk.stem import PorterStemmer \n",
        "from sklearn.model_selection import train_test_split\n",
        "from mlxtend.plotting import plot_confusion_matrix\n",
        "#import matplotlib.cm as cm\n",
        "#from matplotlib import rcParams\n",
        "from collections import Counter\n",
        "#from nltk.tokenize import RegexpTokenizer\n",
        "import re\n",
        "import string\n",
        "import tensorflow as tf\n",
        "from tensorflow.keras.layers import LSTM, Activation, Dense, Dropout, Input, Embedding\n",
        "from tensorflow.keras.models import Model\n",
        "from tensorflow.keras.optimizers import RMSprop\n",
        "from tensorflow.keras.preprocessing.text import Tokenizer\n",
        "from tensorflow.keras.preprocessing import sequence\n",
        "from tensorflow.keras.preprocessing.sequence import pad_sequences\n",
        "%matplotlib inline\n",
        "\n",
        "import warnings\n",
        "warnings.filterwarnings(\"ignore\")"
      ],
      "execution_count": null,
      "outputs": []
    },
    {
      "cell_type": "code",
      "metadata": {
        "id": "mIpDOwo2Pt4Q",
        "colab": {
          "resources": {
            "http://localhost:8080/nbextensions/google.colab/files.js": {
              "data": "Ly8gQ29weXJpZ2h0IDIwMTcgR29vZ2xlIExMQwovLwovLyBMaWNlbnNlZCB1bmRlciB0aGUgQXBhY2hlIExpY2Vuc2UsIFZlcnNpb24gMi4wICh0aGUgIkxpY2Vuc2UiKTsKLy8geW91IG1heSBub3QgdXNlIHRoaXMgZmlsZSBleGNlcHQgaW4gY29tcGxpYW5jZSB3aXRoIHRoZSBMaWNlbnNlLgovLyBZb3UgbWF5IG9idGFpbiBhIGNvcHkgb2YgdGhlIExpY2Vuc2UgYXQKLy8KLy8gICAgICBodHRwOi8vd3d3LmFwYWNoZS5vcmcvbGljZW5zZXMvTElDRU5TRS0yLjAKLy8KLy8gVW5sZXNzIHJlcXVpcmVkIGJ5IGFwcGxpY2FibGUgbGF3IG9yIGFncmVlZCB0byBpbiB3cml0aW5nLCBzb2Z0d2FyZQovLyBkaXN0cmlidXRlZCB1bmRlciB0aGUgTGljZW5zZSBpcyBkaXN0cmlidXRlZCBvbiBhbiAiQVMgSVMiIEJBU0lTLAovLyBXSVRIT1VUIFdBUlJBTlRJRVMgT1IgQ09ORElUSU9OUyBPRiBBTlkgS0lORCwgZWl0aGVyIGV4cHJlc3Mgb3IgaW1wbGllZC4KLy8gU2VlIHRoZSBMaWNlbnNlIGZvciB0aGUgc3BlY2lmaWMgbGFuZ3VhZ2UgZ292ZXJuaW5nIHBlcm1pc3Npb25zIGFuZAovLyBsaW1pdGF0aW9ucyB1bmRlciB0aGUgTGljZW5zZS4KCi8qKgogKiBAZmlsZW92ZXJ2aWV3IEhlbHBlcnMgZm9yIGdvb2dsZS5jb2xhYiBQeXRob24gbW9kdWxlLgogKi8KKGZ1bmN0aW9uKHNjb3BlKSB7CmZ1bmN0aW9uIHNwYW4odGV4dCwgc3R5bGVBdHRyaWJ1dGVzID0ge30pIHsKICBjb25zdCBlbGVtZW50ID0gZG9jdW1lbnQuY3JlYXRlRWxlbWVudCgnc3BhbicpOwogIGVsZW1lbnQudGV4dENvbnRlbnQgPSB0ZXh0OwogIGZvciAoY29uc3Qga2V5IG9mIE9iamVjdC5rZXlzKHN0eWxlQXR0cmlidXRlcykpIHsKICAgIGVsZW1lbnQuc3R5bGVba2V5XSA9IHN0eWxlQXR0cmlidXRlc1trZXldOwogIH0KICByZXR1cm4gZWxlbWVudDsKfQoKLy8gTWF4IG51bWJlciBvZiBieXRlcyB3aGljaCB3aWxsIGJlIHVwbG9hZGVkIGF0IGEgdGltZS4KY29uc3QgTUFYX1BBWUxPQURfU0laRSA9IDEwMCAqIDEwMjQ7CgpmdW5jdGlvbiBfdXBsb2FkRmlsZXMoaW5wdXRJZCwgb3V0cHV0SWQpIHsKICBjb25zdCBzdGVwcyA9IHVwbG9hZEZpbGVzU3RlcChpbnB1dElkLCBvdXRwdXRJZCk7CiAgY29uc3Qgb3V0cHV0RWxlbWVudCA9IGRvY3VtZW50LmdldEVsZW1lbnRCeUlkKG91dHB1dElkKTsKICAvLyBDYWNoZSBzdGVwcyBvbiB0aGUgb3V0cHV0RWxlbWVudCB0byBtYWtlIGl0IGF2YWlsYWJsZSBmb3IgdGhlIG5leHQgY2FsbAogIC8vIHRvIHVwbG9hZEZpbGVzQ29udGludWUgZnJvbSBQeXRob24uCiAgb3V0cHV0RWxlbWVudC5zdGVwcyA9IHN0ZXBzOwoKICByZXR1cm4gX3VwbG9hZEZpbGVzQ29udGludWUob3V0cHV0SWQpOwp9CgovLyBUaGlzIGlzIHJvdWdobHkgYW4gYXN5bmMgZ2VuZXJhdG9yIChub3Qgc3VwcG9ydGVkIGluIHRoZSBicm93c2VyIHlldCksCi8vIHdoZXJlIHRoZXJlIGFyZSBtdWx0aXBsZSBhc3luY2hyb25vdXMgc3RlcHMgYW5kIHRoZSBQeXRob24gc2lkZSBpcyBnb2luZwovLyB0byBwb2xsIGZvciBjb21wbGV0aW9uIG9mIGVhY2ggc3RlcC4KLy8gVGhpcyB1c2VzIGEgUHJvbWlzZSB0byBibG9jayB0aGUgcHl0aG9uIHNpZGUgb24gY29tcGxldGlvbiBvZiBlYWNoIHN0ZXAsCi8vIHRoZW4gcGFzc2VzIHRoZSByZXN1bHQgb2YgdGhlIHByZXZpb3VzIHN0ZXAgYXMgdGhlIGlucHV0IHRvIHRoZSBuZXh0IHN0ZXAuCmZ1bmN0aW9uIF91cGxvYWRGaWxlc0NvbnRpbnVlKG91dHB1dElkKSB7CiAgY29uc3Qgb3V0cHV0RWxlbWVudCA9IGRvY3VtZW50LmdldEVsZW1lbnRCeUlkKG91dHB1dElkKTsKICBjb25zdCBzdGVwcyA9IG91dHB1dEVsZW1lbnQuc3RlcHM7CgogIGNvbnN0IG5leHQgPSBzdGVwcy5uZXh0KG91dHB1dEVsZW1lbnQubGFzdFByb21pc2VWYWx1ZSk7CiAgcmV0dXJuIFByb21pc2UucmVzb2x2ZShuZXh0LnZhbHVlLnByb21pc2UpLnRoZW4oKHZhbHVlKSA9PiB7CiAgICAvLyBDYWNoZSB0aGUgbGFzdCBwcm9taXNlIHZhbHVlIHRvIG1ha2UgaXQgYXZhaWxhYmxlIHRvIHRoZSBuZXh0CiAgICAvLyBzdGVwIG9mIHRoZSBnZW5lcmF0b3IuCiAgICBvdXRwdXRFbGVtZW50Lmxhc3RQcm9taXNlVmFsdWUgPSB2YWx1ZTsKICAgIHJldHVybiBuZXh0LnZhbHVlLnJlc3BvbnNlOwogIH0pOwp9CgovKioKICogR2VuZXJhdG9yIGZ1bmN0aW9uIHdoaWNoIGlzIGNhbGxlZCBiZXR3ZWVuIGVhY2ggYXN5bmMgc3RlcCBvZiB0aGUgdXBsb2FkCiAqIHByb2Nlc3MuCiAqIEBwYXJhbSB7c3RyaW5nfSBpbnB1dElkIEVsZW1lbnQgSUQgb2YgdGhlIGlucHV0IGZpbGUgcGlja2VyIGVsZW1lbnQuCiAqIEBwYXJhbSB7c3RyaW5nfSBvdXRwdXRJZCBFbGVtZW50IElEIG9mIHRoZSBvdXRwdXQgZGlzcGxheS4KICogQHJldHVybiB7IUl0ZXJhYmxlPCFPYmplY3Q+fSBJdGVyYWJsZSBvZiBuZXh0IHN0ZXBzLgogKi8KZnVuY3Rpb24qIHVwbG9hZEZpbGVzU3RlcChpbnB1dElkLCBvdXRwdXRJZCkgewogIGNvbnN0IGlucHV0RWxlbWVudCA9IGRvY3VtZW50LmdldEVsZW1lbnRCeUlkKGlucHV0SWQpOwogIGlucHV0RWxlbWVudC5kaXNhYmxlZCA9IGZhbHNlOwoKICBjb25zdCBvdXRwdXRFbGVtZW50ID0gZG9jdW1lbnQuZ2V0RWxlbWVudEJ5SWQob3V0cHV0SWQpOwogIG91dHB1dEVsZW1lbnQuaW5uZXJIVE1MID0gJyc7CgogIGNvbnN0IHBpY2tlZFByb21pc2UgPSBuZXcgUHJvbWlzZSgocmVzb2x2ZSkgPT4gewogICAgaW5wdXRFbGVtZW50LmFkZEV2ZW50TGlzdGVuZXIoJ2NoYW5nZScsIChlKSA9PiB7CiAgICAgIHJlc29sdmUoZS50YXJnZXQuZmlsZXMpOwogICAgfSk7CiAgfSk7CgogIGNvbnN0IGNhbmNlbCA9IGRvY3VtZW50LmNyZWF0ZUVsZW1lbnQoJ2J1dHRvbicpOwogIGlucHV0RWxlbWVudC5wYXJlbnRFbGVtZW50LmFwcGVuZENoaWxkKGNhbmNlbCk7CiAgY2FuY2VsLnRleHRDb250ZW50ID0gJ0NhbmNlbCB1cGxvYWQnOwogIGNvbnN0IGNhbmNlbFByb21pc2UgPSBuZXcgUHJvbWlzZSgocmVzb2x2ZSkgPT4gewogICAgY2FuY2VsLm9uY2xpY2sgPSAoKSA9PiB7CiAgICAgIHJlc29sdmUobnVsbCk7CiAgICB9OwogIH0pOwoKICAvLyBXYWl0IGZvciB0aGUgdXNlciB0byBwaWNrIHRoZSBmaWxlcy4KICBjb25zdCBmaWxlcyA9IHlpZWxkIHsKICAgIHByb21pc2U6IFByb21pc2UucmFjZShbcGlja2VkUHJvbWlzZSwgY2FuY2VsUHJvbWlzZV0pLAogICAgcmVzcG9uc2U6IHsKICAgICAgYWN0aW9uOiAnc3RhcnRpbmcnLAogICAgfQogIH07CgogIGNhbmNlbC5yZW1vdmUoKTsKCiAgLy8gRGlzYWJsZSB0aGUgaW5wdXQgZWxlbWVudCBzaW5jZSBmdXJ0aGVyIHBpY2tzIGFyZSBub3QgYWxsb3dlZC4KICBpbnB1dEVsZW1lbnQuZGlzYWJsZWQgPSB0cnVlOwoKICBpZiAoIWZpbGVzKSB7CiAgICByZXR1cm4gewogICAgICByZXNwb25zZTogewogICAgICAgIGFjdGlvbjogJ2NvbXBsZXRlJywKICAgICAgfQogICAgfTsKICB9CgogIGZvciAoY29uc3QgZmlsZSBvZiBmaWxlcykgewogICAgY29uc3QgbGkgPSBkb2N1bWVudC5jcmVhdGVFbGVtZW50KCdsaScpOwogICAgbGkuYXBwZW5kKHNwYW4oZmlsZS5uYW1lLCB7Zm9udFdlaWdodDogJ2JvbGQnfSkpOwogICAgbGkuYXBwZW5kKHNwYW4oCiAgICAgICAgYCgke2ZpbGUudHlwZSB8fCAnbi9hJ30pIC0gJHtmaWxlLnNpemV9IGJ5dGVzLCBgICsKICAgICAgICBgbGFzdCBtb2RpZmllZDogJHsKICAgICAgICAgICAgZmlsZS5sYXN0TW9kaWZpZWREYXRlID8gZmlsZS5sYXN0TW9kaWZpZWREYXRlLnRvTG9jYWxlRGF0ZVN0cmluZygpIDoKICAgICAgICAgICAgICAgICAgICAgICAgICAgICAgICAgICAgJ24vYSd9IC0gYCkpOwogICAgY29uc3QgcGVyY2VudCA9IHNwYW4oJzAlIGRvbmUnKTsKICAgIGxpLmFwcGVuZENoaWxkKHBlcmNlbnQpOwoKICAgIG91dHB1dEVsZW1lbnQuYXBwZW5kQ2hpbGQobGkpOwoKICAgIGNvbnN0IGZpbGVEYXRhUHJvbWlzZSA9IG5ldyBQcm9taXNlKChyZXNvbHZlKSA9PiB7CiAgICAgIGNvbnN0IHJlYWRlciA9IG5ldyBGaWxlUmVhZGVyKCk7CiAgICAgIHJlYWRlci5vbmxvYWQgPSAoZSkgPT4gewogICAgICAgIHJlc29sdmUoZS50YXJnZXQucmVzdWx0KTsKICAgICAgfTsKICAgICAgcmVhZGVyLnJlYWRBc0FycmF5QnVmZmVyKGZpbGUpOwogICAgfSk7CiAgICAvLyBXYWl0IGZvciB0aGUgZGF0YSB0byBiZSByZWFkeS4KICAgIGxldCBmaWxlRGF0YSA9IHlpZWxkIHsKICAgICAgcHJvbWlzZTogZmlsZURhdGFQcm9taXNlLAogICAgICByZXNwb25zZTogewogICAgICAgIGFjdGlvbjogJ2NvbnRpbnVlJywKICAgICAgfQogICAgfTsKCiAgICAvLyBVc2UgYSBjaHVua2VkIHNlbmRpbmcgdG8gYXZvaWQgbWVzc2FnZSBzaXplIGxpbWl0cy4gU2VlIGIvNjIxMTU2NjAuCiAgICBsZXQgcG9zaXRpb24gPSAwOwogICAgd2hpbGUgKHBvc2l0aW9uIDwgZmlsZURhdGEuYnl0ZUxlbmd0aCkgewogICAgICBjb25zdCBsZW5ndGggPSBNYXRoLm1pbihmaWxlRGF0YS5ieXRlTGVuZ3RoIC0gcG9zaXRpb24sIE1BWF9QQVlMT0FEX1NJWkUpOwogICAgICBjb25zdCBjaHVuayA9IG5ldyBVaW50OEFycmF5KGZpbGVEYXRhLCBwb3NpdGlvbiwgbGVuZ3RoKTsKICAgICAgcG9zaXRpb24gKz0gbGVuZ3RoOwoKICAgICAgY29uc3QgYmFzZTY0ID0gYnRvYShTdHJpbmcuZnJvbUNoYXJDb2RlLmFwcGx5KG51bGwsIGNodW5rKSk7CiAgICAgIHlpZWxkIHsKICAgICAgICByZXNwb25zZTogewogICAgICAgICAgYWN0aW9uOiAnYXBwZW5kJywKICAgICAgICAgIGZpbGU6IGZpbGUubmFtZSwKICAgICAgICAgIGRhdGE6IGJhc2U2NCwKICAgICAgICB9LAogICAgICB9OwogICAgICBwZXJjZW50LnRleHRDb250ZW50ID0KICAgICAgICAgIGAke01hdGgucm91bmQoKHBvc2l0aW9uIC8gZmlsZURhdGEuYnl0ZUxlbmd0aCkgKiAxMDApfSUgZG9uZWA7CiAgICB9CiAgfQoKICAvLyBBbGwgZG9uZS4KICB5aWVsZCB7CiAgICByZXNwb25zZTogewogICAgICBhY3Rpb246ICdjb21wbGV0ZScsCiAgICB9CiAgfTsKfQoKc2NvcGUuZ29vZ2xlID0gc2NvcGUuZ29vZ2xlIHx8IHt9OwpzY29wZS5nb29nbGUuY29sYWIgPSBzY29wZS5nb29nbGUuY29sYWIgfHwge307CnNjb3BlLmdvb2dsZS5jb2xhYi5fZmlsZXMgPSB7CiAgX3VwbG9hZEZpbGVzLAogIF91cGxvYWRGaWxlc0NvbnRpbnVlLAp9Owp9KShzZWxmKTsK",
              "ok": true,
              "headers": [
                [
                  "content-type",
                  "application/javascript"
                ]
              ],
              "status": 200,
              "status_text": ""
            }
          },
          "base_uri": "https://localhost:8080/",
          "height": 73
        },
        "outputId": "eff8e1ff-6ace-4afd-8c93-56a0f23223ce"
      },
      "source": [
        "import io\n",
        "from google.colab import files\n",
        "uploaded = files.upload()"
      ],
      "execution_count": null,
      "outputs": [
        {
          "output_type": "display_data",
          "data": {
            "text/html": [
              "\n",
              "     <input type=\"file\" id=\"files-9599b824-982c-4d16-8e1a-75181892cd66\" name=\"files[]\" multiple disabled\n",
              "        style=\"border:none\" />\n",
              "     <output id=\"result-9599b824-982c-4d16-8e1a-75181892cd66\">\n",
              "      Upload widget is only available when the cell has been executed in the\n",
              "      current browser session. Please rerun this cell to enable.\n",
              "      </output>\n",
              "      <script src=\"/nbextensions/google.colab/files.js\"></script> "
            ],
            "text/plain": [
              "<IPython.core.display.HTML object>"
            ]
          },
          "metadata": {
            "tags": []
          }
        },
        {
          "output_type": "stream",
          "text": [
            "Saving cleaned_tweets-half.csv to cleaned_tweets-half.csv\n"
          ],
          "name": "stdout"
        }
      ]
    },
    {
      "cell_type": "code",
      "metadata": {
        "id": "lJZ5oJ0DYU5E"
      },
      "source": [
        "df = pd.read_csv(io.BytesIO(uploaded['cleaned_tweets-half.csv']), sep = \";\")"
      ],
      "execution_count": null,
      "outputs": []
    },
    {
      "cell_type": "code",
      "metadata": {
        "id": "uDCHRkm-wedg"
      },
      "source": [
        "#df = pd.read_csv('https://drive.google.com/file/d/1tz2bsLEkR1E7MlANJljNtWuw8v-43bYr/view?usp=sharing/cleaned_tweets-half.csv', sep = ';')"
      ],
      "execution_count": null,
      "outputs": []
    },
    {
      "cell_type": "code",
      "metadata": {
        "id": "cQCWXq1aG3Fx"
      },
      "source": [
        "df = df.drop('Unnamed: 0', axis = 1)  "
      ],
      "execution_count": null,
      "outputs": []
    },
    {
      "cell_type": "code",
      "metadata": {
        "id": "uKu97XYDYreb",
        "colab": {
          "base_uri": "https://localhost:8080/",
          "height": 415
        },
        "outputId": "8a4cc331-640f-48ef-dd86-f48aa84a61eb"
      },
      "source": [
        "df"
      ],
      "execution_count": null,
      "outputs": [
        {
          "output_type": "execute_result",
          "data": {
            "text/html": [
              "<div>\n",
              "<style scoped>\n",
              "    .dataframe tbody tr th:only-of-type {\n",
              "        vertical-align: middle;\n",
              "    }\n",
              "\n",
              "    .dataframe tbody tr th {\n",
              "        vertical-align: top;\n",
              "    }\n",
              "\n",
              "    .dataframe thead th {\n",
              "        text-align: right;\n",
              "    }\n",
              "</style>\n",
              "<table border=\"1\" class=\"dataframe\">\n",
              "  <thead>\n",
              "    <tr style=\"text-align: right;\">\n",
              "      <th></th>\n",
              "      <th>label</th>\n",
              "      <th>text</th>\n",
              "    </tr>\n",
              "  </thead>\n",
              "  <tbody>\n",
              "    <tr>\n",
              "      <th>0</th>\n",
              "      <td>0</td>\n",
              "      <td>awww that's bummer shoulda got david carr thir...</td>\n",
              "    </tr>\n",
              "    <tr>\n",
              "      <th>1</th>\n",
              "      <td>0</td>\n",
              "      <td>dived many times ball managed save % rest go b...</td>\n",
              "    </tr>\n",
              "    <tr>\n",
              "      <th>2</th>\n",
              "      <td>0</td>\n",
              "      <td>behaving i'm mad can't see</td>\n",
              "    </tr>\n",
              "    <tr>\n",
              "      <th>3</th>\n",
              "      <td>0</td>\n",
              "      <td>need hug</td>\n",
              "    </tr>\n",
              "    <tr>\n",
              "      <th>4</th>\n",
              "      <td>0</td>\n",
              "      <td>k nope</td>\n",
              "    </tr>\n",
              "    <tr>\n",
              "      <th>...</th>\n",
              "      <td>...</td>\n",
              "      <td>...</td>\n",
              "    </tr>\n",
              "    <tr>\n",
              "      <th>799995</th>\n",
              "      <td>1</td>\n",
              "      <td>wooooo xbox back</td>\n",
              "    </tr>\n",
              "    <tr>\n",
              "      <th>799996</th>\n",
              "      <td>1</td>\n",
              "      <td>recovering long weekend</td>\n",
              "    </tr>\n",
              "    <tr>\n",
              "      <th>799997</th>\n",
              "      <td>1</td>\n",
              "      <td>forster yeah work better waiting end wonder ti...</td>\n",
              "    </tr>\n",
              "    <tr>\n",
              "      <th>799998</th>\n",
              "      <td>1</td>\n",
              "      <td>thewdb com cool hear old walt interviews ♫ ~bmta</td>\n",
              "    </tr>\n",
              "    <tr>\n",
              "      <th>799999</th>\n",
              "      <td>1</td>\n",
              "      <td>happy th birthday boo alll time tupac amaru sh...</td>\n",
              "    </tr>\n",
              "  </tbody>\n",
              "</table>\n",
              "<p>800000 rows × 2 columns</p>\n",
              "</div>"
            ],
            "text/plain": [
              "        label                                               text\n",
              "0           0  awww that's bummer shoulda got david carr thir...\n",
              "1           0  dived many times ball managed save % rest go b...\n",
              "2           0                         behaving i'm mad can't see\n",
              "3           0                                           need hug\n",
              "4           0                                             k nope\n",
              "...       ...                                                ...\n",
              "799995      1                                   wooooo xbox back\n",
              "799996      1                            recovering long weekend\n",
              "799997      1  forster yeah work better waiting end wonder ti...\n",
              "799998      1   thewdb com cool hear old walt interviews ♫ ~bmta\n",
              "799999      1  happy th birthday boo alll time tupac amaru sh...\n",
              "\n",
              "[800000 rows x 2 columns]"
            ]
          },
          "metadata": {
            "tags": []
          },
          "execution_count": 8
        }
      ]
    },
    {
      "cell_type": "code",
      "metadata": {
        "colab": {
          "base_uri": "https://localhost:8080/"
        },
        "id": "39k7o2Qtd076",
        "outputId": "cea3c3bc-94db-4a72-e2c1-3eec96f75dde"
      },
      "source": [
        "def cleaning_rest(df):\n",
        "    return re.sub(\"[^a-z'A-Z]\", \" \", df)\n",
        "\n",
        "df['text'] = df['text'].apply(lambda x: cleaning_rest(str(x)))\n",
        "df['text'].head()"
      ],
      "execution_count": null,
      "outputs": [
        {
          "output_type": "execute_result",
          "data": {
            "text/plain": [
              "0    awww that's bummer shoulda got david carr thir...\n",
              "1    dived many times ball managed save   rest go b...\n",
              "2                           behaving i'm mad can't see\n",
              "3                                             need hug\n",
              "4                                               k nope\n",
              "Name: text, dtype: object"
            ]
          },
          "metadata": {
            "tags": []
          },
          "execution_count": 9
        }
      ]
    },
    {
      "cell_type": "code",
      "metadata": {
        "id": "-b4GGR9wHkBl"
      },
      "source": [
        "# for irow, row in df.iterrows():\n",
        "#   if row['label'] == 0: status = True\n",
        "#   elif row['label'] == 1: status = False\n",
        "#   print('For text:' ,row['text'], '|| The negativity status is: ', status)\n",
        "#   if irow == 20: break"
      ],
      "execution_count": null,
      "outputs": []
    },
    {
      "cell_type": "code",
      "metadata": {
        "id": "ClPFQgAtZIGC"
      },
      "source": [
        "vocab_size = 20000\n",
        "embedding_dim = 16\n",
        "max_length = 16\n",
        "trunc_type='post'\n",
        "padding_type='post'\n",
        "oov_tok = \"<OOV>\""
      ],
      "execution_count": null,
      "outputs": []
    },
    {
      "cell_type": "code",
      "metadata": {
        "id": "5j9lj78CTgBu"
      },
      "source": [
        "df = df.dropna()"
      ],
      "execution_count": null,
      "outputs": []
    },
    {
      "cell_type": "code",
      "metadata": {
        "colab": {
          "base_uri": "https://localhost:8080/"
        },
        "id": "XhoWx-uAS7n-",
        "outputId": "eb64e417-a7c7-46fc-beb9-5fe6a04e4833"
      },
      "source": [
        "df.isnull().sum()"
      ],
      "execution_count": null,
      "outputs": [
        {
          "output_type": "execute_result",
          "data": {
            "text/plain": [
              "label    0\n",
              "text     0\n",
              "dtype: int64"
            ]
          },
          "metadata": {
            "tags": []
          },
          "execution_count": 13
        }
      ]
    },
    {
      "cell_type": "code",
      "metadata": {
        "colab": {
          "base_uri": "https://localhost:8080/"
        },
        "id": "-LINlcIiTt8J",
        "outputId": "18ff2524-7142-44e7-c381-460421279c95"
      },
      "source": [
        "df.shape"
      ],
      "execution_count": null,
      "outputs": [
        {
          "output_type": "execute_result",
          "data": {
            "text/plain": [
              "(800000, 2)"
            ]
          },
          "metadata": {
            "tags": []
          },
          "execution_count": 14
        }
      ]
    },
    {
      "cell_type": "code",
      "metadata": {
        "id": "hWkiSstAMQxe"
      },
      "source": [
        "tweets = df['text'].to_list()\n",
        "labels = df['label'].to_list()"
      ],
      "execution_count": null,
      "outputs": []
    },
    {
      "cell_type": "code",
      "metadata": {
        "colab": {
          "base_uri": "https://localhost:8080/"
        },
        "id": "VDB5unNFcJrf",
        "outputId": "dc75c7c2-48c5-4a0c-d53d-1ceb4c7bc62f"
      },
      "source": [
        "df['text']"
      ],
      "execution_count": null,
      "outputs": [
        {
          "output_type": "execute_result",
          "data": {
            "text/plain": [
              "0         awww that's bummer shoulda got david carr thir...\n",
              "1         dived many times ball managed save   rest go b...\n",
              "2                                behaving i'm mad can't see\n",
              "3                                                  need hug\n",
              "4                                                    k nope\n",
              "                                ...                        \n",
              "799995                                     wooooo xbox back\n",
              "799996                              recovering long weekend\n",
              "799997    forster yeah work better waiting end wonder ti...\n",
              "799998     thewdb com cool hear old walt interviews    bmta\n",
              "799999    happy th birthday boo alll time tupac amaru sh...\n",
              "Name: text, Length: 800000, dtype: object"
            ]
          },
          "metadata": {
            "tags": []
          },
          "execution_count": 16
        }
      ]
    },
    {
      "cell_type": "code",
      "metadata": {
        "id": "Pc9WUMTEMrOb"
      },
      "source": [
        "training_tweets, testing_tweets, training_labels, testing_labels = train_test_split(tweets, labels, test_size = .3, random_state = 3) "
      ],
      "execution_count": null,
      "outputs": []
    },
    {
      "cell_type": "code",
      "metadata": {
        "id": "CRsyIR0ajtqH"
      },
      "source": [
        "make_tokens = Tokenizer(num_words=vocab_size, oov_token=oov_tok)\n",
        "make_tokens.fit_on_texts(training_tweets)"
      ],
      "execution_count": null,
      "outputs": []
    },
    {
      "cell_type": "code",
      "metadata": {
        "id": "9v9O4O8zmCON",
        "colab": {
          "base_uri": "https://localhost:8080/"
        },
        "outputId": "66576ff9-5308-45fa-d59f-7b0754745b53"
      },
      "source": [
        "word_dict = make_tokens.word_index\n",
        "\n",
        "training_sequences = make_tokens.texts_to_sequences(training_tweets)\n",
        "training_padded = pad_sequences(training_sequences, maxlen=max_length, padding=padding_type, truncating=trunc_type)\n",
        "\n",
        "testing_sequences = make_tokens.texts_to_sequences(testing_tweets)\n",
        "testing_padded = pad_sequences(testing_sequences, maxlen=max_length, padding=padding_type, truncating=trunc_type)\n",
        "#testing_padded[0:5]\n",
        "len(word_dict)\n",
        "#word_dict"
      ],
      "execution_count": null,
      "outputs": [
        {
          "output_type": "execute_result",
          "data": {
            "text/plain": [
              "156535"
            ]
          },
          "metadata": {
            "tags": []
          },
          "execution_count": 19
        }
      ]
    },
    {
      "cell_type": "code",
      "metadata": {
        "id": "195lQOuXvL9I",
        "colab": {
          "base_uri": "https://localhost:8080/"
        },
        "outputId": "30bc8545-4334-462d-b254-fb0b1f662611"
      },
      "source": [
        "training_padded[-10:]"
      ],
      "execution_count": null,
      "outputs": [
        {
          "output_type": "execute_result",
          "data": {
            "text/plain": [
              "array([[   15,    67,    36,     5,  1462,    28,  3311,     0,     0,\n",
              "            0,     0,     0,     0,     0,     0,     0],\n",
              "       [ 6070, 10479,  2499,   508, 10816,   103,   584,    80,  1075,\n",
              "            0,     0,     0,     0,     0,     0,     0],\n",
              "       [  244,     1,    29,     7,  4930,     0,     0,     0,     0,\n",
              "            0,     0,     0,     0,     0,     0,     0],\n",
              "       [  112,     4,    26,   165,     1,   175,    60,   126,   269,\n",
              "            0,     0,     0,     0,     0,     0,     0],\n",
              "       [  321,    24,    49,   985,  4222,     0,     0,     0,     0,\n",
              "            0,     0,     0,     0,     0,     0,     0],\n",
              "       [  427,     6,    42,  1759,   652,  2397,     0,     0,     0,\n",
              "            0,     0,     0,     0,     0,     0,     0],\n",
              "       [ 2222,    99,    19,   162,  6528, 12832,    99,     0,     0,\n",
              "            0,     0,     0,     0,     0,     0,     0],\n",
              "       [  744, 12779,     0,     0,     0,     0,     0,     0,     0,\n",
              "            0,     0,     0,     0,     0,     0,     0],\n",
              "       [   13,    11,  4734,   324,   573,     0,     0,     0,     0,\n",
              "            0,     0,     0,     0,     0,     0,     0],\n",
              "       [   10,   429,  5551,  1237,  1851,     0,     0,     0,     0,\n",
              "            0,     0,     0,     0,     0,     0,     0]], dtype=int32)"
            ]
          },
          "metadata": {
            "tags": []
          },
          "execution_count": 20
        }
      ]
    },
    {
      "cell_type": "code",
      "metadata": {
        "id": "FnUzcSpuvQsz",
        "colab": {
          "base_uri": "https://localhost:8080/"
        },
        "outputId": "2ef6c6b2-1b13-421c-e65e-454d950aea9e"
      },
      "source": [
        "word_dict"
      ],
      "execution_count": null,
      "outputs": [
        {
          "output_type": "execute_result",
          "data": {
            "text/plain": [
              "{'<OOV>': 1,\n",
              " \"i'm\": 2,\n",
              " 'good': 3,\n",
              " 'day': 4,\n",
              " 'get': 5,\n",
              " 'like': 6,\n",
              " 'go': 7,\n",
              " 'quot': 8,\n",
              " 'today': 9,\n",
              " 'going': 10,\n",
              " 'work': 11,\n",
              " 'love': 12,\n",
              " 'got': 13,\n",
              " 'lol': 14,\n",
              " 'time': 15,\n",
              " 'back': 16,\n",
              " 'u': 17,\n",
              " 'one': 18,\n",
              " 'know': 19,\n",
              " 'im': 20,\n",
              " 'really': 21,\n",
              " 'amp': 22,\n",
              " 'see': 23,\n",
              " \"can't\": 24,\n",
              " 'still': 25,\n",
              " 'well': 26,\n",
              " 'new': 27,\n",
              " 'night': 28,\n",
              " 'want': 29,\n",
              " 'think': 30,\n",
              " 'home': 31,\n",
              " 'thanks': 32,\n",
              " 'oh': 33,\n",
              " 'much': 34,\n",
              " 'miss': 35,\n",
              " 'need': 36,\n",
              " 'last': 37,\n",
              " 'hope': 38,\n",
              " 'great': 39,\n",
              " 'tomorrow': 40,\n",
              " 'morning': 41,\n",
              " 'twitter': 42,\n",
              " 'haha': 43,\n",
              " 'feel': 44,\n",
              " 'sad': 45,\n",
              " 'fun': 46,\n",
              " 'wish': 47,\n",
              " 'right': 48,\n",
              " 'sleep': 49,\n",
              " 'bad': 50,\n",
              " 'happy': 51,\n",
              " 'sorry': 52,\n",
              " 'would': 53,\n",
              " 'tonight': 54,\n",
              " \"i'll\": 55,\n",
              " 'make': 56,\n",
              " 'come': 57,\n",
              " 'getting': 58,\n",
              " 'way': 59,\n",
              " 'though': 60,\n",
              " 'nice': 61,\n",
              " 'gonna': 62,\n",
              " 'better': 63,\n",
              " 'watching': 64,\n",
              " 'yeah': 65,\n",
              " 'wait': 66,\n",
              " 'bed': 67,\n",
              " \"that's\": 68,\n",
              " 'could': 69,\n",
              " 'week': 70,\n",
              " 'school': 71,\n",
              " 'people': 72,\n",
              " \"i've\": 73,\n",
              " 'days': 74,\n",
              " 'hate': 75,\n",
              " 'even': 76,\n",
              " 'hey': 77,\n",
              " 'lt': 78,\n",
              " 'yes': 79,\n",
              " 'next': 80,\n",
              " 'weekend': 81,\n",
              " 'dont': 82,\n",
              " 'thank': 83,\n",
              " 'awesome': 84,\n",
              " 'soon': 85,\n",
              " 'never': 86,\n",
              " 'cant': 87,\n",
              " 'take': 88,\n",
              " 'long': 89,\n",
              " 'little': 90,\n",
              " 'first': 91,\n",
              " 'x': 92,\n",
              " 'tired': 93,\n",
              " 'wanna': 94,\n",
              " 'working': 95,\n",
              " 'show': 96,\n",
              " 'say': 97,\n",
              " 'best': 98,\n",
              " 'ok': 99,\n",
              " 'please': 100,\n",
              " 'sick': 101,\n",
              " 'everyone': 102,\n",
              " 'life': 103,\n",
              " 'watch': 104,\n",
              " 'feeling': 105,\n",
              " 'done': 106,\n",
              " 'sure': 107,\n",
              " 'always': 108,\n",
              " 'cool': 109,\n",
              " 'thing': 110,\n",
              " 'already': 111,\n",
              " 'another': 112,\n",
              " 'friends': 113,\n",
              " 'us': 114,\n",
              " 'find': 115,\n",
              " 'something': 116,\n",
              " 'ready': 117,\n",
              " 'guys': 118,\n",
              " 'made': 119,\n",
              " 'man': 120,\n",
              " 'yay': 121,\n",
              " 'looking': 122,\n",
              " 'yet': 123,\n",
              " 'hours': 124,\n",
              " 'phone': 125,\n",
              " 'look': 126,\n",
              " 'went': 127,\n",
              " 'house': 128,\n",
              " 'movie': 129,\n",
              " 'ur': 130,\n",
              " 'ever': 131,\n",
              " 'maybe': 132,\n",
              " 'pretty': 133,\n",
              " 'away': 134,\n",
              " 'trying': 135,\n",
              " 'n': 136,\n",
              " 'omg': 137,\n",
              " 'finally': 138,\n",
              " 'summer': 139,\n",
              " 'old': 140,\n",
              " 'early': 141,\n",
              " 'help': 142,\n",
              " 'things': 143,\n",
              " 'tweet': 144,\n",
              " 'damn': 145,\n",
              " 'let': 146,\n",
              " 'amazing': 147,\n",
              " 'guess': 148,\n",
              " 'follow': 149,\n",
              " 'left': 150,\n",
              " 'keep': 151,\n",
              " 'lost': 152,\n",
              " 'bit': 153,\n",
              " 'big': 154,\n",
              " 'hot': 155,\n",
              " 'thought': 156,\n",
              " 'missed': 157,\n",
              " 'year': 158,\n",
              " 'rain': 159,\n",
              " 'someone': 160,\n",
              " 'wow': 161,\n",
              " 'sucks': 162,\n",
              " 'bored': 163,\n",
              " 'girl': 164,\n",
              " 'nothing': 165,\n",
              " 'glad': 166,\n",
              " 'try': 167,\n",
              " 'friend': 168,\n",
              " 'b': 169,\n",
              " 'birthday': 170,\n",
              " 'live': 171,\n",
              " 'start': 172,\n",
              " 'looks': 173,\n",
              " 'coming': 174,\n",
              " 'later': 175,\n",
              " 'tell': 176,\n",
              " 'also': 177,\n",
              " 'sun': 178,\n",
              " 'w': 179,\n",
              " 'ugh': 180,\n",
              " 'weather': 181,\n",
              " 'hear': 182,\n",
              " 'waiting': 183,\n",
              " 'two': 184,\n",
              " 'actually': 185,\n",
              " 'th': 186,\n",
              " 'stuff': 187,\n",
              " 'ya': 188,\n",
              " 'said': 189,\n",
              " 'baby': 190,\n",
              " 'makes': 191,\n",
              " 'saw': 192,\n",
              " 'game': 193,\n",
              " 'hard': 194,\n",
              " 'song': 195,\n",
              " 'party': 196,\n",
              " 'thats': 197,\n",
              " 'play': 198,\n",
              " 'excited': 199,\n",
              " 'since': 200,\n",
              " 'might': 201,\n",
              " 'hi': 202,\n",
              " 'lot': 203,\n",
              " 'god': 204,\n",
              " 'late': 205,\n",
              " 'world': 206,\n",
              " 'com': 207,\n",
              " 'gotta': 208,\n",
              " 'yesterday': 209,\n",
              " 'car': 210,\n",
              " 'music': 211,\n",
              " 'around': 212,\n",
              " 'many': 213,\n",
              " 'sounds': 214,\n",
              " 'r': 215,\n",
              " 'check': 216,\n",
              " 'cold': 217,\n",
              " 'luck': 218,\n",
              " 'found': 219,\n",
              " 'head': 220,\n",
              " 'friday': 221,\n",
              " 'sunday': 222,\n",
              " 'call': 223,\n",
              " 'job': 224,\n",
              " 'give': 225,\n",
              " 'must': 226,\n",
              " 'mom': 227,\n",
              " 'put': 228,\n",
              " 'missing': 229,\n",
              " 'gone': 230,\n",
              " 'may': 231,\n",
              " 'read': 232,\n",
              " 'aww': 233,\n",
              " 'beautiful': 234,\n",
              " 'talk': 235,\n",
              " 'anything': 236,\n",
              " 'stop': 237,\n",
              " 'least': 238,\n",
              " \"he's\": 239,\n",
              " 'poor': 240,\n",
              " 'monday': 241,\n",
              " 'almost': 242,\n",
              " 'making': 243,\n",
              " 'woke': 244,\n",
              " 'leave': 245,\n",
              " 'tho': 246,\n",
              " 'okay': 247,\n",
              " 'use': 248,\n",
              " 'lunch': 249,\n",
              " \"i'd\": 250,\n",
              " 'free': 251,\n",
              " 'family': 252,\n",
              " 'hurts': 253,\n",
              " 'till': 254,\n",
              " 'cute': 255,\n",
              " 'hair': 256,\n",
              " 'times': 257,\n",
              " 'eat': 258,\n",
              " 'iphone': 259,\n",
              " 'hour': 260,\n",
              " 'food': 261,\n",
              " 'dinner': 262,\n",
              " 'wanted': 263,\n",
              " 'listening': 264,\n",
              " 'mean': 265,\n",
              " 'far': 266,\n",
              " 'end': 267,\n",
              " 'followers': 268,\n",
              " 'forward': 269,\n",
              " 'funny': 270,\n",
              " 'finished': 271,\n",
              " 'gt': 272,\n",
              " 'playing': 273,\n",
              " 'welcome': 274,\n",
              " 'enjoy': 275,\n",
              " 'thinking': 276,\n",
              " 'without': 277,\n",
              " 'believe': 278,\n",
              " 'anyone': 279,\n",
              " 'p': 280,\n",
              " 'shit': 281,\n",
              " 'everything': 282,\n",
              " 'video': 283,\n",
              " 'every': 284,\n",
              " 'outside': 285,\n",
              " 'totally': 286,\n",
              " 'sweet': 287,\n",
              " 'enough': 288,\n",
              " 'hahaha': 289,\n",
              " 'real': 290,\n",
              " 'xx': 291,\n",
              " 'ill': 292,\n",
              " 'didnt': 293,\n",
              " 'buy': 294,\n",
              " 'anymore': 295,\n",
              " 'wrong': 296,\n",
              " 'nan': 297,\n",
              " 'coffee': 298,\n",
              " 'stupid': 299,\n",
              " 'mine': 300,\n",
              " \"we're\": 301,\n",
              " 'weeks': 302,\n",
              " 'tv': 303,\n",
              " 'room': 304,\n",
              " 'probably': 305,\n",
              " 'win': 306,\n",
              " 'cause': 307,\n",
              " 'money': 308,\n",
              " 'c': 309,\n",
              " 'wants': 310,\n",
              " 'stay': 311,\n",
              " 'ha': 312,\n",
              " 'tweets': 313,\n",
              " 'eating': 314,\n",
              " 'place': 315,\n",
              " 'sooo': 316,\n",
              " 'whole': 317,\n",
              " 'busy': 318,\n",
              " 'kinda': 319,\n",
              " 'lovely': 320,\n",
              " 'says': 321,\n",
              " \"there's\": 322,\n",
              " 'following': 323,\n",
              " 'came': 324,\n",
              " 'class': 325,\n",
              " 'crazy': 326,\n",
              " 'seen': 327,\n",
              " 'saturday': 328,\n",
              " 'taking': 329,\n",
              " 'pic': 330,\n",
              " 'kids': 331,\n",
              " 'beach': 332,\n",
              " 'super': 333,\n",
              " 'exam': 334,\n",
              " 'took': 335,\n",
              " 'dad': 336,\n",
              " 'half': 337,\n",
              " 'name': 338,\n",
              " 'hopefully': 339,\n",
              " 'true': 340,\n",
              " 'awww': 341,\n",
              " 'guy': 342,\n",
              " \"what's\": 343,\n",
              " 'goodnight': 344,\n",
              " 'face': 345,\n",
              " 'e': 346,\n",
              " 'post': 347,\n",
              " 'news': 348,\n",
              " 'headache': 349,\n",
              " 'shopping': 350,\n",
              " 'years': 351,\n",
              " 'book': 352,\n",
              " 'hello': 353,\n",
              " 'run': 354,\n",
              " 'able': 355,\n",
              " 'used': 356,\n",
              " 'leaving': 357,\n",
              " 'full': 358,\n",
              " 'meet': 359,\n",
              " 'idea': 360,\n",
              " 'sitting': 361,\n",
              " 'either': 362,\n",
              " 'hell': 363,\n",
              " 'rest': 364,\n",
              " 'ago': 365,\n",
              " 'pm': 366,\n",
              " 'lots': 367,\n",
              " 'forgot': 368,\n",
              " 'girls': 369,\n",
              " 'reading': 370,\n",
              " 'soo': 371,\n",
              " 'ah': 372,\n",
              " 'else': 373,\n",
              " 'blog': 374,\n",
              " 'feels': 375,\n",
              " 'computer': 376,\n",
              " 'remember': 377,\n",
              " 'hurt': 378,\n",
              " 'boo': 379,\n",
              " 'seems': 380,\n",
              " 'alone': 381,\n",
              " 'raining': 382,\n",
              " 'watched': 383,\n",
              " 'send': 384,\n",
              " 'fuck': 385,\n",
              " \"they're\": 386,\n",
              " 'cuz': 387,\n",
              " 'btw': 388,\n",
              " 'heard': 389,\n",
              " 'tried': 390,\n",
              " 'needs': 391,\n",
              " 'dog': 392,\n",
              " 'hehe': 393,\n",
              " 'talking': 394,\n",
              " 'office': 395,\n",
              " 'hit': 396,\n",
              " 'stuck': 397,\n",
              " 'wont': 398,\n",
              " 'boy': 399,\n",
              " 'trip': 400,\n",
              " 'internet': 401,\n",
              " 'heart': 402,\n",
              " 'part': 403,\n",
              " 'www': 404,\n",
              " 'course': 405,\n",
              " 'st': 406,\n",
              " 'kind': 407,\n",
              " 'mind': 408,\n",
              " 'pain': 409,\n",
              " 'online': 410,\n",
              " 'fine': 411,\n",
              " 'seeing': 412,\n",
              " 'using': 413,\n",
              " 'pics': 414,\n",
              " 'break': 415,\n",
              " 'started': 416,\n",
              " 'picture': 417,\n",
              " 'add': 418,\n",
              " 'loved': 419,\n",
              " 'minutes': 420,\n",
              " 'quite': 421,\n",
              " 'cry': 422,\n",
              " 'awake': 423,\n",
              " 'update': 424,\n",
              " 'told': 425,\n",
              " 'facebook': 426,\n",
              " 'seriously': 427,\n",
              " 'breakfast': 428,\n",
              " 'wake': 429,\n",
              " 'june': 430,\n",
              " 'change': 431,\n",
              " 'boring': 432,\n",
              " 'lmao': 433,\n",
              " 'goes': 434,\n",
              " 'la': 435,\n",
              " 'starting': 436,\n",
              " 'season': 437,\n",
              " 'bought': 438,\n",
              " 'pay': 439,\n",
              " 'dude': 440,\n",
              " 'i': 441,\n",
              " 'concert': 442,\n",
              " 'care': 443,\n",
              " 'gets': 444,\n",
              " 'sunny': 445,\n",
              " 'ass': 446,\n",
              " 'open': 447,\n",
              " 'link': 448,\n",
              " 'crap': 449,\n",
              " 'k': 450,\n",
              " 'person': 451,\n",
              " 'site': 452,\n",
              " 'broke': 453,\n",
              " 'called': 454,\n",
              " 'hungry': 455,\n",
              " 'bring': 456,\n",
              " 'ice': 457,\n",
              " 'nite': 458,\n",
              " 'month': 459,\n",
              " 'walk': 460,\n",
              " 'drive': 461,\n",
              " \"'\": 462,\n",
              " 'afternoon': 463,\n",
              " 'reply': 464,\n",
              " 'instead': 465,\n",
              " 'asleep': 466,\n",
              " 'train': 467,\n",
              " 'anyway': 468,\n",
              " 'aw': 469,\n",
              " 'bye': 470,\n",
              " 'enjoying': 471,\n",
              " 'study': 472,\n",
              " 'heading': 473,\n",
              " 'fan': 474,\n",
              " 'til': 475,\n",
              " 'yea': 476,\n",
              " 'rock': 477,\n",
              " 'red': 478,\n",
              " 'lucky': 479,\n",
              " 'shower': 480,\n",
              " 'xd': 481,\n",
              " 'text': 482,\n",
              " 'favorite': 483,\n",
              " 'exams': 484,\n",
              " 'sleeping': 485,\n",
              " 'hoping': 486,\n",
              " 'jealous': 487,\n",
              " 'wonderful': 488,\n",
              " 'definitely': 489,\n",
              " 'finish': 490,\n",
              " 'together': 491,\n",
              " 'high': 492,\n",
              " 'dead': 493,\n",
              " 'running': 494,\n",
              " 'mad': 495,\n",
              " 'write': 496,\n",
              " 'homework': 497,\n",
              " 'fucking': 498,\n",
              " 'sister': 499,\n",
              " \"'s\": 500,\n",
              " 'fail': 501,\n",
              " 'sigh': 502,\n",
              " 'soooo': 503,\n",
              " 'happened': 504,\n",
              " 'suck': 505,\n",
              " 'city': 506,\n",
              " 'youtube': 507,\n",
              " 'congrats': 508,\n",
              " 'sore': 509,\n",
              " 'move': 510,\n",
              " 'sometimes': 511,\n",
              " 'problem': 512,\n",
              " 'died': 513,\n",
              " 'bout': 514,\n",
              " 'ask': 515,\n",
              " 'album': 516,\n",
              " 'movies': 517,\n",
              " 'dear': 518,\n",
              " 'means': 519,\n",
              " 'email': 520,\n",
              " 'l': 521,\n",
              " 'goin': 522,\n",
              " 'top': 523,\n",
              " \"we'll\": 524,\n",
              " 'loves': 525,\n",
              " 'drink': 526,\n",
              " 'cream': 527,\n",
              " 'ppl': 528,\n",
              " 'boys': 529,\n",
              " 'town': 530,\n",
              " 'cut': 531,\n",
              " 'set': 532,\n",
              " 'works': 533,\n",
              " 'happen': 534,\n",
              " 'dream': 535,\n",
              " 'comes': 536,\n",
              " 'ipod': 537,\n",
              " 'ones': 538,\n",
              " 'nap': 539,\n",
              " 'list': 540,\n",
              " 'tour': 541,\n",
              " 'less': 542,\n",
              " 'couple': 543,\n",
              " 'close': 544,\n",
              " 'weird': 545,\n",
              " 'laptop': 546,\n",
              " 'songs': 547,\n",
              " 'loving': 548,\n",
              " 'evening': 549,\n",
              " 'gym': 550,\n",
              " 'tickets': 551,\n",
              " 'water': 552,\n",
              " 'brother': 553,\n",
              " 'eyes': 554,\n",
              " 'church': 555,\n",
              " 'months': 556,\n",
              " 'final': 557,\n",
              " 'cat': 558,\n",
              " 'side': 559,\n",
              " 'ive': 560,\n",
              " 'g': 561,\n",
              " 'test': 562,\n",
              " 'listen': 563,\n",
              " 'dance': 564,\n",
              " 'perfect': 565,\n",
              " 'tea': 566,\n",
              " 'meeting': 567,\n",
              " 'english': 568,\n",
              " 'sound': 569,\n",
              " 'fall': 570,\n",
              " 'nd': 571,\n",
              " 'studying': 572,\n",
              " 'visit': 573,\n",
              " 'reason': 574,\n",
              " 'seem': 575,\n",
              " \"let's\": 576,\n",
              " 'turn': 577,\n",
              " 'ahh': 578,\n",
              " 'second': 579,\n",
              " 'moment': 580,\n",
              " 'fb': 581,\n",
              " 'knew': 582,\n",
              " 'interesting': 583,\n",
              " 'story': 584,\n",
              " 'air': 585,\n",
              " 'writing': 586,\n",
              " 'catch': 587,\n",
              " 'ate': 588,\n",
              " 'chocolate': 589,\n",
              " 'mood': 590,\n",
              " 'broken': 591,\n",
              " 'driving': 592,\n",
              " 'london': 593,\n",
              " 'store': 594,\n",
              " 'via': 595,\n",
              " 'ride': 596,\n",
              " 'lil': 597,\n",
              " 'wishing': 598,\n",
              " 'smile': 599,\n",
              " 'fast': 600,\n",
              " 'agree': 601,\n",
              " 'supposed': 602,\n",
              " 'moving': 603,\n",
              " 'forget': 604,\n",
              " 'xxx': 605,\n",
              " 'short': 606,\n",
              " 'word': 607,\n",
              " 'f': 608,\n",
              " 'star': 609,\n",
              " 'hmm': 610,\n",
              " 'three': 611,\n",
              " 'black': 612,\n",
              " 'photo': 613,\n",
              " 'worst': 614,\n",
              " 'sunshine': 615,\n",
              " 'pool': 616,\n",
              " 'worth': 617,\n",
              " 'page': 618,\n",
              " 'saying': 619,\n",
              " 'unfortunately': 620,\n",
              " 'clean': 621,\n",
              " 's': 622,\n",
              " 'sleepy': 623,\n",
              " 'yep': 624,\n",
              " 'plan': 625,\n",
              " 'awards': 626,\n",
              " 'm': 627,\n",
              " 'pictures': 628,\n",
              " 'hang': 629,\n",
              " 'gave': 630,\n",
              " 'understand': 631,\n",
              " 'dreams': 632,\n",
              " 'da': 633,\n",
              " 'college': 634,\n",
              " 'past': 635,\n",
              " 'jonas': 636,\n",
              " 'throat': 637,\n",
              " 'sent': 638,\n",
              " 'team': 639,\n",
              " 'wedding': 640,\n",
              " 'v': 641,\n",
              " 'vote': 642,\n",
              " 'uk': 643,\n",
              " 'sat': 644,\n",
              " 'park': 645,\n",
              " 'followfriday': 646,\n",
              " 'account': 647,\n",
              " 'myspace': 648,\n",
              " 'bday': 649,\n",
              " 'horrible': 650,\n",
              " 'worse': 651,\n",
              " 'tweeting': 652,\n",
              " 'wonder': 653,\n",
              " 'easy': 654,\n",
              " 'pick': 655,\n",
              " 'upset': 656,\n",
              " 'apparently': 657,\n",
              " 'whats': 658,\n",
              " 'cleaning': 659,\n",
              " 'hugs': 660,\n",
              " 'mum': 661,\n",
              " 'longer': 662,\n",
              " 'date': 663,\n",
              " 'holiday': 664,\n",
              " 'point': 665,\n",
              " 'doesnt': 666,\n",
              " 'slow': 667,\n",
              " 'mac': 668,\n",
              " 'drinking': 669,\n",
              " 'flight': 670,\n",
              " 'cannot': 671,\n",
              " 'earlier': 672,\n",
              " 'updates': 673,\n",
              " 'moon': 674,\n",
              " 'flu': 675,\n",
              " 'chance': 676,\n",
              " 'scared': 677,\n",
              " 'plans': 678,\n",
              " 'wtf': 679,\n",
              " 'green': 680,\n",
              " 'hand': 681,\n",
              " 'due': 682,\n",
              " 'lady': 683,\n",
              " 't': 684,\n",
              " 'plus': 685,\n",
              " 'mr': 686,\n",
              " 'rather': 687,\n",
              " 'fell': 688,\n",
              " 'tuesday': 689,\n",
              " 'miley': 690,\n",
              " 'ahhh': 691,\n",
              " 'special': 692,\n",
              " 'white': 693,\n",
              " 'spent': 694,\n",
              " 'fair': 695,\n",
              " 'bet': 696,\n",
              " 'wondering': 697,\n",
              " 'hanging': 698,\n",
              " 'huge': 699,\n",
              " 'mtv': 700,\n",
              " 'especially': 701,\n",
              " 'warm': 702,\n",
              " 'shame': 703,\n",
              " 'vacation': 704,\n",
              " 'slept': 705,\n",
              " 'band': 706,\n",
              " 'nope': 707,\n",
              " 'parents': 708,\n",
              " 'bus': 709,\n",
              " 'wear': 710,\n",
              " 'message': 711,\n",
              " 'website': 712,\n",
              " 'worry': 713,\n",
              " 'thx': 714,\n",
              " 'forever': 715,\n",
              " 'line': 716,\n",
              " 'body': 717,\n",
              " 'figure': 718,\n",
              " 'shows': 719,\n",
              " 'learn': 720,\n",
              " 'join': 721,\n",
              " 'words': 722,\n",
              " 'lazy': 723,\n",
              " 'spend': 724,\n",
              " 'cake': 725,\n",
              " 'voice': 726,\n",
              " 'lets': 727,\n",
              " 'stomach': 728,\n",
              " 'sadly': 729,\n",
              " 'die': 730,\n",
              " 'yummy': 731,\n",
              " 'hrs': 732,\n",
              " 'fans': 733,\n",
              " 'answer': 734,\n",
              " 'thursday': 735,\n",
              " 'camera': 736,\n",
              " 'looked': 737,\n",
              " 'thinks': 738,\n",
              " 'episode': 739,\n",
              " 'idk': 740,\n",
              " 'havent': 741,\n",
              " 'sims': 742,\n",
              " 'safe': 743,\n",
              " 'google': 744,\n",
              " 'dress': 745,\n",
              " 'chat': 746,\n",
              " 'number': 747,\n",
              " 'small': 748,\n",
              " 'david': 749,\n",
              " 'july': 750,\n",
              " 'crying': 751,\n",
              " 'graduation': 752,\n",
              " 'project': 753,\n",
              " 'mins': 754,\n",
              " 'shoes': 755,\n",
              " 'beer': 756,\n",
              " 'eye': 757,\n",
              " 'radio': 758,\n",
              " 'bike': 759,\n",
              " 'support': 760,\n",
              " 'gorgeous': 761,\n",
              " 'except': 762,\n",
              " 'bbq': 763,\n",
              " 'different': 764,\n",
              " 'liked': 765,\n",
              " 'tom': 766,\n",
              " 'met': 767,\n",
              " 'worked': 768,\n",
              " 'laugh': 769,\n",
              " 'club': 770,\n",
              " 'inside': 771,\n",
              " 'games': 772,\n",
              " 'meant': 773,\n",
              " 'paper': 774,\n",
              " 'photos': 775,\n",
              " 'rainy': 776,\n",
              " 'absolutely': 777,\n",
              " 'tummy': 778,\n",
              " 'pizza': 779,\n",
              " 'fix': 780,\n",
              " 'road': 781,\n",
              " 'lonely': 782,\n",
              " 'officially': 783,\n",
              " 'luv': 784,\n",
              " 'finals': 785,\n",
              " 'power': 786,\n",
              " 'shall': 787,\n",
              " 'save': 788,\n",
              " 'kill': 789,\n",
              " 'woo': 790,\n",
              " 'exciting': 791,\n",
              " 'needed': 792,\n",
              " 'brothers': 793,\n",
              " 'service': 794,\n",
              " 'airport': 795,\n",
              " 'garden': 796,\n",
              " 'books': 797,\n",
              " 'felt': 798,\n",
              " 'j': 799,\n",
              " 'twilight': 800,\n",
              " 'keeps': 801,\n",
              " 'hospital': 802,\n",
              " 'shop': 803,\n",
              " 'ps': 804,\n",
              " 'boyfriend': 805,\n",
              " 'played': 806,\n",
              " 'blue': 807,\n",
              " \"it'll\": 808,\n",
              " 'front': 809,\n",
              " 'shirt': 810,\n",
              " 'wine': 811,\n",
              " 'starts': 812,\n",
              " 'apple': 813,\n",
              " 'wishes': 814,\n",
              " 'living': 815,\n",
              " 'card': 816,\n",
              " 'yup': 817,\n",
              " 'decided': 818,\n",
              " 'exactly': 819,\n",
              " 'near': 820,\n",
              " 'beat': 821,\n",
              " 'chicken': 822,\n",
              " 'xoxo': 823,\n",
              " 'taken': 824,\n",
              " 'lame': 825,\n",
              " 'wednesday': 826,\n",
              " 'business': 827,\n",
              " 'annoying': 828,\n",
              " 'hmmm': 829,\n",
              " 'alright': 830,\n",
              " 'fact': 831,\n",
              " 'proud': 832,\n",
              " 'question': 833,\n",
              " 'french': 834,\n",
              " 'wit': 835,\n",
              " 'cup': 836,\n",
              " 'hug': 837,\n",
              " 'share': 838,\n",
              " 'walking': 839,\n",
              " 'sign': 840,\n",
              " 'hates': 841,\n",
              " 'ouch': 842,\n",
              " 'kid': 843,\n",
              " 'case': 844,\n",
              " 'cd': 845,\n",
              " 'babe': 846,\n",
              " 'son': 847,\n",
              " 'hubby': 848,\n",
              " 'order': 849,\n",
              " 'goodbye': 850,\n",
              " 'feet': 851,\n",
              " 'scary': 852,\n",
              " 'pass': 853,\n",
              " 'dm': 854,\n",
              " 'yo': 855,\n",
              " 'happens': 856,\n",
              " 'h': 857,\n",
              " 'packing': 858,\n",
              " 'alot': 859,\n",
              " 'minute': 860,\n",
              " 'bro': 861,\n",
              " 'mothers': 862,\n",
              " 'turned': 863,\n",
              " 'cos': 864,\n",
              " 'realized': 865,\n",
              " 'guitar': 866,\n",
              " 'knows': 867,\n",
              " 'jus': 868,\n",
              " 'lose': 869,\n",
              " 'isnt': 870,\n",
              " 'everybody': 871,\n",
              " 'sis': 872,\n",
              " 'clothes': 873,\n",
              " 'ahead': 874,\n",
              " 'download': 875,\n",
              " 'em': 876,\n",
              " 'touch': 877,\n",
              " 'killing': 878,\n",
              " 'mother': 879,\n",
              " 'behind': 880,\n",
              " 'app': 881,\n",
              " 'light': 882,\n",
              " 'drunk': 883,\n",
              " 'company': 884,\n",
              " 'giving': 885,\n",
              " 'web': 886,\n",
              " 'sit': 887,\n",
              " 'hahah': 888,\n",
              " 'film': 889,\n",
              " 'videos': 890,\n",
              " 'asked': 891,\n",
              " 'plane': 892,\n",
              " 'wife': 893,\n",
              " 'relaxing': 894,\n",
              " 'box': 895,\n",
              " 'vegas': 896,\n",
              " 'although': 897,\n",
              " 'mail': 898,\n",
              " 'passed': 899,\n",
              " 'sold': 900,\n",
              " 'whatever': 901,\n",
              " 'staying': 902,\n",
              " 'single': 903,\n",
              " 'vip': 904,\n",
              " 'eh': 905,\n",
              " 'waking': 906,\n",
              " 'terrible': 907,\n",
              " 'bummed': 908,\n",
              " 'indeed': 909,\n",
              " 'enjoyed': 910,\n",
              " 'peace': 911,\n",
              " 'fly': 912,\n",
              " 'interview': 913,\n",
              " 'along': 914,\n",
              " 'lately': 915,\n",
              " 'nights': 916,\n",
              " 'bb': 917,\n",
              " 'headed': 918,\n",
              " \"mother's\": 919,\n",
              " 'camp': 920,\n",
              " 'deal': 921,\n",
              " 'gosh': 922,\n",
              " 'country': 923,\n",
              " 'singing': 924,\n",
              " 'comment': 925,\n",
              " 'version': 926,\n",
              " 'min': 927,\n",
              " 'extra': 928,\n",
              " 'gettin': 929,\n",
              " 'posted': 930,\n",
              " 'huh': 931,\n",
              " 'freaking': 932,\n",
              " 'ohh': 933,\n",
              " 'random': 934,\n",
              " 'completely': 935,\n",
              " 'bloody': 936,\n",
              " 'o': 937,\n",
              " 'worried': 938,\n",
              " 'hotel': 939,\n",
              " 'self': 940,\n",
              " 'lakers': 941,\n",
              " 'cheese': 942,\n",
              " 'hangover': 943,\n",
              " 'sing': 944,\n",
              " 'dying': 945,\n",
              " 'fantastic': 946,\n",
              " 'art': 947,\n",
              " 'fml': 948,\n",
              " 'cook': 949,\n",
              " 'dark': 950,\n",
              " 'aint': 951,\n",
              " 'currently': 952,\n",
              " 'ooh': 953,\n",
              " 'daughter': 954,\n",
              " 'hun': 955,\n",
              " 'bar': 956,\n",
              " 'wearing': 957,\n",
              " 'pissed': 958,\n",
              " 'shoot': 959,\n",
              " 'changed': 960,\n",
              " 'fingers': 961,\n",
              " 'nobody': 962,\n",
              " 'bitch': 963,\n",
              " 'math': 964,\n",
              " 'revision': 965,\n",
              " 'closed': 966,\n",
              " 'awful': 967,\n",
              " 'sexy': 968,\n",
              " 'fat': 969,\n",
              " 'nyc': 970,\n",
              " 'usually': 971,\n",
              " 'yum': 972,\n",
              " 'upload': 973,\n",
              " 'ff': 974,\n",
              " 'history': 975,\n",
              " 'round': 976,\n",
              " 'blood': 977,\n",
              " 'pink': 978,\n",
              " 'dang': 979,\n",
              " 'traffic': 980,\n",
              " 'nearly': 981,\n",
              " 'dogs': 982,\n",
              " 'nick': 983,\n",
              " 'death': 984,\n",
              " 'nose': 985,\n",
              " \"how's\": 986,\n",
              " 'fire': 987,\n",
              " 'maths': 988,\n",
              " 'low': 989,\n",
              " 'problems': 990,\n",
              " 'others': 991,\n",
              " 'mommy': 992,\n",
              " 'dunno': 993,\n",
              " 'awwww': 994,\n",
              " 'd': 995,\n",
              " 'hold': 996,\n",
              " 'rd': 997,\n",
              " 'disappointed': 998,\n",
              " 'watchin': 999,\n",
              " 'ended': 1000,\n",
              " ...}"
            ]
          },
          "metadata": {
            "tags": []
          },
          "execution_count": 21
        }
      ]
    },
    {
      "cell_type": "code",
      "metadata": {
        "id": "rALK0mk0vW-D",
        "colab": {
          "base_uri": "https://localhost:8080/"
        },
        "outputId": "e3952608-db71-4cf4-822e-4be5f4c23297"
      },
      "source": [
        "testing_padded[20000]"
      ],
      "execution_count": null,
      "outputs": [
        {
          "output_type": "execute_result",
          "data": {
            "text/plain": [
              "array([   77,    62,  8212,   157, 14550,     1,   208,    80,    15,\n",
              "           0,     0,     0,     0,     0,     0,     0], dtype=int32)"
            ]
          },
          "metadata": {
            "tags": []
          },
          "execution_count": 22
        }
      ]
    },
    {
      "cell_type": "markdown",
      "metadata": {
        "id": "iGq9QXqJva-Z"
      },
      "source": [
        "**Decode the encoded sentences**"
      ]
    },
    {
      "cell_type": "code",
      "metadata": {
        "id": "F8kcL3dJvex1",
        "colab": {
          "base_uri": "https://localhost:8080/",
          "height": 35
        },
        "outputId": "21b58afe-db3d-446d-cb8e-44dc0d545752"
      },
      "source": [
        "reverse_word_dict = dict([(value, key) for (key, value) in word_dict.items()])\n",
        "\n",
        "def decode_review(text):\n",
        "    return ' '.join([reverse_word_dict.get(i, '?') for i in text])\n",
        "\n",
        "decode_review(testing_sequences[2000])"
      ],
      "execution_count": null,
      "outputs": [
        {
          "output_type": "execute_result",
          "data": {
            "application/vnd.google.colaboratory.intrinsic+json": {
              "type": "string"
            },
            "text/plain": [
              "'mcfox'"
            ]
          },
          "metadata": {
            "tags": []
          },
          "execution_count": 24
        }
      ]
    },
    {
      "cell_type": "markdown",
      "metadata": {
        "id": "IGaf0MbvvvAe"
      },
      "source": [
        "**Layer Definition**"
      ]
    },
    {
      "cell_type": "code",
      "metadata": {
        "id": "93Ln_9_Jv1nB",
        "colab": {
          "base_uri": "https://localhost:8080/"
        },
        "outputId": "edc5bff3-cd4e-4d39-8581-6c321ed7e25b"
      },
      "source": [
        "model = tf.keras.Sequential([\n",
        "    tf.keras.layers.Embedding(vocab_size, embedding_dim, input_length=max_length),\n",
        "    tf.keras.layers.Bidirectional(tf.keras.layers.LSTM(32)),\n",
        "    tf.keras.layers.Dense(24, activation='relu'),\n",
        "    tf.keras.layers.Dropout(.2),\n",
        "    tf.keras.layers.Dense(24, activation= 'relu'),\n",
        "    tf.keras.layers.Dropout(.2),\n",
        "    tf.keras.layers.Dense(1, activation='sigmoid')\n",
        "])\n",
        "model.compile(loss='binary_crossentropy',optimizer='adam',metrics=['accuracy'])\n",
        "model.summary()"
      ],
      "execution_count": null,
      "outputs": [
        {
          "output_type": "stream",
          "text": [
            "Model: \"sequential\"\n",
            "_________________________________________________________________\n",
            "Layer (type)                 Output Shape              Param #   \n",
            "=================================================================\n",
            "embedding (Embedding)        (None, 16, 16)            320000    \n",
            "_________________________________________________________________\n",
            "bidirectional (Bidirectional (None, 64)                12544     \n",
            "_________________________________________________________________\n",
            "dense (Dense)                (None, 24)                1560      \n",
            "_________________________________________________________________\n",
            "dropout (Dropout)            (None, 24)                0         \n",
            "_________________________________________________________________\n",
            "dense_1 (Dense)              (None, 24)                600       \n",
            "_________________________________________________________________\n",
            "dropout_1 (Dropout)          (None, 24)                0         \n",
            "_________________________________________________________________\n",
            "dense_2 (Dense)              (None, 1)                 25        \n",
            "=================================================================\n",
            "Total params: 334,729\n",
            "Trainable params: 334,729\n",
            "Non-trainable params: 0\n",
            "_________________________________________________________________\n"
          ],
          "name": "stdout"
        }
      ]
    },
    {
      "cell_type": "code",
      "metadata": {
        "id": "uhBS_Uqpv9kn",
        "colab": {
          "base_uri": "https://localhost:8080/"
        },
        "outputId": "8bdec97a-10f5-432b-c445-4a8c59593246"
      },
      "source": [
        "num_epochs = 5\n",
        "training_labels = np.array(training_labels)\n",
        "testing_labels  = np.array(testing_labels)\n",
        "training_padded = np.array(training_padded)\n",
        "testing_padded = np.array(testing_padded)\n",
        "\n",
        "history = model.fit(training_padded, training_labels, epochs=num_epochs, validation_data=(testing_padded, testing_labels), verbose=1)"
      ],
      "execution_count": null,
      "outputs": [
        {
          "output_type": "stream",
          "text": [
            "Epoch 1/5\n",
            "17500/17500 [==============================] - 208s 10ms/step - loss: 0.5090 - accuracy: 0.7468 - val_loss: 0.4566 - val_accuracy: 0.7848\n",
            "Epoch 2/5\n",
            "17500/17500 [==============================] - 175s 10ms/step - loss: 0.4399 - accuracy: 0.7947 - val_loss: 0.4524 - val_accuracy: 0.7874\n",
            "Epoch 3/5\n",
            "17500/17500 [==============================] - 174s 10ms/step - loss: 0.4205 - accuracy: 0.8056 - val_loss: 0.4505 - val_accuracy: 0.7866\n",
            "Epoch 4/5\n",
            "17500/17500 [==============================] - 173s 10ms/step - loss: 0.4015 - accuracy: 0.8162 - val_loss: 0.4553 - val_accuracy: 0.7848\n",
            "Epoch 5/5\n",
            "17500/17500 [==============================] - 173s 10ms/step - loss: 0.3854 - accuracy: 0.8252 - val_loss: 0.4654 - val_accuracy: 0.7822\n"
          ],
          "name": "stdout"
        }
      ]
    },
    {
      "cell_type": "code",
      "metadata": {
        "colab": {
          "base_uri": "https://localhost:8080/",
          "height": 547
        },
        "id": "bXI68JQrdIFs",
        "outputId": "25883b68-64a1-4f82-c18c-921b38ae7efc"
      },
      "source": [
        "def plot_graphs(history, string):\n",
        "  plt.plot(history.history[string])\n",
        "  plt.plot(history.history['val_'+string])\n",
        "  plt.xlabel(\"Epochs\")\n",
        "  plt.ylabel(string)\n",
        "  plt.legend([string, 'val_'+string])\n",
        "  plt.show()\n",
        "\n",
        "plot_graphs(history, 'accuracy')\n",
        "plot_graphs(history, 'loss')"
      ],
      "execution_count": null,
      "outputs": [
        {
          "output_type": "display_data",
          "data": {
            "image/png": "[encoded data removed]",
            "text/plain": [
              "<Figure size 432x288 with 1 Axes>"
            ]
          },
          "metadata": {
            "tags": [],
            "needs_background": "light"
          }
        },
        {
          "output_type": "display_data",
          "data": {
            "image/png": "[encoded data removed]",
            "text/plain": [
              "<Figure size 432x288 with 1 Axes>"
            ]
          },
          "metadata": {
            "tags": [],
            "needs_background": "light"
          }
        }
      ]
    },
    {
      "cell_type": "code",
      "metadata": {
        "colab": {
          "base_uri": "https://localhost:8080/"
        },
        "id": "Xdp_TjJ_dx5e",
        "outputId": "d3bbaf59-4bdc-4212-be2e-22af25d742ec"
      },
      "source": [
        "pred = model.predict(testing_padded)\n",
        "pred[0:10]"
      ],
      "execution_count": null,
      "outputs": [
        {
          "output_type": "execute_result",
          "data": {
            "text/plain": [
              "array([[0.8032519 ],\n",
              "       [0.9474561 ],\n",
              "       [0.15674245],\n",
              "       [0.5553319 ],\n",
              "       [0.61309075],\n",
              "       [0.34055877],\n",
              "       [0.9031741 ],\n",
              "       [0.0076293 ],\n",
              "       [0.9148342 ],\n",
              "       [0.09085728]], dtype=float32)"
            ]
          },
          "metadata": {
            "tags": []
          },
          "execution_count": 28
        }
      ]
    },
    {
      "cell_type": "code",
      "metadata": {
        "colab": {
          "base_uri": "https://localhost:8080/"
        },
        "id": "56PMm70peWXE",
        "outputId": "10cfa7d0-53ae-42cb-d8eb-a0e96dac75b3"
      },
      "source": [
        "tf.greater(pred, .5)[0:5]"
      ],
      "execution_count": null,
      "outputs": [
        {
          "output_type": "execute_result",
          "data": {
            "text/plain": [
              "<tf.Tensor: shape=(5, 1), dtype=bool, numpy=\n",
              "array([[ True],\n",
              "       [ True],\n",
              "       [False],\n",
              "       [ True],\n",
              "       [ True]])>"
            ]
          },
          "metadata": {
            "tags": []
          },
          "execution_count": 29
        }
      ]
    },
    {
      "cell_type": "code",
      "metadata": {
        "colab": {
          "base_uri": "https://localhost:8080/"
        },
        "id": "1yBHxdiweeWz",
        "outputId": "b5470dc3-7626-47f4-8e14-4e6a6a43341c"
      },
      "source": [
        "testing_padded[10]"
      ],
      "execution_count": null,
      "outputs": [
        {
          "output_type": "execute_result",
          "data": {
            "text/plain": [
              "array([   1, 2120,    1,    1,    0,    0,    0,    0,    0,    0,    0,\n",
              "          0,    0,    0,    0,    0], dtype=int32)"
            ]
          },
          "metadata": {
            "tags": []
          },
          "execution_count": 31
        }
      ]
    },
    {
      "cell_type": "code",
      "metadata": {
        "colab": {
          "base_uri": "https://localhost:8080/",
          "height": 35
        },
        "id": "O5PlJoEseiWs",
        "outputId": "693c6ef9-e269-47d5-a717-8776fa94b885"
      },
      "source": [
        "reverse_word_dict = dict([(value, key) for (key, value) in word_dict.items()])\n",
        "\n",
        "def decode_review(text):\n",
        "    return ' '.join([reverse_word_dict.get(i, '?') for i in text])\n",
        "\n",
        "decode_review(testing_padded[0])"
      ],
      "execution_count": null,
      "outputs": [
        {
          "output_type": "execute_result",
          "data": {
            "application/vnd.google.colaboratory.intrinsic+json": {
              "type": "string"
            },
            "text/plain": [
              "'oh yeah send video ? ? ? ? ? ? ? ? ? ? ? ?'"
            ]
          },
          "metadata": {
            "tags": []
          },
          "execution_count": 32
        }
      ]
    },
    {
      "cell_type": "code",
      "metadata": {
        "colab": {
          "base_uri": "https://localhost:8080/",
          "height": 35
        },
        "id": "wBOrhaqUlM4B",
        "outputId": "f49b62c2-1ef9-4322-deb5-19f0f33c3c28"
      },
      "source": [
        "decode_review(testing_padded[100230])"
      ],
      "execution_count": null,
      "outputs": [
        {
          "output_type": "execute_result",
          "data": {
            "application/vnd.google.colaboratory.intrinsic+json": {
              "type": "string"
            },
            "text/plain": [
              "'xd youre lucky got album still cant find hmv ? ? ? ? ? ? ?'"
            ]
          },
          "metadata": {
            "tags": []
          },
          "execution_count": 37
        }
      ]
    },
    {
      "cell_type": "code",
      "metadata": {
        "id": "YQ1ZtGRClYW-"
      },
      "source": [
        ""
      ],
      "execution_count": null,
      "outputs": []
    }
  ]
}