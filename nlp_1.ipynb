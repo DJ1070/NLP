{
  "nbformat": 4,
  "nbformat_minor": 0,
  "metadata": {
    "colab": {
      "name": "nlp-1.ipynb",
      "provenance": [],
      "collapsed_sections": [],
      "mount_file_id": "1xi_k-1SVBNWgzrqJtAPDO07Mor_Ae2Gd",
      "authorship_tag": "ABX9TyPwajn9R/Vp1CCAqxQwvmgE",
      "include_colab_link": true
    },
    "kernelspec": {
      "name": "python3",
      "display_name": "Python 3"
    },
    "language_info": {
      "name": "python"
    },
    "accelerator": "GPU"
  },
  "cells": [
    {
      "cell_type": "markdown",
      "metadata": {
        "id": "view-in-github",
        "colab_type": "text"
      },
      "source": [
        "<a href=\"https://colab.research.google.com/github/DJ1070/NLP/blob/main/nlp_1.ipynb\" target=\"_parent\"><img src=\"https://colab.research.google.com/assets/colab-badge.svg\" alt=\"Open In Colab\"/></a>"
      ]
    },
    {
      "cell_type": "code",
      "metadata": {
        "id": "gDWP-iVXDnry"
      },
      "source": [
        "import numpy as np \n",
        "import pandas as pd \n",
        "import seaborn as sns \n",
        "import matplotlib.pyplot as plt\n",
        "plt.style.use('ggplot')\n",
        "from sklearn.metrics import roc_curve, auc\n",
        "from sklearn.metrics import classification_report, confusion_matrix\n",
        "import nltk\n",
        "from nltk.corpus import stopwords\n",
        "#from nltk.stem import PorterStemmer \n",
        "from nltk.stem import SnowballStemmer\n",
        "from sklearn.model_selection import train_test_split\n",
        "from mlxtend.plotting import plot_confusion_matrix\n",
        "#import matplotlib.cm as cm\n",
        "#from matplotlib import rcParams\n",
        "from collections import Counter\n",
        "#from nltk.tokenize import RegexpTokenizer\n",
        "import re\n",
        "import string\n",
        "import tensorflow as tf\n",
        "from tensorflow.keras.layers import LSTM, Activation, Dense, Dropout, Input, Embedding\n",
        "from tensorflow.keras.models import Model\n",
        "from tensorflow.keras.optimizers import RMSprop\n",
        "from tensorflow.keras.preprocessing.text import Tokenizer\n",
        "from tensorflow.keras.preprocessing import sequence\n",
        "from tensorflow.keras.preprocessing.sequence import pad_sequences\n",
        "%matplotlib inline\n",
        "\n",
        "import warnings\n",
        "warnings.filterwarnings(\"ignore\")"
      ],
      "execution_count": 3,
      "outputs": []
    },
    {
      "cell_type": "code",
      "metadata": {
        "id": "obV7b3lEEBAd"
      },
      "source": [
        "df = pd.read_csv('/content/drive/MyDrive/Colab Notebooks/Data/training.1600000.processed.noemoticon.csv', header = None)"
      ],
      "execution_count": 4,
      "outputs": []
    },
    {
      "cell_type": "code",
      "metadata": {
        "colab": {
          "base_uri": "https://localhost:8080/",
          "height": 415
        },
        "id": "bM-CvMWxElfV",
        "outputId": "495a320c-5606-4481-cd5b-8996737c5a87"
      },
      "source": [
        "df"
      ],
      "execution_count": 5,
      "outputs": [
        {
          "output_type": "execute_result",
          "data": {
            "text/html": [
              "<div>\n",
              "<style scoped>\n",
              "    .dataframe tbody tr th:only-of-type {\n",
              "        vertical-align: middle;\n",
              "    }\n",
              "\n",
              "    .dataframe tbody tr th {\n",
              "        vertical-align: top;\n",
              "    }\n",
              "\n",
              "    .dataframe thead th {\n",
              "        text-align: right;\n",
              "    }\n",
              "</style>\n",
              "<table border=\"1\" class=\"dataframe\">\n",
              "  <thead>\n",
              "    <tr style=\"text-align: right;\">\n",
              "      <th></th>\n",
              "      <th>0</th>\n",
              "      <th>1</th>\n",
              "      <th>2</th>\n",
              "      <th>3</th>\n",
              "      <th>4</th>\n",
              "      <th>5</th>\n",
              "    </tr>\n",
              "  </thead>\n",
              "  <tbody>\n",
              "    <tr>\n",
              "      <th>0</th>\n",
              "      <td>0</td>\n",
              "      <td>1467810369</td>\n",
              "      <td>Mon Apr 06 22:19:45 PDT 2009</td>\n",
              "      <td>NO_QUERY</td>\n",
              "      <td>_TheSpecialOne_</td>\n",
              "      <td>@switchfoot http://twitpic.com/2y1zl - Awww, t...</td>\n",
              "    </tr>\n",
              "    <tr>\n",
              "      <th>1</th>\n",
              "      <td>0</td>\n",
              "      <td>1467810672</td>\n",
              "      <td>Mon Apr 06 22:19:49 PDT 2009</td>\n",
              "      <td>NO_QUERY</td>\n",
              "      <td>scotthamilton</td>\n",
              "      <td>is upset that he can't update his Facebook by ...</td>\n",
              "    </tr>\n",
              "    <tr>\n",
              "      <th>2</th>\n",
              "      <td>0</td>\n",
              "      <td>1467810917</td>\n",
              "      <td>Mon Apr 06 22:19:53 PDT 2009</td>\n",
              "      <td>NO_QUERY</td>\n",
              "      <td>mattycus</td>\n",
              "      <td>@Kenichan I dived many times for the ball. Man...</td>\n",
              "    </tr>\n",
              "    <tr>\n",
              "      <th>3</th>\n",
              "      <td>0</td>\n",
              "      <td>1467811184</td>\n",
              "      <td>Mon Apr 06 22:19:57 PDT 2009</td>\n",
              "      <td>NO_QUERY</td>\n",
              "      <td>ElleCTF</td>\n",
              "      <td>my whole body feels itchy and like its on fire</td>\n",
              "    </tr>\n",
              "    <tr>\n",
              "      <th>4</th>\n",
              "      <td>0</td>\n",
              "      <td>1467811193</td>\n",
              "      <td>Mon Apr 06 22:19:57 PDT 2009</td>\n",
              "      <td>NO_QUERY</td>\n",
              "      <td>Karoli</td>\n",
              "      <td>@nationwideclass no, it's not behaving at all....</td>\n",
              "    </tr>\n",
              "    <tr>\n",
              "      <th>...</th>\n",
              "      <td>...</td>\n",
              "      <td>...</td>\n",
              "      <td>...</td>\n",
              "      <td>...</td>\n",
              "      <td>...</td>\n",
              "      <td>...</td>\n",
              "    </tr>\n",
              "    <tr>\n",
              "      <th>1599995</th>\n",
              "      <td>4</td>\n",
              "      <td>2193601966</td>\n",
              "      <td>Tue Jun 16 08:40:49 PDT 2009</td>\n",
              "      <td>NO_QUERY</td>\n",
              "      <td>AmandaMarie1028</td>\n",
              "      <td>Just woke up. Having no school is the best fee...</td>\n",
              "    </tr>\n",
              "    <tr>\n",
              "      <th>1599996</th>\n",
              "      <td>4</td>\n",
              "      <td>2193601969</td>\n",
              "      <td>Tue Jun 16 08:40:49 PDT 2009</td>\n",
              "      <td>NO_QUERY</td>\n",
              "      <td>TheWDBoards</td>\n",
              "      <td>TheWDB.com - Very cool to hear old Walt interv...</td>\n",
              "    </tr>\n",
              "    <tr>\n",
              "      <th>1599997</th>\n",
              "      <td>4</td>\n",
              "      <td>2193601991</td>\n",
              "      <td>Tue Jun 16 08:40:49 PDT 2009</td>\n",
              "      <td>NO_QUERY</td>\n",
              "      <td>bpbabe</td>\n",
              "      <td>Are you ready for your MoJo Makeover? Ask me f...</td>\n",
              "    </tr>\n",
              "    <tr>\n",
              "      <th>1599998</th>\n",
              "      <td>4</td>\n",
              "      <td>2193602064</td>\n",
              "      <td>Tue Jun 16 08:40:49 PDT 2009</td>\n",
              "      <td>NO_QUERY</td>\n",
              "      <td>tinydiamondz</td>\n",
              "      <td>Happy 38th Birthday to my boo of alll time!!! ...</td>\n",
              "    </tr>\n",
              "    <tr>\n",
              "      <th>1599999</th>\n",
              "      <td>4</td>\n",
              "      <td>2193602129</td>\n",
              "      <td>Tue Jun 16 08:40:50 PDT 2009</td>\n",
              "      <td>NO_QUERY</td>\n",
              "      <td>RyanTrevMorris</td>\n",
              "      <td>happy #charitytuesday @theNSPCC @SparksCharity...</td>\n",
              "    </tr>\n",
              "  </tbody>\n",
              "</table>\n",
              "<p>1600000 rows × 6 columns</p>\n",
              "</div>"
            ],
            "text/plain": [
              "         0  ...                                                  5\n",
              "0        0  ...  @switchfoot http://twitpic.com/2y1zl - Awww, t...\n",
              "1        0  ...  is upset that he can't update his Facebook by ...\n",
              "2        0  ...  @Kenichan I dived many times for the ball. Man...\n",
              "3        0  ...    my whole body feels itchy and like its on fire \n",
              "4        0  ...  @nationwideclass no, it's not behaving at all....\n",
              "...     ..  ...                                                ...\n",
              "1599995  4  ...  Just woke up. Having no school is the best fee...\n",
              "1599996  4  ...  TheWDB.com - Very cool to hear old Walt interv...\n",
              "1599997  4  ...  Are you ready for your MoJo Makeover? Ask me f...\n",
              "1599998  4  ...  Happy 38th Birthday to my boo of alll time!!! ...\n",
              "1599999  4  ...  happy #charitytuesday @theNSPCC @SparksCharity...\n",
              "\n",
              "[1600000 rows x 6 columns]"
            ]
          },
          "metadata": {
            "tags": []
          },
          "execution_count": 5
        }
      ]
    },
    {
      "cell_type": "code",
      "metadata": {
        "id": "sTgrhXtYEOFM"
      },
      "source": [
        "df = df.drop([1, 2, 3, 4], axis = 1)"
      ],
      "execution_count": 6,
      "outputs": []
    },
    {
      "cell_type": "code",
      "metadata": {
        "id": "CvWbod1nFB5G"
      },
      "source": [
        "df.columns = ['label', 'tweet']"
      ],
      "execution_count": 7,
      "outputs": []
    },
    {
      "cell_type": "code",
      "metadata": {
        "id": "u6ne5o5SFKdH"
      },
      "source": [
        "df['label'] = df['label'].replace(4, 1)"
      ],
      "execution_count": 8,
      "outputs": []
    },
    {
      "cell_type": "code",
      "metadata": {
        "colab": {
          "base_uri": "https://localhost:8080/"
        },
        "id": "PfbXfDkyId3W",
        "outputId": "f853b857-82b0-489b-d7fc-498f506082ad"
      },
      "source": [
        "nltk.download('stopwords')\n",
        "list_stopwords = stopwords.words('english')\n",
        "stemmer = SnowballStemmer('english')\n",
        "regex = \"@\\S+|https?:\\S+|http?:\\S|[^A-Za-z0-9]+\""
      ],
      "execution_count": 9,
      "outputs": [
        {
          "output_type": "stream",
          "text": [
            "[nltk_data] Downloading package stopwords to /root/nltk_data...\n",
            "[nltk_data]   Unzipping corpora/stopwords.zip.\n"
          ],
          "name": "stdout"
        }
      ]
    },
    {
      "cell_type": "code",
      "metadata": {
        "id": "owpXRFmqKgRu"
      },
      "source": [
        "def preprocess(text):\n",
        "  text = re.sub(regex, ' ', str(text).lower()).strip()\n",
        "  words = [] # new/cleaned sentence\n",
        "  for word in text.split():\n",
        "    if word not in list_stopwords:\n",
        "      words.append(stemmer.stem(word))\n",
        "  return \" \".join(words)"
      ],
      "execution_count": 10,
      "outputs": []
    },
    {
      "cell_type": "code",
      "metadata": {
        "id": "ezFpIghTKg82"
      },
      "source": [
        "df.tweet = df.tweet.apply(lambda x: preprocess(x))"
      ],
      "execution_count": 11,
      "outputs": []
    },
    {
      "cell_type": "code",
      "metadata": {
        "colab": {
          "base_uri": "https://localhost:8080/",
          "height": 415
        },
        "id": "ljIHc5evKjTQ",
        "outputId": "21810c20-c606-4e15-9ac8-44a1623a8a99"
      },
      "source": [
        "df"
      ],
      "execution_count": 12,
      "outputs": [
        {
          "output_type": "execute_result",
          "data": {
            "text/html": [
              "<div>\n",
              "<style scoped>\n",
              "    .dataframe tbody tr th:only-of-type {\n",
              "        vertical-align: middle;\n",
              "    }\n",
              "\n",
              "    .dataframe tbody tr th {\n",
              "        vertical-align: top;\n",
              "    }\n",
              "\n",
              "    .dataframe thead th {\n",
              "        text-align: right;\n",
              "    }\n",
              "</style>\n",
              "<table border=\"1\" class=\"dataframe\">\n",
              "  <thead>\n",
              "    <tr style=\"text-align: right;\">\n",
              "      <th></th>\n",
              "      <th>label</th>\n",
              "      <th>tweet</th>\n",
              "    </tr>\n",
              "  </thead>\n",
              "  <tbody>\n",
              "    <tr>\n",
              "      <th>0</th>\n",
              "      <td>0</td>\n",
              "      <td>awww bummer shoulda got david carr third day</td>\n",
              "    </tr>\n",
              "    <tr>\n",
              "      <th>1</th>\n",
              "      <td>0</td>\n",
              "      <td>upset updat facebook text might cri result sch...</td>\n",
              "    </tr>\n",
              "    <tr>\n",
              "      <th>2</th>\n",
              "      <td>0</td>\n",
              "      <td>dive mani time ball manag save 50 rest go bound</td>\n",
              "    </tr>\n",
              "    <tr>\n",
              "      <th>3</th>\n",
              "      <td>0</td>\n",
              "      <td>whole bodi feel itchi like fire</td>\n",
              "    </tr>\n",
              "    <tr>\n",
              "      <th>4</th>\n",
              "      <td>0</td>\n",
              "      <td>behav mad see</td>\n",
              "    </tr>\n",
              "    <tr>\n",
              "      <th>...</th>\n",
              "      <td>...</td>\n",
              "      <td>...</td>\n",
              "    </tr>\n",
              "    <tr>\n",
              "      <th>1599995</th>\n",
              "      <td>1</td>\n",
              "      <td>woke school best feel ever</td>\n",
              "    </tr>\n",
              "    <tr>\n",
              "      <th>1599996</th>\n",
              "      <td>1</td>\n",
              "      <td>thewdb com cool hear old walt interview</td>\n",
              "    </tr>\n",
              "    <tr>\n",
              "      <th>1599997</th>\n",
              "      <td>1</td>\n",
              "      <td>readi mojo makeov ask detail</td>\n",
              "    </tr>\n",
              "    <tr>\n",
              "      <th>1599998</th>\n",
              "      <td>1</td>\n",
              "      <td>happi 38th birthday boo alll time tupac amaru ...</td>\n",
              "    </tr>\n",
              "    <tr>\n",
              "      <th>1599999</th>\n",
              "      <td>1</td>\n",
              "      <td>happi charitytuesday thenspcc sparkschar speak...</td>\n",
              "    </tr>\n",
              "  </tbody>\n",
              "</table>\n",
              "<p>1600000 rows × 2 columns</p>\n",
              "</div>"
            ],
            "text/plain": [
              "         label                                              tweet\n",
              "0            0       awww bummer shoulda got david carr third day\n",
              "1            0  upset updat facebook text might cri result sch...\n",
              "2            0    dive mani time ball manag save 50 rest go bound\n",
              "3            0                    whole bodi feel itchi like fire\n",
              "4            0                                      behav mad see\n",
              "...        ...                                                ...\n",
              "1599995      1                         woke school best feel ever\n",
              "1599996      1            thewdb com cool hear old walt interview\n",
              "1599997      1                       readi mojo makeov ask detail\n",
              "1599998      1  happi 38th birthday boo alll time tupac amaru ...\n",
              "1599999      1  happi charitytuesday thenspcc sparkschar speak...\n",
              "\n",
              "[1600000 rows x 2 columns]"
            ]
          },
          "metadata": {
            "tags": []
          },
          "execution_count": 12
        }
      ]
    },
    {
      "cell_type": "code",
      "metadata": {
        "id": "EoHauLpmKlZN"
      },
      "source": [
        "X = df['tweet'].to_list()\n",
        "y = df['label'].to_list()"
      ],
      "execution_count": 13,
      "outputs": []
    },
    {
      "cell_type": "code",
      "metadata": {
        "id": "N2p2FI00KnzN"
      },
      "source": [
        "x_train, x_test, y_train, y_test = train_test_split(X,y, test_size = .2, random_state = 3)"
      ],
      "execution_count": 14,
      "outputs": []
    },
    {
      "cell_type": "code",
      "metadata": {
        "colab": {
          "base_uri": "https://localhost:8080/"
        },
        "id": "3NVW96zEKqaY",
        "outputId": "554e3f8f-2ef8-4868-d688-475422edd230"
      },
      "source": [
        "vocab_size = 255000\n",
        "embedding_dim = 16\n",
        "max_length = 16\n",
        "trunc_type='post'\n",
        "padding_type='post'\n",
        "oov_tok = \"<OOV>\"\n",
        "\n",
        "\n",
        "make_tokens = Tokenizer(num_words=vocab_size, oov_token=oov_tok)\n",
        "make_tokens.fit_on_texts(x_train)\n",
        "\n",
        "word_dict = make_tokens.word_index\n",
        "\n",
        "training_sequences = make_tokens.texts_to_sequences(x_train)\n",
        "training_padded = pad_sequences(training_sequences, maxlen=max_length, padding=padding_type, truncating=trunc_type)\n",
        "\n",
        "testing_sequences = make_tokens.texts_to_sequences(x_test)\n",
        "testing_padded = pad_sequences(testing_sequences, maxlen=max_length, padding=padding_type, truncating=trunc_type)\n",
        "#testing_padded[0:5]\n",
        "len(word_dict)\n",
        "#word_dict"
      ],
      "execution_count": 15,
      "outputs": [
        {
          "output_type": "execute_result",
          "data": {
            "text/plain": [
              "248708"
            ]
          },
          "metadata": {
            "tags": []
          },
          "execution_count": 15
        }
      ]
    },
    {
      "cell_type": "code",
      "metadata": {
        "id": "IdIFrd-vKuxK"
      },
      "source": [
        "embeddings_dictionary = dict()\n",
        "embedding_dim = 100"
      ],
      "execution_count": 16,
      "outputs": []
    },
    {
      "cell_type": "code",
      "metadata": {
        "id": "HHSzq2jIK3xF"
      },
      "source": [
        "glove_file = open('/content/drive/MyDrive/Colab Notebooks/glove_100d_6b.txt')\n",
        "\n",
        "for line in glove_file:\n",
        "    records = line.split()\n",
        "    word = records[0]\n",
        "    vector_dimensions = np.asarray(records[1:], dtype='float32')\n",
        "    embeddings_dictionary [word] = vector_dimensions\n",
        "    \n",
        "glove_file.close()\n",
        "\n",
        "embeddings_matrix = np.zeros((vocab_size, embedding_dim))\n",
        "\n",
        "word_list = list(word_dict.keys())[0:vocab_size]\n",
        "for iword, word in enumerate(word_list):\n",
        "    embedding_vector = embeddings_dictionary.get(word)\n",
        "    if embedding_vector is not None:\n",
        "        embeddings_matrix[iword] = embedding_vector"
      ],
      "execution_count": 17,
      "outputs": []
    },
    {
      "cell_type": "code",
      "metadata": {
        "id": "xrrP2EdjLEz4"
      },
      "source": [
        "embedding_layer = tf.keras.layers.Embedding(vocab_size, embedding_dim, input_length=max_length, weights=[embeddings_matrix], trainable=False)"
      ],
      "execution_count": 18,
      "outputs": []
    },
    {
      "cell_type": "code",
      "metadata": {
        "colab": {
          "base_uri": "https://localhost:8080/",
          "height": 1000
        },
        "id": "EjuF9gfDLNxd",
        "outputId": "e3344c47-1947-4a29-d270-009959e25564"
      },
      "source": [
        "model = tf.keras.Sequential([\n",
        "        #embedding_layer,\n",
        "        tf.keras.layers.Embedding(vocab_size, embedding_dim, input_length=max_length),\n",
        "        tf.keras.layers.Bidirectional(tf.keras.layers.LSTM(128, return_sequences=True)),\n",
        "        tf.keras.layers.Dropout(0.3),\n",
        "        tf.keras.layers.Bidirectional(tf.keras.layers.LSTM(128, return_sequences=True)),\n",
        "        tf.keras.layers.Dropout(0.3),\n",
        "        tf.keras.layers.Bidirectional(tf.keras.layers.LSTM(128)),\n",
        "        tf.keras.layers.Dense(64, activation='relu'),\n",
        "        tf.keras.layers.Dropout(0.3),\n",
        "        tf.keras.layers.Dense(1, activation='sigmoid'),\n",
        "    ])\n",
        "model.compile(loss='binary_crossentropy',optimizer='adam',metrics=['accuracy'])\n",
        "model.summary()\n",
        "tf.keras.utils.plot_model(model, show_shapes=True)"
      ],
      "execution_count": 19,
      "outputs": [
        {
          "output_type": "stream",
          "text": [
            "Model: \"sequential\"\n",
            "_________________________________________________________________\n",
            "Layer (type)                 Output Shape              Param #   \n",
            "=================================================================\n",
            "embedding_1 (Embedding)      (None, 16, 100)           25500000  \n",
            "_________________________________________________________________\n",
            "bidirectional (Bidirectional (None, 16, 256)           234496    \n",
            "_________________________________________________________________\n",
            "dropout (Dropout)            (None, 16, 256)           0         \n",
            "_________________________________________________________________\n",
            "bidirectional_1 (Bidirection (None, 16, 256)           394240    \n",
            "_________________________________________________________________\n",
            "dropout_1 (Dropout)          (None, 16, 256)           0         \n",
            "_________________________________________________________________\n",
            "bidirectional_2 (Bidirection (None, 256)               394240    \n",
            "_________________________________________________________________\n",
            "dense (Dense)                (None, 64)                16448     \n",
            "_________________________________________________________________\n",
            "dropout_2 (Dropout)          (None, 64)                0         \n",
            "_________________________________________________________________\n",
            "dense_1 (Dense)              (None, 1)                 65        \n",
            "=================================================================\n",
            "Total params: 26,539,489\n",
            "Trainable params: 26,539,489\n",
            "Non-trainable params: 0\n",
            "_________________________________________________________________\n"
          ],
          "name": "stdout"
        },
        {
          "output_type": "execute_result",
          "data": {
            "image/png": "[encoded data removed]",
            "text/plain": [
              "<IPython.core.display.Image object>"
            ]
          },
          "metadata": {
            "tags": []
          },
          "execution_count": 19
        }
      ]
    },
    {
      "cell_type": "code",
      "metadata": {
        "id": "oxDZxHy0LOtl"
      },
      "source": [
        "from tensorflow.keras.callbacks import ModelCheckpoint, ReduceLROnPlateau, EarlyStopping\n",
        "\n",
        "path = \\\n",
        "'model_checkpoint/at_{epoch}-{val_accuracy}'\n",
        "\n",
        "model_checkpoint = ModelCheckpoint(filepath= path,\n",
        "                             save_weights_only = True,\n",
        "                             monitor = 'val_accuracy',\n",
        "                             mode = 'max',\n",
        "                             save_best_only = True,\n",
        "                             save_freq = 'epoch',\n",
        "                             verbose = 1)"
      ],
      "execution_count": 20,
      "outputs": []
    },
    {
      "cell_type": "code",
      "metadata": {
        "id": "tHuvjqQgXrmP"
      },
      "source": [
        "y_train_labels = y_train\n",
        "y_test_labels = y_test"
      ],
      "execution_count": 21,
      "outputs": []
    },
    {
      "cell_type": "code",
      "metadata": {
        "colab": {
          "base_uri": "https://localhost:8080/"
        },
        "id": "ev-9qMfhLUGv",
        "outputId": "11f41124-4968-4edd-d4a8-6a04eff57408"
      },
      "source": [
        "num_epochs = 5\n",
        "training_labels = np.array(y_train_labels)\n",
        "testing_labels  = np.array(y_test_labels)\n",
        "training_padded = np.array(training_padded)\n",
        "testing_padded  = np.array(testing_padded)\n",
        "\n",
        "history = model.fit(training_padded, training_labels,\n",
        "                    batch_size = 256,\n",
        "                    epochs=num_epochs,\n",
        "                    validation_split= .25,\n",
        "                    callbacks = [\n",
        "                                 model_checkpoint,\n",
        "                                 ReduceLROnPlateau(monitor= 'val_loss', cooldown=0, patience= 2),\n",
        "                                 EarlyStopping(monitor = 'val_loss', min_delta = 0.0001, patience = 2)\n",
        "                                 ],\n",
        "                    verbose=1)"
      ],
      "execution_count": 22,
      "outputs": [
        {
          "output_type": "stream",
          "text": [
            "Epoch 1/5\n",
            "3750/3750 [==============================] - 975s 250ms/step - loss: 0.5024 - accuracy: 0.7504 - val_loss: 0.4645 - val_accuracy: 0.7772\n",
            "\n",
            "Epoch 00001: val_accuracy improved from -inf to 0.77720, saving model to model_checkpoint/at_1-0.7771999835968018\n",
            "Epoch 2/5\n",
            "3750/3750 [==============================] - 927s 247ms/step - loss: 0.4218 - accuracy: 0.8051 - val_loss: 0.4598 - val_accuracy: 0.7811\n",
            "\n",
            "Epoch 00002: val_accuracy improved from 0.77720 to 0.78106, saving model to model_checkpoint/at_2-0.7810624837875366\n",
            "Epoch 3/5\n",
            "3750/3750 [==============================] - 929s 248ms/step - loss: 0.3733 - accuracy: 0.8316 - val_loss: 0.4827 - val_accuracy: 0.7767\n",
            "\n",
            "Epoch 00003: val_accuracy did not improve from 0.78106\n",
            "Epoch 4/5\n",
            "3750/3750 [==============================] - 930s 248ms/step - loss: 0.3241 - accuracy: 0.8556 - val_loss: 0.5383 - val_accuracy: 0.7705\n",
            "\n",
            "Epoch 00004: val_accuracy did not improve from 0.78106\n"
          ],
          "name": "stdout"
        }
      ]
    },
    {
      "cell_type": "code",
      "metadata": {
        "colab": {
          "base_uri": "https://localhost:8080/",
          "height": 354
        },
        "id": "62p-0AHwLeSu",
        "outputId": "e56ddd59-a896-4f73-cd5b-3f3ed93833d3"
      },
      "source": [
        "import matplotlib.pyplot as plt\n",
        "plt.figure(figsize=(10,5))\n",
        "plt.plot(history.history['accuracy'])\n",
        "plt.plot(history.history['val_accuracy'])\n",
        "plt.title('model accuracy')\n",
        "plt.ylabel('accuracy')\n",
        "plt.xlabel('epoch')\n",
        "plt.legend(['Train accuracy', 'Test accuracy'], loc='right')\n",
        "plt.show()"
      ],
      "execution_count": 23,
      "outputs": [
        {
          "output_type": "display_data",
          "data": {
            "image/png": "[encoded data removed]",
            "text/plain": [
              "<Figure size 720x360 with 1 Axes>"
            ]
          },
          "metadata": {
            "tags": [],
            "needs_background": "light"
          }
        }
      ]
    }
  ]
}