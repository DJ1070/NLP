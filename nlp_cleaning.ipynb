{
 "metadata": {
  "language_info": {
   "codemirror_mode": {
    "name": "ipython",
    "version": 3
   },
   "file_extension": ".py",
   "mimetype": "text/x-python",
   "name": "python",
   "nbconvert_exporter": "python",
   "pygments_lexer": "ipython3",
   "version": "3.8.5-final"
  },
  "orig_nbformat": 2,
  "kernelspec": {
   "name": "python385jvsc74a57bd0b3ba2566441a7c06988d0923437866b63cedc61552a5af99d1f4fb67d367b25f",
   "display_name": "Python 3.8.5 64-bit (conda)"
  }
 },
 "nbformat": 4,
 "nbformat_minor": 2,
 "cells": [
  {
   "cell_type": "code",
   "execution_count": 1,
   "metadata": {},
   "outputs": [],
   "source": [
    "import pandas as pd\n",
    "import numpy as np"
   ]
  },
  {
   "cell_type": "code",
   "execution_count": 2,
   "metadata": {},
   "outputs": [],
   "source": [
    "df = pd.read_csv('training.1600000.processed.noemoticon.csv')"
   ]
  },
  {
   "cell_type": "code",
   "execution_count": 3,
   "metadata": {},
   "outputs": [
    {
     "output_type": "execute_result",
     "data": {
      "text/plain": [
       "         0  1467810369  Mon Apr 06 22:19:45 PDT 2009  NO_QUERY  \\\n",
       "0        0  1467810672  Mon Apr 06 22:19:49 PDT 2009  NO_QUERY   \n",
       "1        0  1467810917  Mon Apr 06 22:19:53 PDT 2009  NO_QUERY   \n",
       "2        0  1467811184  Mon Apr 06 22:19:57 PDT 2009  NO_QUERY   \n",
       "3        0  1467811193  Mon Apr 06 22:19:57 PDT 2009  NO_QUERY   \n",
       "4        0  1467811372  Mon Apr 06 22:20:00 PDT 2009  NO_QUERY   \n",
       "...     ..         ...                           ...       ...   \n",
       "1599994  4  2193601966  Tue Jun 16 08:40:49 PDT 2009  NO_QUERY   \n",
       "1599995  4  2193601969  Tue Jun 16 08:40:49 PDT 2009  NO_QUERY   \n",
       "1599996  4  2193601991  Tue Jun 16 08:40:49 PDT 2009  NO_QUERY   \n",
       "1599997  4  2193602064  Tue Jun 16 08:40:49 PDT 2009  NO_QUERY   \n",
       "1599998  4  2193602129  Tue Jun 16 08:40:50 PDT 2009  NO_QUERY   \n",
       "\n",
       "         _TheSpecialOne_  \\\n",
       "0          scotthamilton   \n",
       "1               mattycus   \n",
       "2                ElleCTF   \n",
       "3                 Karoli   \n",
       "4               joy_wolf   \n",
       "...                  ...   \n",
       "1599994  AmandaMarie1028   \n",
       "1599995      TheWDBoards   \n",
       "1599996           bpbabe   \n",
       "1599997     tinydiamondz   \n",
       "1599998   RyanTrevMorris   \n",
       "\n",
       "        @switchfoot http://twitpic.com/2y1zl - Awww, that's a bummer.  You shoulda got David Carr of Third Day to do it. ;D  \n",
       "0        is upset that he can't update his Facebook by ...                                                                   \n",
       "1        @Kenichan I dived many times for the ball. Man...                                                                   \n",
       "2          my whole body feels itchy and like its on fire                                                                    \n",
       "3        @nationwideclass no, it's not behaving at all....                                                                   \n",
       "4                            @Kwesidei not the whole crew                                                                    \n",
       "...                                                    ...                                                                   \n",
       "1599994  Just woke up. Having no school is the best fee...                                                                   \n",
       "1599995  TheWDB.com - Very cool to hear old Walt interv...                                                                   \n",
       "1599996  Are you ready for your MoJo Makeover? Ask me f...                                                                   \n",
       "1599997  Happy 38th Birthday to my boo of alll time!!! ...                                                                   \n",
       "1599998  happy #charitytuesday @theNSPCC @SparksCharity...                                                                   \n",
       "\n",
       "[1599999 rows x 6 columns]"
      ],
      "text/html": "<div>\n<style scoped>\n    .dataframe tbody tr th:only-of-type {\n        vertical-align: middle;\n    }\n\n    .dataframe tbody tr th {\n        vertical-align: top;\n    }\n\n    .dataframe thead th {\n        text-align: right;\n    }\n</style>\n<table border=\"1\" class=\"dataframe\">\n  <thead>\n    <tr style=\"text-align: right;\">\n      <th></th>\n      <th>0</th>\n      <th>1467810369</th>\n      <th>Mon Apr 06 22:19:45 PDT 2009</th>\n      <th>NO_QUERY</th>\n      <th>_TheSpecialOne_</th>\n      <th>@switchfoot http://twitpic.com/2y1zl - Awww, that's a bummer.  You shoulda got David Carr of Third Day to do it. ;D</th>\n    </tr>\n  </thead>\n  <tbody>\n    <tr>\n      <th>0</th>\n      <td>0</td>\n      <td>1467810672</td>\n      <td>Mon Apr 06 22:19:49 PDT 2009</td>\n      <td>NO_QUERY</td>\n      <td>scotthamilton</td>\n      <td>is upset that he can't update his Facebook by ...</td>\n    </tr>\n    <tr>\n      <th>1</th>\n      <td>0</td>\n      <td>1467810917</td>\n      <td>Mon Apr 06 22:19:53 PDT 2009</td>\n      <td>NO_QUERY</td>\n      <td>mattycus</td>\n      <td>@Kenichan I dived many times for the ball. Man...</td>\n    </tr>\n    <tr>\n      <th>2</th>\n      <td>0</td>\n      <td>1467811184</td>\n      <td>Mon Apr 06 22:19:57 PDT 2009</td>\n      <td>NO_QUERY</td>\n      <td>ElleCTF</td>\n      <td>my whole body feels itchy and like its on fire</td>\n    </tr>\n    <tr>\n      <th>3</th>\n      <td>0</td>\n      <td>1467811193</td>\n      <td>Mon Apr 06 22:19:57 PDT 2009</td>\n      <td>NO_QUERY</td>\n      <td>Karoli</td>\n      <td>@nationwideclass no, it's not behaving at all....</td>\n    </tr>\n    <tr>\n      <th>4</th>\n      <td>0</td>\n      <td>1467811372</td>\n      <td>Mon Apr 06 22:20:00 PDT 2009</td>\n      <td>NO_QUERY</td>\n      <td>joy_wolf</td>\n      <td>@Kwesidei not the whole crew</td>\n    </tr>\n    <tr>\n      <th>...</th>\n      <td>...</td>\n      <td>...</td>\n      <td>...</td>\n      <td>...</td>\n      <td>...</td>\n      <td>...</td>\n    </tr>\n    <tr>\n      <th>1599994</th>\n      <td>4</td>\n      <td>2193601966</td>\n      <td>Tue Jun 16 08:40:49 PDT 2009</td>\n      <td>NO_QUERY</td>\n      <td>AmandaMarie1028</td>\n      <td>Just woke up. Having no school is the best fee...</td>\n    </tr>\n    <tr>\n      <th>1599995</th>\n      <td>4</td>\n      <td>2193601969</td>\n      <td>Tue Jun 16 08:40:49 PDT 2009</td>\n      <td>NO_QUERY</td>\n      <td>TheWDBoards</td>\n      <td>TheWDB.com - Very cool to hear old Walt interv...</td>\n    </tr>\n    <tr>\n      <th>1599996</th>\n      <td>4</td>\n      <td>2193601991</td>\n      <td>Tue Jun 16 08:40:49 PDT 2009</td>\n      <td>NO_QUERY</td>\n      <td>bpbabe</td>\n      <td>Are you ready for your MoJo Makeover? Ask me f...</td>\n    </tr>\n    <tr>\n      <th>1599997</th>\n      <td>4</td>\n      <td>2193602064</td>\n      <td>Tue Jun 16 08:40:49 PDT 2009</td>\n      <td>NO_QUERY</td>\n      <td>tinydiamondz</td>\n      <td>Happy 38th Birthday to my boo of alll time!!! ...</td>\n    </tr>\n    <tr>\n      <th>1599998</th>\n      <td>4</td>\n      <td>2193602129</td>\n      <td>Tue Jun 16 08:40:50 PDT 2009</td>\n      <td>NO_QUERY</td>\n      <td>RyanTrevMorris</td>\n      <td>happy #charitytuesday @theNSPCC @SparksCharity...</td>\n    </tr>\n  </tbody>\n</table>\n<p>1599999 rows × 6 columns</p>\n</div>"
     },
     "metadata": {},
     "execution_count": 3
    }
   ],
   "source": [
    "df"
   ]
  },
  {
   "cell_type": "code",
   "execution_count": 4,
   "metadata": {},
   "outputs": [],
   "source": [
    "df.columns = ['0-4', 'number', 'date', 'no_q', 'user', 'text']"
   ]
  },
  {
   "cell_type": "code",
   "execution_count": 5,
   "metadata": {},
   "outputs": [
    {
     "output_type": "execute_result",
     "data": {
      "text/plain": [
       "Index(['0-4', 'number', 'date', 'no_q', 'user', 'text'], dtype='object')"
      ]
     },
     "metadata": {},
     "execution_count": 5
    }
   ],
   "source": [
    "df.columns"
   ]
  },
  {
   "cell_type": "code",
   "execution_count": 14,
   "metadata": {},
   "outputs": [],
   "source": [
    "contain_values = df[df['text'].str.contains('upset')]"
   ]
  },
  {
   "cell_type": "code",
   "execution_count": 17,
   "metadata": {},
   "outputs": [
    {
     "output_type": "execute_result",
     "data": {
      "text/plain": [
       "        0-4      number                          date      no_q  \\\n",
       "680905    0  2249610766  Fri Jun 19 22:39:55 PDT 2009  NO_QUERY   \n",
       "66977     0  1692092820  Sun May 03 19:15:40 PDT 2009  NO_QUERY   \n",
       "307710    0  2000536301  Mon Jun 01 22:20:20 PDT 2009  NO_QUERY   \n",
       "205731    0  1972951499  Sat May 30 10:11:38 PDT 2009  NO_QUERY   \n",
       "230139    0  1978670128  Sun May 31 00:05:00 PDT 2009  NO_QUERY   \n",
       "...     ...         ...                           ...       ...   \n",
       "415161    0  2060995520  Sat Jun 06 19:58:49 PDT 2009  NO_QUERY   \n",
       "341877    0  2015140468  Wed Jun 03 03:49:33 PDT 2009  NO_QUERY   \n",
       "597973    0  2219403311  Thu Jun 18 00:27:35 PDT 2009  NO_QUERY   \n",
       "136221    0  1880051821  Thu May 21 23:57:05 PDT 2009  NO_QUERY   \n",
       "56546     0  1685437975  Sun May 03 00:23:29 PDT 2009  NO_QUERY   \n",
       "\n",
       "                 user                                               text  \n",
       "680905        0mnip0d                i'm upset.this wound have to heal.   \n",
       "66977          1_50_1  @ABabyBlueEyes heeyy  u didnt get my email.. u...  \n",
       "307710      2bletrble  Im upset, pissed, worried, depressed, anxious,...  \n",
       "205731     404leilani  something is sooo wrong with my picture... thi...  \n",
       "230139  5_cats_4_dogs  This has been a sad sad week for the anipals, ...  \n",
       "...               ...                                                ...  \n",
       "415161         zorago  @tehskinz right so you say  I dint mment to up...  \n",
       "341877       zozo1976               is upset cause the blues are losing   \n",
       "597973       zozo1976  @kyleandjackieo Jackie!NKOTB cancelled their c...  \n",
       "136221       zozo1976  is upset cause i am not at the pussycat dolls ...  \n",
       "56546          zzjulz  @budget_blonde i was very upset the warriors l...  \n",
       "\n",
       "[2843 rows x 6 columns]"
      ],
      "text/html": "<div>\n<style scoped>\n    .dataframe tbody tr th:only-of-type {\n        vertical-align: middle;\n    }\n\n    .dataframe tbody tr th {\n        vertical-align: top;\n    }\n\n    .dataframe thead th {\n        text-align: right;\n    }\n</style>\n<table border=\"1\" class=\"dataframe\">\n  <thead>\n    <tr style=\"text-align: right;\">\n      <th></th>\n      <th>0-4</th>\n      <th>number</th>\n      <th>date</th>\n      <th>no_q</th>\n      <th>user</th>\n      <th>text</th>\n    </tr>\n  </thead>\n  <tbody>\n    <tr>\n      <th>680905</th>\n      <td>0</td>\n      <td>2249610766</td>\n      <td>Fri Jun 19 22:39:55 PDT 2009</td>\n      <td>NO_QUERY</td>\n      <td>0mnip0d</td>\n      <td>i'm upset.this wound have to heal.</td>\n    </tr>\n    <tr>\n      <th>66977</th>\n      <td>0</td>\n      <td>1692092820</td>\n      <td>Sun May 03 19:15:40 PDT 2009</td>\n      <td>NO_QUERY</td>\n      <td>1_50_1</td>\n      <td>@ABabyBlueEyes heeyy  u didnt get my email.. u...</td>\n    </tr>\n    <tr>\n      <th>307710</th>\n      <td>0</td>\n      <td>2000536301</td>\n      <td>Mon Jun 01 22:20:20 PDT 2009</td>\n      <td>NO_QUERY</td>\n      <td>2bletrble</td>\n      <td>Im upset, pissed, worried, depressed, anxious,...</td>\n    </tr>\n    <tr>\n      <th>205731</th>\n      <td>0</td>\n      <td>1972951499</td>\n      <td>Sat May 30 10:11:38 PDT 2009</td>\n      <td>NO_QUERY</td>\n      <td>404leilani</td>\n      <td>something is sooo wrong with my picture... thi...</td>\n    </tr>\n    <tr>\n      <th>230139</th>\n      <td>0</td>\n      <td>1978670128</td>\n      <td>Sun May 31 00:05:00 PDT 2009</td>\n      <td>NO_QUERY</td>\n      <td>5_cats_4_dogs</td>\n      <td>This has been a sad sad week for the anipals, ...</td>\n    </tr>\n    <tr>\n      <th>...</th>\n      <td>...</td>\n      <td>...</td>\n      <td>...</td>\n      <td>...</td>\n      <td>...</td>\n      <td>...</td>\n    </tr>\n    <tr>\n      <th>415161</th>\n      <td>0</td>\n      <td>2060995520</td>\n      <td>Sat Jun 06 19:58:49 PDT 2009</td>\n      <td>NO_QUERY</td>\n      <td>zorago</td>\n      <td>@tehskinz right so you say  I dint mment to up...</td>\n    </tr>\n    <tr>\n      <th>341877</th>\n      <td>0</td>\n      <td>2015140468</td>\n      <td>Wed Jun 03 03:49:33 PDT 2009</td>\n      <td>NO_QUERY</td>\n      <td>zozo1976</td>\n      <td>is upset cause the blues are losing</td>\n    </tr>\n    <tr>\n      <th>597973</th>\n      <td>0</td>\n      <td>2219403311</td>\n      <td>Thu Jun 18 00:27:35 PDT 2009</td>\n      <td>NO_QUERY</td>\n      <td>zozo1976</td>\n      <td>@kyleandjackieo Jackie!NKOTB cancelled their c...</td>\n    </tr>\n    <tr>\n      <th>136221</th>\n      <td>0</td>\n      <td>1880051821</td>\n      <td>Thu May 21 23:57:05 PDT 2009</td>\n      <td>NO_QUERY</td>\n      <td>zozo1976</td>\n      <td>is upset cause i am not at the pussycat dolls ...</td>\n    </tr>\n    <tr>\n      <th>56546</th>\n      <td>0</td>\n      <td>1685437975</td>\n      <td>Sun May 03 00:23:29 PDT 2009</td>\n      <td>NO_QUERY</td>\n      <td>zzjulz</td>\n      <td>@budget_blonde i was very upset the warriors l...</td>\n    </tr>\n  </tbody>\n</table>\n<p>2843 rows × 6 columns</p>\n</div>"
     },
     "metadata": {},
     "execution_count": 17
    }
   ],
   "source": [
    "contain_values.sort_values('user')"
   ]
  }
 ]
}