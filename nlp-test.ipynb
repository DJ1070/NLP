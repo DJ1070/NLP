{
  "nbformat": 4,
  "nbformat_minor": 0,
  "metadata": {
    "colab": {
      "name": "nlp.ipynb",
      "provenance": [],
      "collapsed_sections": []
    },
    "kernelspec": {
      "name": "python385jvsc74a57bd0b3ba2566441a7c06988d0923437866b63cedc61552a5af99d1f4fb67d367b25f",
      "display_name": "Python 3.8.5 64-bit (conda)"
    },
    "language_info": {
      "name": "python",
      "version": "3.8.5"
    }
  },
  "cells": [
    {
      "cell_type": "code",
      "metadata": {
        "id": "fpHkcD_iLq2u"
      },
      "source": [
        "import numpy as np \n",
        "import pandas as pd \n",
        "import seaborn as sns \n",
        "import matplotlib.pyplot as plt\n",
        "plt.style.use('ggplot')\n",
        "from sklearn.metrics import roc_curve, auc\n",
        "from sklearn.metrics import classification_report, confusion_matrix\n",
        "import nltk\n",
        "from nltk.corpus import stopwords\n",
        "from nltk.stem import PorterStemmer \n",
        "from sklearn.model_selection import train_test_split\n",
        "#from mlxtend.plotting import plot_confusion_matrix\n",
        "import matplotlib.cm as cm\n",
        "from matplotlib import rcParams\n",
        "from collections import Counter\n",
        "from nltk.tokenize import RegexpTokenizer\n",
        "import re\n",
        "import string\n",
        "# from tensorflow.keras.layers import LSTM, Activation, Dense, Dropout, Input, Embedding\n",
        "# from tensorflow.keras.models import Model\n",
        "# from tensorflow.keras.optimizers import RMSprop\n",
        "# from tensorflow.keras.preprocessing.text import Tokenizer\n",
        "# from tensorflow.keras.preprocessing import sequence\n",
        "%matplotlib inline\n",
        "\n",
        "import warnings\n",
        "warnings.filterwarnings(\"ignore\")"
      ],
      "execution_count": 1,
      "outputs": []
    },
    {
      "cell_type": "code",
      "metadata": {
        "colab": {
          "base_uri": "https://localhost:8080/"
        },
        "id": "U8B1S4hDZqlf",
        "outputId": "6185bb1a-ea4c-4ccb-b6f1-cde49234a499"
      },
      "source": [
        "# from google.colab import drive\n",
        "# drive.mount('/content/drive')"
      ],
      "execution_count": 25,
      "outputs": [
        {
          "output_type": "stream",
          "text": [
            "Mounted at /content/drive\n"
          ],
          "name": "stdout"
        }
      ]
    },
    {
      "cell_type": "code",
      "metadata": {
        "id": "BiSWsT-2Z4Hc"
      },
      "source": [
        "# data = pd.read_csv('https://drive.google.com/file/d/1mqJzGqPJbLIKgdv1UOAKD6ACQTUEKgCo/view?usp=sharing/training.1600000.processed.noemoticon.csv', encoding = \"ISO-8859-1\", engine=\"python\", sep = '\",\"')\n",
        "# data.columns = [\"label\", \"time\", \"date\", \"query\", \"username\", \"text\"]"
      ],
      "execution_count": null,
      "outputs": []
    },
    {
      "cell_type": "code",
      "metadata": {
        "id": "ZZaemfYfMAGH",
        "colab": {
          "base_uri": "https://localhost:8080/"
        },
        "outputId": "f89ece90-8248-4015-b087-b09984748b17"
      },
      "source": [
        "#df = pd.read_csv('https://drive.google.com/file/d/1rbPSejEsGZhcmGpDcoc1Xo1brPtEjia_/view?usp=sharing/twitter_cleaning_one.csv', encoding = \"ISO-8859-1\", engine=\"python\", sep = ',', error_bad_lines=False)\n",
        "df = pd.read_csv('twitter_cleaning_one.csv', engine=\"python\", sep = ',', error_bad_lines=False)"
      ],
      "execution_count": 19,
      "outputs": []
    },
    {
      "cell_type": "code",
      "metadata": {
        "id": "Nzvdbz6qP9jc",
        "colab": {
          "base_uri": "https://localhost:8080/",
          "height": 419
        },
        "outputId": "96bc4561-dc33-4fbf-d21c-16186019f843"
      },
      "source": [
        "df"
      ],
      "execution_count": 20,
      "outputs": [
        {
          "output_type": "execute_result",
          "data": {
            "text/plain": [
              "         Unnamed: 0  label                                               text\n",
              "0                 0      0  @switchfoot   - awww, that's a bummer.  you sh...\n",
              "1                 1      0  is upset that he can't update his facebook by ...\n",
              "2                 2      0  @kenichan i dived many times for the ball. man...\n",
              "3                 3      0    my whole body feels itchy and like its on fire \n",
              "4                 4      0  @nationwideclass no, it's not behaving at all....\n",
              "...             ...    ...                                                ...\n",
              "1599995     1599995      1  just woke up. having no school is the best fee...\n",
              "1599996     1599996      1  thewdb.com - very cool to hear old walt interv...\n",
              "1599997     1599997      1  are you ready for your mojo makeover? ask me f...\n",
              "1599998     1599998      1  happy 38th birthday to my boo of alll time!!! ...\n",
              "1599999     1599999      1  happy #charitytuesday @thenspcc @sparkscharity...\n",
              "\n",
              "[1600000 rows x 3 columns]"
            ],
            "text/html": "<div>\n<style scoped>\n    .dataframe tbody tr th:only-of-type {\n        vertical-align: middle;\n    }\n\n    .dataframe tbody tr th {\n        vertical-align: top;\n    }\n\n    .dataframe thead th {\n        text-align: right;\n    }\n</style>\n<table border=\"1\" class=\"dataframe\">\n  <thead>\n    <tr style=\"text-align: right;\">\n      <th></th>\n      <th>Unnamed: 0</th>\n      <th>label</th>\n      <th>text</th>\n    </tr>\n  </thead>\n  <tbody>\n    <tr>\n      <th>0</th>\n      <td>0</td>\n      <td>0</td>\n      <td>@switchfoot   - awww, that's a bummer.  you sh...</td>\n    </tr>\n    <tr>\n      <th>1</th>\n      <td>1</td>\n      <td>0</td>\n      <td>is upset that he can't update his facebook by ...</td>\n    </tr>\n    <tr>\n      <th>2</th>\n      <td>2</td>\n      <td>0</td>\n      <td>@kenichan i dived many times for the ball. man...</td>\n    </tr>\n    <tr>\n      <th>3</th>\n      <td>3</td>\n      <td>0</td>\n      <td>my whole body feels itchy and like its on fire</td>\n    </tr>\n    <tr>\n      <th>4</th>\n      <td>4</td>\n      <td>0</td>\n      <td>@nationwideclass no, it's not behaving at all....</td>\n    </tr>\n    <tr>\n      <th>...</th>\n      <td>...</td>\n      <td>...</td>\n      <td>...</td>\n    </tr>\n    <tr>\n      <th>1599995</th>\n      <td>1599995</td>\n      <td>1</td>\n      <td>just woke up. having no school is the best fee...</td>\n    </tr>\n    <tr>\n      <th>1599996</th>\n      <td>1599996</td>\n      <td>1</td>\n      <td>thewdb.com - very cool to hear old walt interv...</td>\n    </tr>\n    <tr>\n      <th>1599997</th>\n      <td>1599997</td>\n      <td>1</td>\n      <td>are you ready for your mojo makeover? ask me f...</td>\n    </tr>\n    <tr>\n      <th>1599998</th>\n      <td>1599998</td>\n      <td>1</td>\n      <td>happy 38th birthday to my boo of alll time!!! ...</td>\n    </tr>\n    <tr>\n      <th>1599999</th>\n      <td>1599999</td>\n      <td>1</td>\n      <td>happy #charitytuesday @thenspcc @sparkscharity...</td>\n    </tr>\n  </tbody>\n</table>\n<p>1600000 rows × 3 columns</p>\n</div>"
          },
          "metadata": {},
          "execution_count": 20
        }
      ]
    },
    {
      "cell_type": "code",
      "execution_count": 30,
      "metadata": {},
      "outputs": [],
      "source": [
        "df1 = df.iloc[0:10000]"
      ]
    },
    {
      "cell_type": "code",
      "execution_count": 22,
      "metadata": {},
      "outputs": [],
      "source": [
        "df2 = df.iloc[-10000:-1]"
      ]
    },
    {
      "cell_type": "code",
      "execution_count": 23,
      "metadata": {},
      "outputs": [
        {
          "output_type": "execute_result",
          "data": {
            "text/plain": [
              "         Unnamed: 0  label                                               text\n",
              "1590000     1590000      1                                @michaelahills yep \n",
              "1590001     1590001      1  need to do homework.. can't wait for lvatt.. i...\n",
              "1590002     1590002      1  @annesudworth gosh, that's hectic... tea? i'm ...\n",
              "1590003     1590003      1                @hana77  daily:  8am - 12 midnight \n",
              "1590004     1590004      1  watching the staff in the posh soho face cream...\n",
              "...             ...    ...                                                ...\n",
              "1599994     1599994      1  @cliff_forster yeah, that does work better tha...\n",
              "1599995     1599995      1  just woke up. having no school is the best fee...\n",
              "1599996     1599996      1  thewdb.com - very cool to hear old walt interv...\n",
              "1599997     1599997      1  are you ready for your mojo makeover? ask me f...\n",
              "1599998     1599998      1  happy 38th birthday to my boo of alll time!!! ...\n",
              "\n",
              "[9999 rows x 3 columns]"
            ],
            "text/html": "<div>\n<style scoped>\n    .dataframe tbody tr th:only-of-type {\n        vertical-align: middle;\n    }\n\n    .dataframe tbody tr th {\n        vertical-align: top;\n    }\n\n    .dataframe thead th {\n        text-align: right;\n    }\n</style>\n<table border=\"1\" class=\"dataframe\">\n  <thead>\n    <tr style=\"text-align: right;\">\n      <th></th>\n      <th>Unnamed: 0</th>\n      <th>label</th>\n      <th>text</th>\n    </tr>\n  </thead>\n  <tbody>\n    <tr>\n      <th>1590000</th>\n      <td>1590000</td>\n      <td>1</td>\n      <td>@michaelahills yep</td>\n    </tr>\n    <tr>\n      <th>1590001</th>\n      <td>1590001</td>\n      <td>1</td>\n      <td>need to do homework.. can't wait for lvatt.. i...</td>\n    </tr>\n    <tr>\n      <th>1590002</th>\n      <td>1590002</td>\n      <td>1</td>\n      <td>@annesudworth gosh, that's hectic... tea? i'm ...</td>\n    </tr>\n    <tr>\n      <th>1590003</th>\n      <td>1590003</td>\n      <td>1</td>\n      <td>@hana77  daily:  8am - 12 midnight</td>\n    </tr>\n    <tr>\n      <th>1590004</th>\n      <td>1590004</td>\n      <td>1</td>\n      <td>watching the staff in the posh soho face cream...</td>\n    </tr>\n    <tr>\n      <th>...</th>\n      <td>...</td>\n      <td>...</td>\n      <td>...</td>\n    </tr>\n    <tr>\n      <th>1599994</th>\n      <td>1599994</td>\n      <td>1</td>\n      <td>@cliff_forster yeah, that does work better tha...</td>\n    </tr>\n    <tr>\n      <th>1599995</th>\n      <td>1599995</td>\n      <td>1</td>\n      <td>just woke up. having no school is the best fee...</td>\n    </tr>\n    <tr>\n      <th>1599996</th>\n      <td>1599996</td>\n      <td>1</td>\n      <td>thewdb.com - very cool to hear old walt interv...</td>\n    </tr>\n    <tr>\n      <th>1599997</th>\n      <td>1599997</td>\n      <td>1</td>\n      <td>are you ready for your mojo makeover? ask me f...</td>\n    </tr>\n    <tr>\n      <th>1599998</th>\n      <td>1599998</td>\n      <td>1</td>\n      <td>happy 38th birthday to my boo of alll time!!! ...</td>\n    </tr>\n  </tbody>\n</table>\n<p>9999 rows × 3 columns</p>\n</div>"
          },
          "metadata": {},
          "execution_count": 23
        }
      ],
      "source": [
        "df2"
      ]
    },
    {
      "cell_type": "code",
      "execution_count": 31,
      "metadata": {},
      "outputs": [],
      "source": [
        "frames = [df1, df2]\n",
        "df1 = pd.concat(frames)"
      ]
    },
    {
      "cell_type": "code",
      "execution_count": 32,
      "metadata": {},
      "outputs": [
        {
          "output_type": "execute_result",
          "data": {
            "text/plain": [
              "         label                                               text\n",
              "0            0  @switchfoot   - awww, that's a bummer.  you sh...\n",
              "1            0  is upset that he can't update his facebook by ...\n",
              "2            0  @kenichan i dived many times for the ball. man...\n",
              "3            0    my whole body feels itchy and like its on fire \n",
              "4            0  @nationwideclass no, it's not behaving at all....\n",
              "...        ...                                                ...\n",
              "1599994      1  @cliff_forster yeah, that does work better tha...\n",
              "1599995      1  just woke up. having no school is the best fee...\n",
              "1599996      1  thewdb.com - very cool to hear old walt interv...\n",
              "1599997      1  are you ready for your mojo makeover? ask me f...\n",
              "1599998      1  happy 38th birthday to my boo of alll time!!! ...\n",
              "\n",
              "[19999 rows x 2 columns]"
            ],
            "text/html": "<div>\n<style scoped>\n    .dataframe tbody tr th:only-of-type {\n        vertical-align: middle;\n    }\n\n    .dataframe tbody tr th {\n        vertical-align: top;\n    }\n\n    .dataframe thead th {\n        text-align: right;\n    }\n</style>\n<table border=\"1\" class=\"dataframe\">\n  <thead>\n    <tr style=\"text-align: right;\">\n      <th></th>\n      <th>label</th>\n      <th>text</th>\n    </tr>\n  </thead>\n  <tbody>\n    <tr>\n      <th>0</th>\n      <td>0</td>\n      <td>@switchfoot   - awww, that's a bummer.  you sh...</td>\n    </tr>\n    <tr>\n      <th>1</th>\n      <td>0</td>\n      <td>is upset that he can't update his facebook by ...</td>\n    </tr>\n    <tr>\n      <th>2</th>\n      <td>0</td>\n      <td>@kenichan i dived many times for the ball. man...</td>\n    </tr>\n    <tr>\n      <th>3</th>\n      <td>0</td>\n      <td>my whole body feels itchy and like its on fire</td>\n    </tr>\n    <tr>\n      <th>4</th>\n      <td>0</td>\n      <td>@nationwideclass no, it's not behaving at all....</td>\n    </tr>\n    <tr>\n      <th>...</th>\n      <td>...</td>\n      <td>...</td>\n    </tr>\n    <tr>\n      <th>1599994</th>\n      <td>1</td>\n      <td>@cliff_forster yeah, that does work better tha...</td>\n    </tr>\n    <tr>\n      <th>1599995</th>\n      <td>1</td>\n      <td>just woke up. having no school is the best fee...</td>\n    </tr>\n    <tr>\n      <th>1599996</th>\n      <td>1</td>\n      <td>thewdb.com - very cool to hear old walt interv...</td>\n    </tr>\n    <tr>\n      <th>1599997</th>\n      <td>1</td>\n      <td>are you ready for your mojo makeover? ask me f...</td>\n    </tr>\n    <tr>\n      <th>1599998</th>\n      <td>1</td>\n      <td>happy 38th birthday to my boo of alll time!!! ...</td>\n    </tr>\n  </tbody>\n</table>\n<p>19999 rows × 2 columns</p>\n</div>"
          },
          "metadata": {},
          "execution_count": 32
        }
      ],
      "source": [
        "df1 = df1.drop('Unnamed: 0', axis = 1)\n",
        "df1"
      ]
    },
    {
      "cell_type": "code",
      "execution_count": 33,
      "metadata": {},
      "outputs": [
        {
          "output_type": "execute_result",
          "data": {
            "text/plain": [
              "       label                                               text\n",
              "0          0  @switchfoot   - awww, that's a bummer.  you sh...\n",
              "1          0  is upset that he can't update his facebook by ...\n",
              "2          0  @kenichan i dived many times for the ball. man...\n",
              "3          0    my whole body feels itchy and like its on fire \n",
              "4          0  @nationwideclass no, it's not behaving at all....\n",
              "...      ...                                                ...\n",
              "19994      1  @cliff_forster yeah, that does work better tha...\n",
              "19995      1  just woke up. having no school is the best fee...\n",
              "19996      1  thewdb.com - very cool to hear old walt interv...\n",
              "19997      1  are you ready for your mojo makeover? ask me f...\n",
              "19998      1  happy 38th birthday to my boo of alll time!!! ...\n",
              "\n",
              "[19999 rows x 2 columns]"
            ],
            "text/html": "<div>\n<style scoped>\n    .dataframe tbody tr th:only-of-type {\n        vertical-align: middle;\n    }\n\n    .dataframe tbody tr th {\n        vertical-align: top;\n    }\n\n    .dataframe thead th {\n        text-align: right;\n    }\n</style>\n<table border=\"1\" class=\"dataframe\">\n  <thead>\n    <tr style=\"text-align: right;\">\n      <th></th>\n      <th>label</th>\n      <th>text</th>\n    </tr>\n  </thead>\n  <tbody>\n    <tr>\n      <th>0</th>\n      <td>0</td>\n      <td>@switchfoot   - awww, that's a bummer.  you sh...</td>\n    </tr>\n    <tr>\n      <th>1</th>\n      <td>0</td>\n      <td>is upset that he can't update his facebook by ...</td>\n    </tr>\n    <tr>\n      <th>2</th>\n      <td>0</td>\n      <td>@kenichan i dived many times for the ball. man...</td>\n    </tr>\n    <tr>\n      <th>3</th>\n      <td>0</td>\n      <td>my whole body feels itchy and like its on fire</td>\n    </tr>\n    <tr>\n      <th>4</th>\n      <td>0</td>\n      <td>@nationwideclass no, it's not behaving at all....</td>\n    </tr>\n    <tr>\n      <th>...</th>\n      <td>...</td>\n      <td>...</td>\n    </tr>\n    <tr>\n      <th>19994</th>\n      <td>1</td>\n      <td>@cliff_forster yeah, that does work better tha...</td>\n    </tr>\n    <tr>\n      <th>19995</th>\n      <td>1</td>\n      <td>just woke up. having no school is the best fee...</td>\n    </tr>\n    <tr>\n      <th>19996</th>\n      <td>1</td>\n      <td>thewdb.com - very cool to hear old walt interv...</td>\n    </tr>\n    <tr>\n      <th>19997</th>\n      <td>1</td>\n      <td>are you ready for your mojo makeover? ask me f...</td>\n    </tr>\n    <tr>\n      <th>19998</th>\n      <td>1</td>\n      <td>happy 38th birthday to my boo of alll time!!! ...</td>\n    </tr>\n  </tbody>\n</table>\n<p>19999 rows × 2 columns</p>\n</div>"
          },
          "metadata": {},
          "execution_count": 33
        }
      ],
      "source": [
        "df1.reset_index(drop = True, inplace=True)\n",
        "df1"
      ]
    },
    {
      "cell_type": "code",
      "execution_count": 44,
      "metadata": {},
      "outputs": [
        {
          "output_type": "stream",
          "name": "stderr",
          "text": [
            "[nltk_data] Downloading package stopwords to C:\\Users\\Diana\n[nltk_data]     Jaffé\\AppData\\Roaming\\nltk_data...\n[nltk_data]   Package stopwords is already up-to-date!\n"
          ]
        },
        {
          "output_type": "execute_result",
          "data": {
            "text/plain": [
              "179"
            ]
          },
          "metadata": {},
          "execution_count": 44
        }
      ],
      "source": [
        "nltk.download('stopwords')\n",
        "stopword = stopwords.words('english')\n",
        "pd.Series(stopword).count()"
      ]
    },
    {
      "cell_type": "code",
      "execution_count": 48,
      "metadata": {},
      "outputs": [],
      "source": [
        "# STOPWORD\n",
        "\n",
        "df1['text'] = df1['text'].apply(lambda x: [item for item in x.split() if item not in stopword])"
      ]
    },
    {
      "cell_type": "code",
      "execution_count": 49,
      "metadata": {},
      "outputs": [
        {
          "output_type": "execute_result",
          "data": {
            "text/plain": [
              "       label                                               text\n",
              "0          0  [@switchfoot, -, awww,, that's, bummer., shoul...\n",
              "1          0  [upset, can't, update, facebook, texting, it.....\n",
              "2          0  [@kenichan, dived, many, times, ball., managed...\n",
              "3          0            [whole, body, feels, itchy, like, fire]\n",
              "4          0  [@nationwideclass, no,, behaving, all., i'm, m...\n",
              "...      ...                                                ...\n",
              "19994      1  [@cliff_forster, yeah,, work, better, waiting,...\n",
              "19995      1           [woke, up., school, best, feeling, ever]\n",
              "19996      1  [thewdb.com, -, cool, hear, old, walt, intervi...\n",
              "19997      1             [ready, mojo, makeover?, ask, details]\n",
              "19998      1  [happy, 38th, birthday, boo, alll, time!!!, tu...\n",
              "\n",
              "[19999 rows x 2 columns]"
            ],
            "text/html": "<div>\n<style scoped>\n    .dataframe tbody tr th:only-of-type {\n        vertical-align: middle;\n    }\n\n    .dataframe tbody tr th {\n        vertical-align: top;\n    }\n\n    .dataframe thead th {\n        text-align: right;\n    }\n</style>\n<table border=\"1\" class=\"dataframe\">\n  <thead>\n    <tr style=\"text-align: right;\">\n      <th></th>\n      <th>label</th>\n      <th>text</th>\n    </tr>\n  </thead>\n  <tbody>\n    <tr>\n      <th>0</th>\n      <td>0</td>\n      <td>[@switchfoot, -, awww,, that's, bummer., shoul...</td>\n    </tr>\n    <tr>\n      <th>1</th>\n      <td>0</td>\n      <td>[upset, can't, update, facebook, texting, it.....</td>\n    </tr>\n    <tr>\n      <th>2</th>\n      <td>0</td>\n      <td>[@kenichan, dived, many, times, ball., managed...</td>\n    </tr>\n    <tr>\n      <th>3</th>\n      <td>0</td>\n      <td>[whole, body, feels, itchy, like, fire]</td>\n    </tr>\n    <tr>\n      <th>4</th>\n      <td>0</td>\n      <td>[@nationwideclass, no,, behaving, all., i'm, m...</td>\n    </tr>\n    <tr>\n      <th>...</th>\n      <td>...</td>\n      <td>...</td>\n    </tr>\n    <tr>\n      <th>19994</th>\n      <td>1</td>\n      <td>[@cliff_forster, yeah,, work, better, waiting,...</td>\n    </tr>\n    <tr>\n      <th>19995</th>\n      <td>1</td>\n      <td>[woke, up., school, best, feeling, ever]</td>\n    </tr>\n    <tr>\n      <th>19996</th>\n      <td>1</td>\n      <td>[thewdb.com, -, cool, hear, old, walt, intervi...</td>\n    </tr>\n    <tr>\n      <th>19997</th>\n      <td>1</td>\n      <td>[ready, mojo, makeover?, ask, details]</td>\n    </tr>\n    <tr>\n      <th>19998</th>\n      <td>1</td>\n      <td>[happy, 38th, birthday, boo, alll, time!!!, tu...</td>\n    </tr>\n  </tbody>\n</table>\n<p>19999 rows × 2 columns</p>\n</div>"
          },
          "metadata": {},
          "execution_count": 49
        }
      ],
      "source": [
        "df1"
      ]
    },
    {
      "source": [
        "def get_tokenize():\n",
        "    return RegexpTokenizer(r'\\w+|#\\w+|<\\w+>|%\\w+|[^\\w\\s]+').tokenize "
      ],
      "cell_type": "markdown",
      "metadata": {}
    },
    {
      "cell_type": "code",
      "execution_count": 37,
      "metadata": {},
      "outputs": [
        {
          "output_type": "error",
          "ename": "AttributeError",
          "evalue": "'Series' object has no attribute 'get_tokenize'",
          "traceback": [
            "\u001b[1;31m---------------------------------------------------------------------------\u001b[0m",
            "\u001b[1;31mAttributeError\u001b[0m                            Traceback (most recent call last)",
            "\u001b[1;32m<ipython-input-37-61e6d2a10319>\u001b[0m in \u001b[0;36m<module>\u001b[1;34m\u001b[0m\n\u001b[1;32m----> 1\u001b[1;33m \u001b[0mdf1\u001b[0m\u001b[1;33m.\u001b[0m\u001b[0mtext\u001b[0m\u001b[1;33m.\u001b[0m\u001b[0mget_tokenize\u001b[0m\u001b[1;33m(\u001b[0m\u001b[1;33m)\u001b[0m\u001b[1;33m\u001b[0m\u001b[1;33m\u001b[0m\u001b[0m\n\u001b[0m",
            "\u001b[1;32mC:\\ProgramData\\Anaconda3\\lib\\site-packages\\pandas\\core\\generic.py\u001b[0m in \u001b[0;36m__getattr__\u001b[1;34m(self, name)\u001b[0m\n\u001b[0;32m   5137\u001b[0m             \u001b[1;32mif\u001b[0m \u001b[0mself\u001b[0m\u001b[1;33m.\u001b[0m\u001b[0m_info_axis\u001b[0m\u001b[1;33m.\u001b[0m\u001b[0m_can_hold_identifiers_and_holds_name\u001b[0m\u001b[1;33m(\u001b[0m\u001b[0mname\u001b[0m\u001b[1;33m)\u001b[0m\u001b[1;33m:\u001b[0m\u001b[1;33m\u001b[0m\u001b[1;33m\u001b[0m\u001b[0m\n\u001b[0;32m   5138\u001b[0m                 \u001b[1;32mreturn\u001b[0m \u001b[0mself\u001b[0m\u001b[1;33m[\u001b[0m\u001b[0mname\u001b[0m\u001b[1;33m]\u001b[0m\u001b[1;33m\u001b[0m\u001b[1;33m\u001b[0m\u001b[0m\n\u001b[1;32m-> 5139\u001b[1;33m             \u001b[1;32mreturn\u001b[0m \u001b[0mobject\u001b[0m\u001b[1;33m.\u001b[0m\u001b[0m__getattribute__\u001b[0m\u001b[1;33m(\u001b[0m\u001b[0mself\u001b[0m\u001b[1;33m,\u001b[0m \u001b[0mname\u001b[0m\u001b[1;33m)\u001b[0m\u001b[1;33m\u001b[0m\u001b[1;33m\u001b[0m\u001b[0m\n\u001b[0m\u001b[0;32m   5140\u001b[0m \u001b[1;33m\u001b[0m\u001b[0m\n\u001b[0;32m   5141\u001b[0m     \u001b[1;32mdef\u001b[0m \u001b[0m__setattr__\u001b[0m\u001b[1;33m(\u001b[0m\u001b[0mself\u001b[0m\u001b[1;33m,\u001b[0m \u001b[0mname\u001b[0m\u001b[1;33m:\u001b[0m \u001b[0mstr\u001b[0m\u001b[1;33m,\u001b[0m \u001b[0mvalue\u001b[0m\u001b[1;33m)\u001b[0m \u001b[1;33m->\u001b[0m \u001b[1;32mNone\u001b[0m\u001b[1;33m:\u001b[0m\u001b[1;33m\u001b[0m\u001b[1;33m\u001b[0m\u001b[0m\n",
            "\u001b[1;31mAttributeError\u001b[0m: 'Series' object has no attribute 'get_tokenize'"
          ]
        }
      ],
      "source": [
        "get_tokenize(df1.text)"
      ]
    }
  ]
}