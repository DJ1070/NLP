{
  "nbformat": 4,
  "nbformat_minor": 0,
  "metadata": {
    "colab": {
      "name": "nlp.ipynb",
      "provenance": [],
      "collapsed_sections": []
    },
    "kernelspec": {
      "name": "python385jvsc74a57bd0b3ba2566441a7c06988d0923437866b63cedc61552a5af99d1f4fb67d367b25f",
      "display_name": "Python 3.8.5 64-bit (conda)"
    },
    "language_info": {
      "name": "python",
      "version": "3.8.5"
    }
  },
  "cells": [
    {
      "cell_type": "code",
      "metadata": {
        "id": "fpHkcD_iLq2u"
      },
      "source": [
        "import numpy as np \n",
        "import pandas as pd \n",
        "import seaborn as sns \n",
        "import matplotlib.pyplot as plt\n",
        "plt.style.use('ggplot')\n",
        "from sklearn.metrics import roc_curve, auc\n",
        "from sklearn.metrics import classification_report, confusion_matrix\n",
        "import nltk\n",
        "from nltk.corpus import stopwords\n",
        "from nltk.stem import PorterStemmer \n",
        "from sklearn.model_selection import train_test_split\n",
        "#from mlxtend.plotting import plot_confusion_matrix\n",
        "import matplotlib.cm as cm\n",
        "from matplotlib import rcParams\n",
        "from collections import Counter\n",
        "from nltk.tokenize import RegexpTokenizer\n",
        "import re\n",
        "import string\n",
        "# from tensorflow.keras.layers import LSTM, Activation, Dense, Dropout, Input, Embedding\n",
        "# from tensorflow.keras.models import Model\n",
        "# from tensorflow.keras.optimizers import RMSprop\n",
        "# from tensorflow.keras.preprocessing.text import Tokenizer\n",
        "# from tensorflow.keras.preprocessing import sequence\n",
        "%matplotlib inline\n",
        "\n",
        "import warnings\n",
        "warnings.filterwarnings(\"ignore\")"
      ],
      "execution_count": 1,
      "outputs": []
    },
    {
      "cell_type": "code",
      "metadata": {
        "colab": {
          "base_uri": "https://localhost:8080/"
        },
        "id": "U8B1S4hDZqlf",
        "outputId": "6185bb1a-ea4c-4ccb-b6f1-cde49234a499"
      },
      "source": [
        "# from google.colab import drive\n",
        "# drive.mount('/content/drive')"
      ],
      "execution_count": 25,
      "outputs": [
        {
          "output_type": "stream",
          "text": [
            "Mounted at /content/drive\n"
          ],
          "name": "stdout"
        }
      ]
    },
    {
      "cell_type": "code",
      "metadata": {
        "id": "BiSWsT-2Z4Hc"
      },
      "source": [
        "# data = pd.read_csv('https://drive.google.com/file/d/1mqJzGqPJbLIKgdv1UOAKD6ACQTUEKgCo/view?usp=sharing/training.1600000.processed.noemoticon.csv', encoding = \"ISO-8859-1\", engine=\"python\", sep = '\",\"')\n",
        "# data.columns = [\"label\", \"time\", \"date\", \"query\", \"username\", \"text\"]"
      ],
      "execution_count": null,
      "outputs": []
    },
    {
      "cell_type": "code",
      "metadata": {
        "id": "ZZaemfYfMAGH",
        "colab": {
          "base_uri": "https://localhost:8080/"
        },
        "outputId": "f89ece90-8248-4015-b087-b09984748b17"
      },
      "source": [
        "#df = pd.read_csv('https://drive.google.com/file/d/1rbPSejEsGZhcmGpDcoc1Xo1brPtEjia_/view?usp=sharing/twitter_cleaning_one.csv', encoding = \"ISO-8859-1\", engine=\"python\", sep = ',', error_bad_lines=False)\n",
        "df = pd.read_csv('twitter_cleaning_one.csv', engine=\"python\", sep = ',', error_bad_lines=False)"
      ],
      "execution_count": 2,
      "outputs": []
    },
    {
      "cell_type": "code",
      "metadata": {
        "id": "Nzvdbz6qP9jc",
        "colab": {
          "base_uri": "https://localhost:8080/",
          "height": 419
        },
        "outputId": "96bc4561-dc33-4fbf-d21c-16186019f843"
      },
      "source": [
        "df"
      ],
      "execution_count": 3,
      "outputs": [
        {
          "output_type": "execute_result",
          "data": {
            "text/plain": [
              "         Unnamed: 0  label                                               text\n",
              "0                 0      0  @switchfoot   - awww, that's a bummer.  you sh...\n",
              "1                 1      0  is upset that he can't update his facebook by ...\n",
              "2                 2      0  @kenichan i dived many times for the ball. man...\n",
              "3                 3      0    my whole body feels itchy and like its on fire \n",
              "4                 4      0  @nationwideclass no, it's not behaving at all....\n",
              "...             ...    ...                                                ...\n",
              "1599995     1599995      1  just woke up. having no school is the best fee...\n",
              "1599996     1599996      1  thewdb.com - very cool to hear old walt interv...\n",
              "1599997     1599997      1  are you ready for your mojo makeover? ask me f...\n",
              "1599998     1599998      1  happy 38th birthday to my boo of alll time!!! ...\n",
              "1599999     1599999      1  happy #charitytuesday @thenspcc @sparkscharity...\n",
              "\n",
              "[1600000 rows x 3 columns]"
            ],
            "text/html": "<div>\n<style scoped>\n    .dataframe tbody tr th:only-of-type {\n        vertical-align: middle;\n    }\n\n    .dataframe tbody tr th {\n        vertical-align: top;\n    }\n\n    .dataframe thead th {\n        text-align: right;\n    }\n</style>\n<table border=\"1\" class=\"dataframe\">\n  <thead>\n    <tr style=\"text-align: right;\">\n      <th></th>\n      <th>Unnamed: 0</th>\n      <th>label</th>\n      <th>text</th>\n    </tr>\n  </thead>\n  <tbody>\n    <tr>\n      <th>0</th>\n      <td>0</td>\n      <td>0</td>\n      <td>@switchfoot   - awww, that's a bummer.  you sh...</td>\n    </tr>\n    <tr>\n      <th>1</th>\n      <td>1</td>\n      <td>0</td>\n      <td>is upset that he can't update his facebook by ...</td>\n    </tr>\n    <tr>\n      <th>2</th>\n      <td>2</td>\n      <td>0</td>\n      <td>@kenichan i dived many times for the ball. man...</td>\n    </tr>\n    <tr>\n      <th>3</th>\n      <td>3</td>\n      <td>0</td>\n      <td>my whole body feels itchy and like its on fire</td>\n    </tr>\n    <tr>\n      <th>4</th>\n      <td>4</td>\n      <td>0</td>\n      <td>@nationwideclass no, it's not behaving at all....</td>\n    </tr>\n    <tr>\n      <th>...</th>\n      <td>...</td>\n      <td>...</td>\n      <td>...</td>\n    </tr>\n    <tr>\n      <th>1599995</th>\n      <td>1599995</td>\n      <td>1</td>\n      <td>just woke up. having no school is the best fee...</td>\n    </tr>\n    <tr>\n      <th>1599996</th>\n      <td>1599996</td>\n      <td>1</td>\n      <td>thewdb.com - very cool to hear old walt interv...</td>\n    </tr>\n    <tr>\n      <th>1599997</th>\n      <td>1599997</td>\n      <td>1</td>\n      <td>are you ready for your mojo makeover? ask me f...</td>\n    </tr>\n    <tr>\n      <th>1599998</th>\n      <td>1599998</td>\n      <td>1</td>\n      <td>happy 38th birthday to my boo of alll time!!! ...</td>\n    </tr>\n    <tr>\n      <th>1599999</th>\n      <td>1599999</td>\n      <td>1</td>\n      <td>happy #charitytuesday @thenspcc @sparkscharity...</td>\n    </tr>\n  </tbody>\n</table>\n<p>1600000 rows × 3 columns</p>\n</div>"
          },
          "metadata": {},
          "execution_count": 3
        }
      ]
    },
    {
      "cell_type": "code",
      "execution_count": null,
      "metadata": {},
      "outputs": [],
      "source": []
    }
  ]
}