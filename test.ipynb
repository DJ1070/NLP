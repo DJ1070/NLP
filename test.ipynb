{
 "metadata": {
  "language_info": {
   "codemirror_mode": {
    "name": "ipython",
    "version": 3
   },
   "file_extension": ".py",
   "mimetype": "text/x-python",
   "name": "python",
   "nbconvert_exporter": "python",
   "pygments_lexer": "ipython3",
   "version": "3.8.5"
  },
  "orig_nbformat": 2,
  "kernelspec": {
   "name": "python385jvsc74a57bd0b3ba2566441a7c06988d0923437866b63cedc61552a5af99d1f4fb67d367b25f",
   "display_name": "Python 3.8.5 64-bit (conda)"
  }
 },
 "nbformat": 4,
 "nbformat_minor": 2,
 "cells": [
  {
   "cell_type": "code",
   "execution_count": 1,
   "metadata": {},
   "outputs": [],
   "source": [
    "import pandas as pd"
   ]
  },
  {
   "cell_type": "code",
   "execution_count": 4,
   "metadata": {},
   "outputs": [],
   "source": [
    "df = pd.read_csv('./data/cleaned_tweets.csv')"
   ]
  },
  {
   "cell_type": "code",
   "execution_count": 5,
   "metadata": {},
   "outputs": [
    {
     "output_type": "execute_result",
     "data": {
      "text/plain": [
       "         Unnamed: 0  label                                               text\n",
       "0                 0      0  awww that's bummer shoulda got david carr thir...\n",
       "1                 1      0  upset can't update facebook texting might cry ...\n",
       "2                 2      0  dived many times ball managed save % rest go b...\n",
       "3                 3      0                   whole body feels itchy like fire\n",
       "4                 4      0                         behaving i'm mad can't see\n",
       "...             ...    ...                                                ...\n",
       "1599995     1599995      1                      woke school best feeling ever\n",
       "1599996     1599996      1   thewdb com cool hear old walt interviews ♫ ~bmta\n",
       "1599997     1599997      1                    ready mojo makeover ask details\n",
       "1599998     1599998      1  happy th birthday boo alll time tupac amaru sh...\n",
       "1599999     1599999      1                              happy #charitytuesday\n",
       "\n",
       "[1600000 rows x 3 columns]"
      ],
      "text/html": "<div>\n<style scoped>\n    .dataframe tbody tr th:only-of-type {\n        vertical-align: middle;\n    }\n\n    .dataframe tbody tr th {\n        vertical-align: top;\n    }\n\n    .dataframe thead th {\n        text-align: right;\n    }\n</style>\n<table border=\"1\" class=\"dataframe\">\n  <thead>\n    <tr style=\"text-align: right;\">\n      <th></th>\n      <th>Unnamed: 0</th>\n      <th>label</th>\n      <th>text</th>\n    </tr>\n  </thead>\n  <tbody>\n    <tr>\n      <th>0</th>\n      <td>0</td>\n      <td>0</td>\n      <td>awww that's bummer shoulda got david carr thir...</td>\n    </tr>\n    <tr>\n      <th>1</th>\n      <td>1</td>\n      <td>0</td>\n      <td>upset can't update facebook texting might cry ...</td>\n    </tr>\n    <tr>\n      <th>2</th>\n      <td>2</td>\n      <td>0</td>\n      <td>dived many times ball managed save % rest go b...</td>\n    </tr>\n    <tr>\n      <th>3</th>\n      <td>3</td>\n      <td>0</td>\n      <td>whole body feels itchy like fire</td>\n    </tr>\n    <tr>\n      <th>4</th>\n      <td>4</td>\n      <td>0</td>\n      <td>behaving i'm mad can't see</td>\n    </tr>\n    <tr>\n      <th>...</th>\n      <td>...</td>\n      <td>...</td>\n      <td>...</td>\n    </tr>\n    <tr>\n      <th>1599995</th>\n      <td>1599995</td>\n      <td>1</td>\n      <td>woke school best feeling ever</td>\n    </tr>\n    <tr>\n      <th>1599996</th>\n      <td>1599996</td>\n      <td>1</td>\n      <td>thewdb com cool hear old walt interviews ♫ ~bmta</td>\n    </tr>\n    <tr>\n      <th>1599997</th>\n      <td>1599997</td>\n      <td>1</td>\n      <td>ready mojo makeover ask details</td>\n    </tr>\n    <tr>\n      <th>1599998</th>\n      <td>1599998</td>\n      <td>1</td>\n      <td>happy th birthday boo alll time tupac amaru sh...</td>\n    </tr>\n    <tr>\n      <th>1599999</th>\n      <td>1599999</td>\n      <td>1</td>\n      <td>happy #charitytuesday</td>\n    </tr>\n  </tbody>\n</table>\n<p>1600000 rows × 3 columns</p>\n</div>"
     },
     "metadata": {},
     "execution_count": 5
    }
   ],
   "source": [
    "df"
   ]
  },
  {
   "cell_type": "code",
   "execution_count": 6,
   "metadata": {},
   "outputs": [],
   "source": [
    "df.to_csv('./data/cleanded_tweets.csv', sep = ';')"
   ]
  }
 ]
}