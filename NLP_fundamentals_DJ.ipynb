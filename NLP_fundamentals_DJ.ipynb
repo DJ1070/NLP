{
  "nbformat": 4,
  "nbformat_minor": 0,
  "metadata": {
    "colab": {
      "name": "NLP_fundamentals.ipynb",
      "provenance": []
    },
    "kernelspec": {
      "name": "python385jvsc74a57bd0b3ba2566441a7c06988d0923437866b63cedc61552a5af99d1f4fb67d367b25f",
      "display_name": "Python 3.8.5 64-bit (conda)"
    },
    "language_info": {
      "name": "python",
      "version": "3.8.5"
    },
    "accelerator": "TPU"
  },
  "cells": [
    {
      "cell_type": "code",
      "metadata": {
        "id": "j7axuslx6K4q"
      },
      "source": [
        "import pandas as pd\n",
        "import tensorflow as tf"
      ],
      "execution_count": 1,
      "outputs": []
    },
    {
      "cell_type": "markdown",
      "metadata": {
        "id": "j-lEn9GZ6Lxt"
      },
      "source": [
        "# NLP fundamentals"
      ]
    },
    {
      "cell_type": "markdown",
      "metadata": {
        "id": "ux1tbhcvcsnO"
      },
      "source": [
        "### Tokenization"
      ]
    },
    {
      "cell_type": "code",
      "metadata": {
        "colab": {
          "base_uri": "https://localhost:8080/"
        },
        "id": "yN_PQtVE9Fji",
        "outputId": "7d272892-edce-4db7-8a58-2573db7ff595"
      },
      "source": [
        "\n",
        "from tensorflow.keras.preprocessing.text import Tokenizer\n",
        "\n",
        "# using a list of sentences\n",
        "sentences = [\n",
        "             \"I drink milk\",\n",
        "             \"I don't want to sleep\",\n",
        "             \"I do not like milk\",\n",
        "             \"You look confused! # :D\",\n",
        "             \"I want a cookie...\",\n",
        "             \"You are a voyeur.\"\n",
        "]\n",
        "\n",
        "make_tokens = Tokenizer(num_words = 50) # limit word count to not allow words like : rodomontade, voyeurism, ostenation etc.\n",
        "\n",
        "make_tokens.fit_on_texts(sentences)\n",
        "\n",
        "word_dict = make_tokens.word_index\n",
        "# print('dictionary of words', word_dict)\n",
        "word_dict\n"
      ],
      "execution_count": 8,
      "outputs": [
        {
          "output_type": "stream",
          "name": "stdout",
          "text": [
            "dictionary of words {'i': 1, 'milk': 2, 'want': 3, 'you': 4, 'a': 5, 'drink': 6, \"don't\": 7, 'to': 8, 'sleep': 9, 'do': 10, 'not': 11, 'like': 12, 'look': 13, 'confused': 14, 'd': 15, 'cookie': 16, 'are': 17, 'voyeur': 18}\n"
          ]
        },
        {
          "output_type": "execute_result",
          "data": {
            "text/plain": [
              "{'i': 1,\n",
              " 'milk': 2,\n",
              " 'want': 3,\n",
              " 'you': 4,\n",
              " 'a': 5,\n",
              " 'drink': 6,\n",
              " \"don't\": 7,\n",
              " 'to': 8,\n",
              " 'sleep': 9,\n",
              " 'do': 10,\n",
              " 'not': 11,\n",
              " 'like': 12,\n",
              " 'look': 13,\n",
              " 'confused': 14,\n",
              " 'd': 15,\n",
              " 'cookie': 16,\n",
              " 'are': 17,\n",
              " 'voyeur': 18}"
            ]
          },
          "metadata": {},
          "execution_count": 8
        }
      ]
    },
    {
      "cell_type": "code",
      "metadata": {
        "colab": {
          "base_uri": "https://localhost:8080/"
        },
        "id": "cetNJbHiCVwk",
        "outputId": "57ca8f27-525f-4ce5-c19a-401a9601ce14"
      },
      "source": [
        "encoded_sentences = make_tokens.texts_to_sequences(sentences)\n",
        "encoded_sentences"
      ],
      "execution_count": 9,
      "outputs": [
        {
          "output_type": "execute_result",
          "data": {
            "text/plain": [
              "[[1, 6, 2],\n",
              " [1, 7, 3, 8, 9],\n",
              " [1, 10, 11, 12, 2],\n",
              " [4, 13, 14, 15],\n",
              " [1, 3, 5, 16],\n",
              " [4, 17, 5, 18]]"
            ]
          },
          "metadata": {},
          "execution_count": 9
        }
      ]
    },
    {
      "cell_type": "code",
      "metadata": {
        "colab": {
          "base_uri": "https://localhost:8080/"
        },
        "id": "6TwfY7ivDXiA",
        "outputId": "c38cde3c-6df9-4e6e-c8b3-0c73e27588fc"
      },
      "source": [
        "new_sentences = [\n",
        "                 'I love climbing',\n",
        "                 'I do climb',\n",
        "                 'You look amazed! :D'\n",
        "]\n",
        "\n",
        "new_encoded_sentences = make_tokens.texts_to_sequences(new_sentences)\n",
        "new_encoded_sentences"
      ],
      "execution_count": 10,
      "outputs": [
        {
          "output_type": "execute_result",
          "data": {
            "text/plain": [
              "[[1], [1, 10], [4, 13, 15]]"
            ]
          },
          "metadata": {},
          "execution_count": 10
        }
      ]
    },
    {
      "cell_type": "markdown",
      "metadata": {
        "id": "SLrmVx7JE6TE"
      },
      "source": [
        "### Issues :  \n",
        "\n",
        "##### 1) Broken sentences.\n",
        "##### 2) DIfferent lengths\n",
        "\n",
        "### Solutions\n",
        "##### 1) Need a large pre-prepared dictionary, OR use out of vocabolary *token*\n",
        "\n",
        "##### 2) Use padding"
      ]
    },
    {
      "cell_type": "markdown",
      "metadata": {
        "id": "cDR9QCCrcyy4"
      },
      "source": [
        "### Padding"
      ]
    },
    {
      "cell_type": "code",
      "metadata": {
        "colab": {
          "base_uri": "https://localhost:8080/"
        },
        "id": "6rkd0WI0ETro",
        "outputId": "aed6891c-96dd-4f4f-c923-19a16c16ce1d"
      },
      "source": [
        "from tensorflow.keras.preprocessing.text import Tokenizer\n",
        "from tensorflow.keras.preprocessing.sequence import pad_sequences\n",
        "\n",
        "# using a list of sentences\n",
        "sentences = [\n",
        "             \"I drink milk\",\n",
        "             \"I don't want to sleep\",\n",
        "             \"I do not like milk\",\n",
        "             \"You look confused! # :D\",\n",
        "             \"I want a cookie...\",\n",
        "             \"You are a voyeur.\"\n",
        "]\n",
        "\n",
        "make_tokens = Tokenizer(num_words = 50, oov_token= \"<OOV>\")\n",
        "\n",
        "make_tokens.fit_on_texts(sentences)\n",
        "word_dict = make_tokens.word_index\n",
        "\n",
        "word_dict\n"
      ],
      "execution_count": 11,
      "outputs": [
        {
          "output_type": "execute_result",
          "data": {
            "text/plain": [
              "{'<OOV>': 1,\n",
              " 'i': 2,\n",
              " 'milk': 3,\n",
              " 'want': 4,\n",
              " 'you': 5,\n",
              " 'a': 6,\n",
              " 'drink': 7,\n",
              " \"don't\": 8,\n",
              " 'to': 9,\n",
              " 'sleep': 10,\n",
              " 'do': 11,\n",
              " 'not': 12,\n",
              " 'like': 13,\n",
              " 'look': 14,\n",
              " 'confused': 15,\n",
              " 'd': 16,\n",
              " 'cookie': 17,\n",
              " 'are': 18,\n",
              " 'voyeur': 19}"
            ]
          },
          "metadata": {},
          "execution_count": 11
        }
      ]
    },
    {
      "cell_type": "code",
      "metadata": {
        "colab": {
          "base_uri": "https://localhost:8080/"
        },
        "id": "WutyJ-a9RDMd",
        "outputId": "38746d0f-7b90-4b3d-c377-d9a6618e4c86"
      },
      "source": [
        "encoded_sentences = make_tokens.texts_to_sequences(sentences) # \n",
        "padded = pad_sequences(encoded_sentences)\n",
        "print(encoded_sentences)\n",
        "print(padded)"
      ],
      "execution_count": 12,
      "outputs": [
        {
          "output_type": "stream",
          "name": "stdout",
          "text": [
            "[[2, 7, 3], [2, 8, 4, 9, 10], [2, 11, 12, 13, 3], [5, 14, 15, 16], [2, 4, 6, 17], [5, 18, 6, 19]]\n[[ 0  0  2  7  3]\n [ 2  8  4  9 10]\n [ 2 11 12 13  3]\n [ 0  5 14 15 16]\n [ 0  2  4  6 17]\n [ 0  5 18  6 19]]\n"
          ]
        }
      ]
    },
    {
      "cell_type": "code",
      "metadata": {
        "colab": {
          "base_uri": "https://localhost:8080/"
        },
        "id": "9JQAkvdSJ7jT",
        "outputId": "9b4e925b-e39e-447c-adf3-ed1d5e0d5f44"
      },
      "source": [
        "new_sentences = [\n",
        "                 'I love climbing',\n",
        "                 'I do climb',\n",
        "                 'You look amazed'\n",
        "]\n",
        "\n",
        "new_encoded_sentences = make_tokens.texts_to_sequences(new_sentences)\n",
        "padded_new = pad_sequences(new_encoded_sentences, padding= 'post', maxlen = 6)\n",
        "print(new_encoded_sentences)\n",
        "print(padded_new)\n",
        "padded_new"
      ],
      "execution_count": 13,
      "outputs": [
        {
          "output_type": "stream",
          "name": "stdout",
          "text": [
            "[[2, 1, 1], [2, 11, 1], [5, 14, 1]]\n[[ 2  1  1  0  0  0]\n [ 2 11  1  0  0  0]\n [ 5 14  1  0  0  0]]\n"
          ]
        },
        {
          "output_type": "execute_result",
          "data": {
            "text/plain": [
              "array([[ 2,  1,  1,  0,  0,  0],\n",
              "       [ 2, 11,  1,  0,  0,  0],\n",
              "       [ 5, 14,  1,  0,  0,  0]])"
            ]
          },
          "metadata": {},
          "execution_count": 13
        }
      ]
    },
    {
      "cell_type": "code",
      "metadata": {
        "id": "-v2evtjfOP5h"
      },
      "source": [],
      "execution_count": 14,
      "outputs": []
    },
    {
      "cell_type": "code",
      "metadata": {
        "colab": {
          "base_uri": "https://localhost:8080/"
        },
        "id": "aKF0r3D4iLAZ",
        "outputId": "13b36127-15fb-41d1-9a11-9a850d296496"
      },
      "source": [
        "new_encoded_sentences = make_tokens.texts_to_sequences(new_sentences)\n",
        "\n",
        "new_encoded_sentences"
      ],
      "execution_count": 15,
      "outputs": [
        {
          "output_type": "execute_result",
          "data": {
            "text/plain": [
              "[[2, 1, 1], [2, 5, 1], [8, 9, 1]]"
            ]
          },
          "metadata": {
            "tags": []
          },
          "execution_count": 15
        }
      ]
    },
    {
      "cell_type": "markdown",
      "metadata": {
        "id": "uKdjdEwyGv2v"
      },
      "source": [
        "### for understanding we will use pre-tokenized dataset"
      ]
    },
    {
      "cell_type": "code",
      "metadata": {
        "colab": {
          "base_uri": "https://localhost:8080/"
        },
        "id": "vyC7-uDVAvUS",
        "outputId": "9075cd7f-cd41-4900-d921-3bb74afd7c7f"
      },
      "source": [
        "from tensorflow.python.keras.datasets import imdb\n",
        "(x_train, y_train), (x_test, y_test) = imdb.load_data(num_words = 10000)"
      ],
      "execution_count": 14,
      "outputs": [
        {
          "output_type": "stream",
          "name": "stdout",
          "text": [
            "Downloading data from https://storage.googleapis.com/tensorflow/tf-keras-datasets/imdb.npz\n",
            "17465344/17464789 [==============================] - 11s 1us/step\n",
            "<__array_function__ internals>:5: VisibleDeprecationWarning: Creating an ndarray from ragged nested sequences (which is a list-or-tuple of lists-or-tuples-or ndarrays with different lengths or shapes) is deprecated. If you meant to do this, you must specify 'dtype=object' when creating the ndarray\n",
            "C:\\Users\\Diana Jaffé\\AppData\\Roaming\\Python\\Python38\\site-packages\\tensorflow\\python\\keras\\datasets\\imdb.py:159: VisibleDeprecationWarning: Creating an ndarray from ragged nested sequences (which is a list-or-tuple of lists-or-tuples-or ndarrays with different lengths or shapes) is deprecated. If you meant to do this, you must specify 'dtype=object' when creating the ndarray\n",
            "  x_train, y_train = np.array(xs[:idx]), np.array(labels[:idx])\n",
            "C:\\Users\\Diana Jaffé\\AppData\\Roaming\\Python\\Python38\\site-packages\\tensorflow\\python\\keras\\datasets\\imdb.py:160: VisibleDeprecationWarning: Creating an ndarray from ragged nested sequences (which is a list-or-tuple of lists-or-tuples-or ndarrays with different lengths or shapes) is deprecated. If you meant to do this, you must specify 'dtype=object' when creating the ndarray\n",
            "  x_test, y_test = np.array(xs[idx:]), np.array(labels[idx:])\n"
          ]
        }
      ]
    },
    {
      "cell_type": "code",
      "metadata": {
        "colab": {
          "base_uri": "https://localhost:8080/"
        },
        "id": "3uFbR3IfCQx8",
        "outputId": "0a9d0897-614c-4759-98ab-5571d4587484"
      },
      "source": [
        "print(x_train[0])"
      ],
      "execution_count": 15,
      "outputs": [
        {
          "output_type": "stream",
          "name": "stdout",
          "text": [
            "[1, 14, 22, 16, 43, 530, 973, 1622, 1385, 65, 458, 4468, 66, 3941, 4, 173, 36, 256, 5, 25, 100, 43, 838, 112, 50, 670, 2, 9, 35, 480, 284, 5, 150, 4, 172, 112, 167, 2, 336, 385, 39, 4, 172, 4536, 1111, 17, 546, 38, 13, 447, 4, 192, 50, 16, 6, 147, 2025, 19, 14, 22, 4, 1920, 4613, 469, 4, 22, 71, 87, 12, 16, 43, 530, 38, 76, 15, 13, 1247, 4, 22, 17, 515, 17, 12, 16, 626, 18, 2, 5, 62, 386, 12, 8, 316, 8, 106, 5, 4, 2223, 5244, 16, 480, 66, 3785, 33, 4, 130, 12, 16, 38, 619, 5, 25, 124, 51, 36, 135, 48, 25, 1415, 33, 6, 22, 12, 215, 28, 77, 52, 5, 14, 407, 16, 82, 2, 8, 4, 107, 117, 5952, 15, 256, 4, 2, 7, 3766, 5, 723, 36, 71, 43, 530, 476, 26, 400, 317, 46, 7, 4, 2, 1029, 13, 104, 88, 4, 381, 15, 297, 98, 32, 2071, 56, 26, 141, 6, 194, 7486, 18, 4, 226, 22, 21, 134, 476, 26, 480, 5, 144, 30, 5535, 18, 51, 36, 28, 224, 92, 25, 104, 4, 226, 65, 16, 38, 1334, 88, 12, 16, 283, 5, 16, 4472, 113, 103, 32, 15, 16, 5345, 19, 178, 32]\n"
          ]
        }
      ]
    },
    {
      "cell_type": "code",
      "metadata": {
        "colab": {
          "base_uri": "https://localhost:8080/"
        },
        "id": "sOY5CG06l7UC",
        "outputId": "56e6477c-75fa-48c6-9ebb-0df80ce8c953"
      },
      "source": [
        "len(x_train[0])"
      ],
      "execution_count": 21,
      "outputs": [
        {
          "output_type": "execute_result",
          "data": {
            "text/plain": [
              "218"
            ]
          },
          "metadata": {},
          "execution_count": 21
        }
      ]
    },
    {
      "cell_type": "code",
      "metadata": {
        "colab": {
          "base_uri": "https://localhost:8080/"
        },
        "id": "gQK5SXSPCYd1",
        "outputId": "078781bf-0adb-44e0-e00b-a2fa89d4f852"
      },
      "source": [
        "print(y_train[0])"
      ],
      "execution_count": 24,
      "outputs": [
        {
          "output_type": "stream",
          "name": "stdout",
          "text": [
            "1\n"
          ]
        }
      ]
    },
    {
      "cell_type": "code",
      "metadata": {
        "colab": {
          "base_uri": "https://localhost:8080/"
        },
        "id": "_0iRbupLCl1p",
        "outputId": "c4cbf7f8-544e-4518-92b0-c0b1efb53c11"
      },
      "source": [
        "word_dict = imdb.get_word_index()\n",
        "print(word_dict['movie'])"
      ],
      "execution_count": 33,
      "outputs": [
        {
          "output_type": "stream",
          "name": "stdout",
          "text": [
            "17\n"
          ]
        }
      ]
    },
    {
      "cell_type": "code",
      "execution_count": 49,
      "metadata": {
        "tags": [
          "outputPrepend"
        ]
      },
      "outputs": [
        {
          "output_type": "stream",
          "name": "stdout",
          "text": [
            ": 88151, 'gravestones': 88152, 'freshmen': 23366, 'formatted': 34646, 'drooping': 88153, 'zelig': 76033, 'yakusyo': 88154, 'lunceford': 82057, 'editorializing': 88155, 'plywood': 34647, 'banalities': 88156, 'nestor': 30536, 'revitalizes': 64826, 'voguing': 40752, 'sedate': 21666, 'dictum': 51857, 'brasher': 88157, 'york': 779, 'unchallengeable': 88158, 'subtelly': 88159, 'opposition': 8772, 'fetchingly': 88160, \"'secrets\": 70076, 'appearance\\x85': 88161, 'teleflick': 88162, 'viennese': 19481, 'orphanage': 10076, 'movers': 40753, \"cameraman's\": 27605, \"cameraman't\": 88163, 'pornoes': 88164, 'embodiments': 51858, 'heorine': 88165, 'fraternity': 16105, \"'procedures'\": 88166, 'finds': 656, 'caratherisic': 88167, 'munshi': 27606, 'clashing': 20584, \"mjh's\": 40754, 'lärm': 88168, 'nikah': 76037, 'incandescent': 51859, 'stowing': 51860, 'acrid': 51861, 'eyewitness': 25213, 'maniacally': 24001, 'suspenders': 51863, 'acupat': 57060, 'nominee': 11582, 'toshiro': 23367, \"'anita\": 51864, 'ciannelli': 25214, 'clyde': 8286, 'posher': 76039, 'johannes': 34649, 'predeccesors': 88169, 'watchword': 88170, 'change': 650, 'talkshow': 51865, 'ska': 51984, \"'colorful'\": 88171, 'suffocate': 51970, 'pathos': 6965, \"dial's\": 40755, \"'notorious'\": 88172, 'slideshow': 88173, 'americaness': 88174, '1861': 34650, '1860': 34651, '1863': 40756, '1862': 51866, '1865': 35867, '1864': 51868, 'misbehaving': 51869, \"'plague'\": 88175, 'heighten': 18495, 'toppling': 88176, 'appallonia': 88177, 'fernandel': 88178, 'tenuta': 51870, 'civility': 27607, 'mikaele': 88179, \"house's\": 18948, \"cahiil's\": 88180, 'abos': 88181, \"parents'\": 9258, 'fernandes': 88182, \"ouedraogo's\": 40757, 'boromir': 27609, 'moustache': 11922, \"boothe's\": 86719, 'fernandez': 19482, \"star's\": 17623, \"hoover's\": 34652, 'riz': 40758, 'categorized': 19483, 'gastronomic': 88183, 'flitted': 88184, 'rip': 1674, 'rin': 34421, 'rio': 16078, 'ril': 51871, 'rim': 34653, \"movin'\": 40760, 'rif': 88185, 'rig': 18496, 'rid': 3764, 'rib': 23368, 'ric': 40761, 'ethnicity': 16502, 'blackwood': 14350, \"what'\": 88186, 'ignacio': 88187, 'lengthy': 4670, 'yidische': 88188, 'eames': 88189, 'lengths': 11571, 'bacula': 88191, \"'certain\": 88192, 'ideologies': 18497, 'propping': 51872, 'chicory': 88193, 'hester': 88194, 'apeal': 88195, 'minis': 27611, 'novelizations': 88196, 'devgn': 88197, 'targetting': 88198, 'brooding': 6040, 'moving': 725, 'incapacitated': 30665, 'uneasily': 88199, 'obit': 88200, 'noodle': 14351, 'castigates': 88201, \"shame's\": 51873, 'solemnity': 34654, 'antoniette': 88202, 'limbaugh': 88203, 'abrasive': 17142, 'analysis': 4759, 'solids': 88204, 'castigated': 88205, 'broods': 34655, 'starved': 13415, 'huggie': 88206, \"'rangi\": 88207, 'silvestres': 88208, 'bankrolls': 88209, 'reincarnates': 88210, 'misguiding': 88211, 'orientalism': 88212, 'trickle': 37476, 'mysteriosity': 88213, 'bancroft': 21892, 'reincarnated': 13875, 'orientalist': 88214, 'inference': 30537, 'cabaret': 12994, \"santos's\": 88215, 'gameel': 88216, \"stubby's\": 88217, 'dabbie': 88218, 'navigator': 51874, 'thrillingly': 51875, 'frightner': 88219, \"'sudden\": 51876, 'violations': 34656, 'essanay': 51877, 'devourer': 88220, 'joyless': 19485, 'beals': 17624, 'unlimited': 16107, \"matsujun's\": 88221, 'kass': 88222, 'helfgotts': 88223, 'kasi': 51878, 'kase': 88224, \"felt'\": 76047, 'woefull': 88225, 'glittery': 88226, 'pithy': 30538, 'cameroon': 17913, 'glitters': 88227, 'incidental': 8168, 'italians': 9653, 'breeder': 34657, 'splatterfest': 51879, 'stefanovic': 88228, 'insector': 88229, '¨10': 88230, 'resourcefully': 88231, 'impassioned': 20585, 'burgundians': 30539, 'eluding': 51880, 'traits': 6790, 'marmalade': 51881, 'hunziker': 88232, 'highschoolers': 88233, \"'side\": 88234, 'ribisi': 16807, 'indictable': 88235, 'anny': 88236, 'pros': 7178, \"merry's\": 88238, 'prop': 7913, 'anno': 51882, 'prom': 3898, \"bogayevicz's\": 88239, 'necrophilia': 20586, 'prof': 30540, 'andronicus': 88240, 'prod': 25215, 'prob': 51883, 'apathetic': 16808, 'tilts': 63932, 'swatman': 88242, \"carmen'\": 51884, 'mosh': 50029, 'yamasaki': 88244, 'wooofff': 88245, 'gollam': 88246, 'weasels': 34658, 'jetson': 86472, 'jetsom': 88247, 'leonel': 88248, 'intense': 1593, \"'anastasia\": 57118, \"glenda's\": 88250, 'mungle': 88251, \"j's\": 34659, 'schaffer': 30541, 'tortuous': 18498, 'littauer': 88252, 'unimpressed': 19486, 'greets': 20579, \"'toothbrush'\": 88254, 'credible': 3081, 'cutoff': 88255, \"montage's\": 88256, 'incoherence': 23369, \"'waster'\": 88257, 'hatcheck': 88258, 'because': 85, 'piteous': 88260, 'incoherency': 34660, 'credibly': 21893, 'colorize': 51885, 'slavoj': 18436, \"brat's\": 88261, 'ioffer': 88262, 'pallio': 88263, 'sndtrk': 44879, \"steven's\": 51886, 'pallid': 40763, 'doing\\x85': 88265, 'signifies': 25133, 'mindbogglingly': 88266, 'unadorned': 51887, \"beagle's\": 88267, 'stupefaction': 88268, 'signified': 20587, \"already's\": 88269, \"'humans\": 51888, \"laughed'\": 51889, \"vita's\": 88270, 'perplexing': 13877, 'conspicious': 88271, 'skewers': 34662, 'trussed': 41764, 'embarasses': 88272, 'birthmark': 51986, 'orgue': 88273, 'crank': 13878, 'siodmak': 18499, 'familia': 88274, 'berkovits': 88275, 'embarassed': 51890, 'crane': 15471, 'billed': 5170, '115': 34663, \"grierson's\": 88276, 'soutendjik': 88277, 'astounds': 51891, 'araújo': 88278, \"'human'\": 51892, 'caller': 18455, 'bonestell': 88279, 'torpedoing': 51607, \"'plan\": 40765, \"arkin's\": 27612, \"avigdor's\": 88280, 'didn´t': 25216, 'holler': 34664, 'obsolescence': 51894, 'called': 443, '110': 16108, 'gerda': 51895, 'samaurai': 88281, 'gerde': 88282, 'soars': 27613, \"philadelphia'\": 88283, 'entrance': 7432, \"board's\": 51897, 'ether': 27614, 'actores': 88284, \"jawab'\": 88285, 'anamorphic': 14894, 'haney': 88286, 'nilsen': 88287, 'associates’': 88288, 'tentative': 19487, 'connoisseurship': 88289, 'wg': 88290, 'supblot': 88291, 'bailsman': 88292, \"turaquistan's\": 88293, 'leaden': 13419, 'primetime': 27615, 'understatement': 7691, 'amrapurkars': 82051, 'sheryll': 88295, '92nd': 51898, 'inflame': 88296, 'pilgrims': 48444, 'everone': 88297, 'dimeco': 88298, 'appalingly': 88299, 'delineation': 51899, \"2004's\": 40766, \"shining'\": 51900, 'director¡¦s': 88300, 'reproaches': 40767, 'thames': 23318, 'diamiter': 88301, 'moveis': 88302, 'mardi': 14352, \"wells'\": 11583, '850pm': 88303, 'sacrilage': 86742, 'redlitch': 40769, 'sadistically': 21894, 'lean': 6928, 'jacqualine': 88304, 'torin': 88305, 'disey': 88306, 'contributions': 11923, 'magnifying': 51901, 'cupboards': 51902, \"bedroom'\": 86759, 'showthread': 88307, 'someincredibly': 88308, 'whig': 40770, 'roshan': 21839, 'celie': 11520, \"'hot'\": 40771, \"susan's\": 18459, 'visualizing': 40772, 'hinduism': 25217, 'trasforms': 88311, 'fences': 18500, 'fencer': 34667, 'snipes': 7574, 'sniper': 6434, 'abode': 30544, \"'caprica'\": 88312, \"'moviefreak'\": 88313, 'lynch': 2216, 'bedrooms': 30545, '713': 30546, 'honost': 88314, 'slickest': 51443, 'shuriikens': 88315, 'wishes': 3082, 'spectaculars': 51904, 'harlot': 88316, 'harlow': 7179, \"o'd\": 88317, 'notes': 3625, 'underscores': 15491, 'leader': 2118, 'minimizing': 51905, 'outdo': 18501, 'underscored': 20589, 'comlex': 88318, 'noted': 3209, \"put's\": 57149, 'frost': 7741, 'procession': 30547, 'bodybuilding': 63906, \"y'know\": 34668, \"serat's\": 51907, 'rrw': 51908, 'manipulating': 12995, 'fermenting': 34669, 'cronicles': 88319, 'stth': 88320, 'palminteri': 25218, 'page2': 88321, \"foywonder's\": 88322, \"1934's\": 51471, 'slur': 40774, 'waiting': 1061, 'relocate': 27617, 'ammunition': 16809, \"o'laughlin\": 88323, 'nightstick': 88324, 'flavoured': 88325, \"bowden's\": 88326, 'handedly': 10938, 'highwater': 51910, \"busted's\": 51911, 'tarred': 51912, \"imposter's\": 88327, 'insouciance': 40775, 'cyclist': 51913, \"lestrade's\": 88328, 'metro': 13879, 'spiced': 18502, 'hulled': 55145, 'microman': 88329, 'parroting': 88330, 'bickers': 51914, \"'dog\": 51915, 'simpleton': 20590, \"'devil'\": 40776, 'breeds': 23370, \"'don\": 34670, 'transportive': 88331, 'appearently': 88332, 'apple': 7692, 'deputy': 6930, 'graça': 51916, 'dwarves': 51917, 'overbaked': 40778, 'offends': 16109, 'herzog': 16810, 'ghim': 88333, 'cataclysms': 88334, 'motor': 11035, 'coreys': 88335, 'apply': 6791, 'chandelere': 88336, 'rumiko': 51918, 'iced': 51919, 'baltimorean': 88337, 'bathroom': 3865, 'enging': 88338, 'reanimating': 88339, 'ices': 88340, 'metzger': 40779, 'weeping': 14353, 'december': 8287, \"sun's\": 30549, 'automobile': 15635, 'briers': 25219, 'epiphanal': 88342, 'porch': 18503, 'credulous': 40780, 'philanderer': 40781, \"'austin\": 88343, 'cooperate': 16811, \"ruby's\": 30550, \"'talky'\": 88344, 'avtar': 78708, 'faultless': 19489, 'echos': 36249, 'penis': 9090, 'annoy': 7807, \"ice'\": 40783, 'slaps': 12603, \"cgi'd\": 40784, 'foggiest': 88345, 'matelot': 88346, 'splinters': 40785, 'demonically': 88347, 'finacier': 88348, 'thepace': 88349, 'biscuit': 21241, 'proog': 30551, 'proof': 3167, 'tat': 21895, 'tau': 88350, 'arlen': 25220, 'tap': 3929, 'tar': 19490, 'yardsale': 88351, 'earnestness': 23371, 'matinee': 21896, 'dummee': 88352, 'tax': 6620, 'tay': 40786, 'taz': 51920, 'germanish': 88353, 'tad': 4415, 'kyer': 88354, 'tag': 4346, 'condescend': 88355, 'shipping': 30552, 'perplexities': 65038, 'tac': 40787, 'blaire': 62607, 'tam': 20591, 'tan': 17599, 'tao': 88356, 'onions': 51922, 'tai': 88357, 'taj': 34672, 'tak': 34673, 'twizzlers': 88358, \"'tinker\": 88359, 'inaugural': 51923, 'fortunate': 7575, 'japs': 30553, 'actualities': 51924, 'testators': 88360, 'japp': 25221, \"bury's\": 88361, 'taylors': 88362, 'panic': 4076, 'inflated': 18504, \"'drama\": 88363, 'perjury': 88364, 'sightseeing': 48760, 'footpath': 51925, 'skullduggery': 25222, \"blaine's\": 51926, 'fiancés': 88365, 'brushes': 15956, 'fortinbras': 51928, 'crawling': 11584, 'richthofen': 45479, 'elie': 88367, 'pah': 23314, 'elia': 13416, 'cumpsty': 88368, 'elio': 51929, 'unjustified': 25223, 'trophies': 88369, 'scoggins': 25224, \"'machinal'\": 88370, 'archiological': 88371, 'encyclicals': 88372, 'gunslinger': 14354, 'meir': 51930, 'reeve': 6625, 'voiceless': 88373, 'byw': 88374, 'terriers': 88375, 'byu': 40788, 'antonius': 34674, 'merchandise': 15071, 'bye': 5455, 'jukebox': 88376, 'violating': 19491, 'crash': 2484, 'yazaki': 88377, 'commended': 14895, 'knights': 8238, \"caliban's\": 88378, 'commender': 34675, \"melbourne's\": 88379, '183': 40790, 'crass': 9254, 'cauffiel': 51931, 'transmitter': 88380, 'easel': 88381, 'whiteclad': 88382, 'sinnister': 67103, 'standoffish': 51601, 'puya': 88383, 'tram': 88384, 'eased': 34560, 'fiddle': 18505, 'brontosaurus': 88385, \"by'\": 51932, 'tray': 30554, 'upheavals': 51933, 'cleverless': 84561, 'pitying': 19492, \"'dollman'\": 88386, 'bentley': 16111, 'pallance': 63915, 'ponderance': 88387, 'registration': 21903, 'bhand': 54048, 'apophis': 25226, 'fusing': 51934, 'bhang': 88388, 'celticism': 88389, 'achile': 88390, 'siana': 88391, \"breathnach's\": 88392, \"'masked\": 88393, 'pam': 9091, 'siani': 51935, 'phoebus': 40791, 'flapjack': 51936, \"'smallpox\": 88394, 'semen': 16219, \"'best\": 38663, \"montand's\": 51937, 'garcia': 9628, \"franko's\": 88395, 'outings': 12604, 'obstructions': 51938, 'dominion': 23173, \"daria's\": 51939, 'grits': 40792, 'slahsers': 88553, 'riddick': 66387, 'dictionary': 14355, 'nuit': 23373, \"ashram's\": 88396, 'abductor': 34679, 'displeasing': 88397, 'obliteration': 88398, 'bedazzled': 51941, 'kober': 19493, 'dormitories': 88399, 'cait': 88400, \"outing'\": 88401, 'segregated': 34680, 'substantiate': 88403, 'reexamined': 88404, 'horace': 25227, 'severing': 26024, 'grapevine': 70371, 'inseglet': 88406, 'caio': 51943, 'cain': 7914, 'californian': 31925, \"critique's\": 88407, \"munk's\": 87449, 'firehouse': 25229, \"wenders'\": 34681, '1888': 38486, 'jarrell': 40794, 'afgan': 88408, 'bislane': 29593, 'homere': 88409, 'treaters': 51944, 'hitherto': 27620, '185': 51945, 'olde': 30661, \"\\x91insignificance'\": 88410, 'harmlessness': 88411, 'vampress': 88412, 'homers': 88413, 'garard': 88414, 'destinations': 27621, 'flourish': 16813, 'myspace': 25232, 'accent': 1188, 'weberian': 88415, 'drood': 88416, 'drool': 14356, 'darma': 88417, 'thread': 5554, 'elbowroom': 88418, 'peoria': 40795, 'kiera': 16112, 'resurrects': 25233, 'greenlight': 20568, 'wanted': 470, 'constituent': 88419, 'evisceration': 40797, \"flik's\": 40798, 'osenniy': 88420, 'kiernan': 46193, 'nationalistic': 76077, 'swooned': 51948, 'tommy': 4041, 'morely': 88421, '\\x84bubble': 34682, 'leticia': 51949, \"'bruce\": 50313, 'harald': 40106, 'sculpture': 17626, 'bodice': 51950, 'beter': 88422, 'franfreako': 87566, 'outsmarted': 27206, 'clevage': 88423, 'wathced': 88424, 'woebegone': 40799, 'footwork': 34698, 'mongolian': 88425, 'pealed': 88426, 'donavon': 50183, 'florin': 88427, 'excusable': 27476, 'florid': 51952, 'allergies': 88428, 'oozing': 17627, 'agency': 5744, 'zhukov': 51953, 'maharashtrian': 88430, 'savagely': 14889, 'stying': 88431, \"den'\": 88432, 'divers': 18506, 'youuuu': 88433, 'crept': 22166, \"feud's\": 88434, 'centre': 5923, 'flesheaters': 88435, 'noggin': 27622, 'doyleluver': 88436, 'flawlessness': 88437, 'slitting': 40162, \"eustache's\": 30556, 'deny': 6107, \"mcelwee's\": 40801, \"quiroz's\": 88438, 'jpieczanski': 88439, 'thialnd': 88440, 'dens': 88441, 'syncretism': 88442, 'gingernuts': 88443, 'goodhearted': 51954, 'dent': 23374, 'cinématographe': 34684, 'xavier': 25234, 'dena': 88444, 'inane': 4482, 'discontinuous': 40802, 'mckellar': 88445, 'houswives': 88446, 'faded': 7859, 'myrna': 7798, 'illuminations': 31264, 'camion': 88447, 'upright': 15712, 'laughers': 88448, 'playbook': 88449, 'powerhouse': 12996, '500db': 88450, \"waterfall'\": 87708, 'foreclosure': 57743, 'hamburglar': 88451, 'asterix': 88452, \"generation'\": 51956, 'fans': 448, 'operational': 87720, 'candidates': 9455, 'lassiter': 51957, 'cordobes': 88453, 'thousands': 3083, 'forfeit': 88454, 'philipps': 20126, 'vacuousness': 88455, 'shlocky': 51958, 'workin': 88456, 'dope': 10719, \"skogland's\": 51959, '999': 16801, '998': 88457, 'woooooo': 88458, 'backdropped': 87756, 'argento': 13832, 'penetrate': 20593, 'wordy': 17628, 'ghetto': 6788, \"candidate'\": 88459, 'mulford': 88460, 'instructive': 40826, 'sappily': 88461, 'eccentrically': 87791, 'jansch': 88462, 'asian': 2185, 'generations': 5119, 'ebb': 30558, \"lifeforce'\": 88463, 'chrstmas': 88464, 'detatched': 88465, 'paulson': 30559, 'churchman': 87824, 'violet': 14357, 'gutters': 88467, 'scoured': 88468, 'etchings': 51962, \"kylie's\": 88469, 'closer': 2436, 'closes': 11036, 'panto': 88470, 'closet': 4250, 'magus': 88471, 'eggleston': 88472, 'genius': 1259, 'ashleigh': 34686, 'rumblings': 51963, 'panty': 40807, 'closed': 4587, 'dividends': 51964, 'simms': 27624, 'brosnan': 3974, 'linebacker': 51965, 'complement': 10552, \"baddies'\": 88473, 'addio': 88474, 'audiovisual': 51966, 'beverages': 21898, 'brigadoon': 17629, 'salesgirl': 40808, 'doesnot': 88475, 'sexploitation': 13882, \"jame's\": 88476, 'memento': 19494, 'barrett': 14358, 'soapbox': 30560, 'famke': 40809, 'profanity': 5398, 'b36s': 88477, 'windom': 88478, \"close'\": 88479, \"concert'\": 88480, 'clansmen': 34687, 'agito': 51968, 'wnbq': 88481, 'kaempfen': 88482, \"thaw's\": 27625, 'shoving': 14891, 'sleaziest': 34688, 'guerin': 88484, 'inflicted': 9876, 'neighborliness': 88485, 'withdrawn': 16113, 'withdrawl': 88486, 'freedmen': 88487, \"'balkanized'\": 88488, 'kenobi': 21899, 'bbe': 88489, 'thumbed': 88490, 'broadcasts': 17598, 'validating': 51969, \"boxers'\": 87959, 'jugars': 88491, 'agreements': 34689, 'impetuously': 88492, 'thumbes': 88493, 'bbs': 51971, 'bbq': 34690, 'butchers': 23375, 'verizon': 88494, 'butchery': 40810, \"genie's\": 88495, 'señor': 46439, 'saner': 88496, \"'prestige'\": 51972, 'revivalist': 48235, \"carface's\": 40811, \"'deepness'\": 88497, \"agreement'\": 88498, 'aiieeee': 88499, 'beckettian': 69861, 'maciste': 88500, 'hounsou': 88501, 'intresting': 80934, 'not\\x85repeat': 88502, 'nilamben': 88503, 'klass': 81345, 'funnist': 88504, 'marshmorton': 39736, 'hobbyhorse': 88022, \"marcel's\": 51973, 'restructure': 88505, 'madrasi': 88506, 'agentine': 88507, 'garda': 40812, \"biggie's\": 40813, 'schlöndorff': 76092, '15\\x96year': 88508, 'gassing': 40814, 'stadiums': 34693, 'vintage': 6626, 'loutishness': 51975, \"montana's\": 25206, 'nwhere': 88509, '\\x84batman': 88061, 'satrapi': 88066, 'panning': 20594, 'keneth': 40815, 'fomentation': 88510, 'hopton': 88511, \"sousa's\": 51977, 'tactful': 51978, 'booz': 88512, 'craigs': 88513, 'brumes': 88514, 'snatchers': 16814, 'appropriated': 30530, 'baruc': 88515, 'albin': 88516, \"'penis'\": 51980, 'antipasto': 88517, 'overwork': 88518, 'appropriates': 88519, 'siouxie': 88520, 'outgrow': 40816, 'breaker': 17630, 'boor': 51981, \"'bubbling'\": 88521, 'rocker': 9877, \"arcand's\": 88522, \"chappelle's\": 77256, 'wren': 88523, 'lowlights': 51982, 'storia': 88524, 'mighty': 4884, 'hmapk': 88525, \"archeologist's\": 88526, 'downfalls': 34694, 'shigeru': 35318, 'disturbance': 19496, 'serbs': 12605, 'ensued': 22958, 'sky': 1746, 'morbidly': 21900, 'googling': 51983, \"'intentional'\": 82114, 'skg': 88527, 'adoption': 16106, 'timecrimes': 88528, 'serbo': 88529, 'ski': 16114, 'knob': 30562, 'saturation': 25238, 'sick': 1192, 'refusals': 54834, 'protesters': 21901, 'kristofferson': 8774, 'siemens': 51985, 'deviances': 53304, 'know': 121, 'knot': 30563, 'variants': 88530, 'renyolds': 40817, 'iberia': 17631, \"annabelle's\": 88531, 'bedfellows': 40818, 'praarthana': 88532, 'losted': 88533, 'starrer': 34695, 'dances': 4200, \"one''willard'\": 88534, 'cutlet': 88237, 'eviction': 39794, 'isolytic': 88536, 'starred': 2681, 'traitors': 27626, 'nigga': 88259, 'shabby': 12257, 'waqt': 13883, \"matrix'\": 23376, 'junk': 2579, 'mosquitoes': 34696, 'libretto': 34697, 'kattan': 13418, 'beguine': 88537, 'soninha': 34040, 'sequency': 88538, 'dubbers': 88539, 'zillionaire': 88294, \"gettin'\": 51988, 'zanuck': 17632, 'leaded': 51989, 'strolls': 29326, 'moguls': 40820, 'catepillar': 88540, 'sette': 40821, 'murdoch': 20588, 'murdock': 23377, 'uneffective': 88541, 'poets': 16812, 'miniskirts': 88542, 'pensaba': 88543, 'thoroughfare': 88544, \"o'donoghugh\": 51991, 'arganauts': 76917, 'swinginest': 88545, 'consuming': 13884, 'wesley': 7915, 'daud': 88546, 'guffaws': 30564, 'empahh': 88547, 'nationalities': 30565, 'throne': 8594, 'intercontenital': 88548, 'throng': 51992, 'getting': 394, 'klineschloss': 51993, 'dependence': 21902, 'dependency': 25240, 'epiphany': 19497, 'fudd': 25241, 'fitzgibbon': 88549, 'bugle': 27627, 'unoticeable': 88550, 'couldnt': 24879, 'gunther': 30566, 'cultureless': 57756, \"'hall\": 88551, \"mariner's\": 88552, 'blabbing': 46559, 'dispossessed': 34678, 'deceptiveness': 76816, 'patronisingly': 51994, 'maize': 88554, 'uncontrollably': 21904, 'expeditious': 88555, 'effeminate': 10963, 'hypnotism': 27628, \"'half\": 88556, 'lederer': 88557, 'uncontrollable': 14359, 'mimbos': 48238, \"i've\": 204, 'proving': 5974, 'desando': 88429, 'baaaaad': 40824, 'gereco': 44477, \"bearings'\": 88558, 'kensit': 51997, 'wight': 88559, 'austreim': 75731, 'contradictory': 16791, 'bratwurst': 51998, \"may's\": 14128, 'contradictors': 88560, 'amitabhs': 88561, 'jaffa': 19498, 'jaffe': 11924, 'howdoilooknyc': 62008, \"olan's\": 88562, 'ornella': 51999, 'bitva': 57759, 'fountainhead': 88563, 'reble': 88564, 'percival': 88565, 'lubricated': 88566, \"matsumoto's\": 34700, 'heralding': 88567, 'hirschbiegel': 52001, \"baywatch'\": 88568, 'odilon': 88569, 'meaningless': 4042, 'gnawing': 40827, \"'solve'\": 88570, \"guard's\": 88571, \"yamada's\": 50090, 'spookfest': 57761, 'airsoft': 88573, 'abhay': 11306, 'spanky': 23378, 'urrrghhh': 88574, 'ev': 88575, 'chicatillo': 88576, 'transacting': 88577, \"'la\": 27630, 'percent': 8925, 'oprah': 7996, 'sics': 88578, 'illinois': 11925, 'dogtown': 40828, 'roars': 20595, 'branch': 9456, 'kerouac': 52002, 'wheelers': 88579, 'sica': 20596, 'lance': 6435, \"pipe's\": 88580, 'discretionary': 64179, 'contends': 40829, 'copywrite': 88581, 'geysers': 52003, 'artbox': 88582, 'cronyn': 52004, 'hardboiled': 52005, \"voorhees'\": 88583, '35mm': 16815, \"'l'\": 88584, 'paget': 18509, 'expands': 20597}\n"
          ]
        }
      ],
      "source": [
        "print(word_dict)"
      ]
    },
    {
      "cell_type": "code",
      "metadata": {
        "colab": {
          "base_uri": "https://localhost:8080/"
        },
        "id": "4Z4EPIsmC9Iu",
        "outputId": "1cfff6e7-8e9e-4f97-e5c9-6bb6a03319d1"
      },
      "source": [
        "len(x_train[59])"
      ],
      "execution_count": 38,
      "outputs": [
        {
          "output_type": "execute_result",
          "data": {
            "text/plain": [
              "206"
            ]
          },
          "metadata": {},
          "execution_count": 38
        }
      ]
    },
    {
      "cell_type": "code",
      "metadata": {
        "id": "s8i1TiVAEzGp"
      },
      "source": [
        "x_train = pad_sequences(x_train, padding= 'post', maxlen= 256)\n",
        "x_test = pad_sequences(x_test, padding= 'post', maxlen= 256)"
      ],
      "execution_count": 39,
      "outputs": []
    },
    {
      "cell_type": "code",
      "metadata": {
        "colab": {
          "base_uri": "https://localhost:8080/"
        },
        "id": "2b4O0eKOFS-O",
        "outputId": "761f47be-54e0-4949-eb6b-4dbaf8846c5f"
      },
      "source": [
        "print(x_train[0:6])"
      ],
      "execution_count": 43,
      "outputs": [
        {
          "output_type": "stream",
          "name": "stdout",
          "text": [
            "[[   1   14   22 ...    0    0    0]\n [   1  194 1153 ...    0    0    0]\n [   1   14   47 ...    0    0    0]\n [1784   86 1117 ...   21   64 2574]\n [   1  249 1323 ...    0    0    0]\n [   1  778  128 ...    0    0    0]]\n"
          ]
        }
      ]
    },
    {
      "cell_type": "code",
      "metadata": {
        "id": "QkPjn3qwFX07"
      },
      "source": [],
      "execution_count": null,
      "outputs": []
    },
    {
      "cell_type": "markdown",
      "metadata": {
        "id": "5yn5OltIHCnS"
      },
      "source": [
        "## Word Embedding : representing words with vectors\n",
        "\n",
        "#### Example of word embedding in 5 dimensions\n",
        "|      |Male|Food|funny|respect|female| \n",
        "|------|----|----|-----|-------|------|\n",
        "|King  | .9 |.04 | .51 |  .95  | .06  |  \n",
        "|Queen | .1 |.03 | .46 |  .96  | .91  |\n",
        "|Hen.  | .04|.8. | .1. |  .1   | .94  |\n",
        "|bad   | .04|.1  | .1  |  .1   | .05  |\n",
        "|Hello | .04|.05 | .3  |  .8   | .05  |\n",
        "|prince| .93|.03 | .48 |  .93  | .05  |\n",
        "\n",
        "#### Words with similar meaing will be close to each other\n",
        "\n",
        "#### Neural networks can learn these vectors by training: that is it can learn the associated values.\n",
        "\n",
        "#### NN also assigns abstract categories (dimensions)"
      ]
    },
    {
      "cell_type": "code",
      "metadata": {
        "id": "OkrEHLqQHWRK"
      },
      "source": [
        "vocab_size = 10000\n",
        "embedding_dim = 16\n",
        "max_length = 256\n",
        "trunc_type='post'\n",
        "oov_tok = \"<OOV>\""
      ],
      "execution_count": 23,
      "outputs": []
    },
    {
      "cell_type": "code",
      "metadata": {
        "colab": {
          "base_uri": "https://localhost:8080/"
        },
        "id": "2QZhDj9KaAYb",
        "outputId": "c71be070-969d-4188-d05d-24114d86bfa6"
      },
      "source": [
        "model = tf.keras.Sequential([\n",
        "    tf.keras.layers.Embedding(vocab_size, embedding_dim, input_length=max_length),\n",
        "    tf.keras.layers.Flatten(),\n",
        "    tf.keras.layers.Dense(6, activation='relu'),\n",
        "    tf.keras.layers.Dense(1, activation='sigmoid')\n",
        "])\n",
        "model.compile(loss='binary_crossentropy',optimizer='adam',metrics=['accuracy'])\n",
        "model.summary()"
      ],
      "execution_count": 24,
      "outputs": [
        {
          "output_type": "stream",
          "text": [
            "Model: \"sequential\"\n",
            "_________________________________________________________________\n",
            "Layer (type)                 Output Shape              Param #   \n",
            "=================================================================\n",
            "embedding (Embedding)        (None, 256, 16)           160000    \n",
            "_________________________________________________________________\n",
            "flatten (Flatten)            (None, 4096)              0         \n",
            "_________________________________________________________________\n",
            "dense (Dense)                (None, 6)                 24582     \n",
            "_________________________________________________________________\n",
            "dense_1 (Dense)              (None, 1)                 7         \n",
            "=================================================================\n",
            "Total params: 184,589\n",
            "Trainable params: 184,589\n",
            "Non-trainable params: 0\n",
            "_________________________________________________________________\n"
          ],
          "name": "stdout"
        }
      ]
    },
    {
      "cell_type": "code",
      "metadata": {
        "colab": {
          "base_uri": "https://localhost:8080/"
        },
        "id": "19HYDyF5aLOu",
        "outputId": "65b77267-8a05-4b7a-bdc8-d2047dc95ed9"
      },
      "source": [
        "model.fit(\n",
        "    x_train, y_train,\n",
        "    epochs = 20,\n",
        "    validation_data = (x_test, y_test), #validation_split = 0.15,\n",
        "    batch_size = 64   \n",
        ")"
      ],
      "execution_count": 25,
      "outputs": [
        {
          "output_type": "stream",
          "text": [
            "Epoch 1/20\n",
            "391/391 [==============================] - 5s 10ms/step - loss: 0.6352 - accuracy: 0.5990 - val_loss: 0.3130 - val_accuracy: 0.8695\n",
            "Epoch 2/20\n",
            "391/391 [==============================] - 3s 8ms/step - loss: 0.2213 - accuracy: 0.9175 - val_loss: 0.3013 - val_accuracy: 0.8738\n",
            "Epoch 3/20\n",
            "391/391 [==============================] - 3s 8ms/step - loss: 0.1133 - accuracy: 0.9678 - val_loss: 0.3386 - val_accuracy: 0.8653\n",
            "Epoch 4/20\n",
            "391/391 [==============================] - 3s 8ms/step - loss: 0.0489 - accuracy: 0.9919 - val_loss: 0.3827 - val_accuracy: 0.8643\n",
            "Epoch 5/20\n",
            "391/391 [==============================] - 3s 8ms/step - loss: 0.0187 - accuracy: 0.9981 - val_loss: 0.4189 - val_accuracy: 0.8629\n",
            "Epoch 6/20\n",
            "391/391 [==============================] - 3s 8ms/step - loss: 0.0075 - accuracy: 0.9996 - val_loss: 0.4630 - val_accuracy: 0.8616\n",
            "Epoch 7/20\n",
            "391/391 [==============================] - 3s 8ms/step - loss: 0.0040 - accuracy: 0.9999 - val_loss: 0.4930 - val_accuracy: 0.8626\n",
            "Epoch 8/20\n",
            "391/391 [==============================] - 3s 8ms/step - loss: 0.0023 - accuracy: 0.9999 - val_loss: 0.5200 - val_accuracy: 0.8615\n",
            "Epoch 9/20\n",
            "391/391 [==============================] - 3s 8ms/step - loss: 0.0011 - accuracy: 1.0000 - val_loss: 0.5442 - val_accuracy: 0.8628\n",
            "Epoch 10/20\n",
            "391/391 [==============================] - 3s 8ms/step - loss: 7.5488e-04 - accuracy: 1.0000 - val_loss: 0.5680 - val_accuracy: 0.8622\n",
            "Epoch 11/20\n",
            "391/391 [==============================] - 3s 8ms/step - loss: 5.2355e-04 - accuracy: 1.0000 - val_loss: 0.5877 - val_accuracy: 0.8615\n",
            "Epoch 12/20\n",
            "391/391 [==============================] - 3s 8ms/step - loss: 3.8727e-04 - accuracy: 1.0000 - val_loss: 0.6060 - val_accuracy: 0.8617\n",
            "Epoch 13/20\n",
            "391/391 [==============================] - 3s 8ms/step - loss: 2.8361e-04 - accuracy: 1.0000 - val_loss: 0.6244 - val_accuracy: 0.8624\n",
            "Epoch 14/20\n",
            "391/391 [==============================] - 3s 9ms/step - loss: 2.0492e-04 - accuracy: 1.0000 - val_loss: 0.6423 - val_accuracy: 0.8610\n",
            "Epoch 15/20\n",
            "391/391 [==============================] - 3s 9ms/step - loss: 1.5930e-04 - accuracy: 1.0000 - val_loss: 0.6590 - val_accuracy: 0.8614\n",
            "Epoch 16/20\n",
            "391/391 [==============================] - 3s 9ms/step - loss: 1.2121e-04 - accuracy: 1.0000 - val_loss: 0.6763 - val_accuracy: 0.8614\n",
            "Epoch 17/20\n",
            "391/391 [==============================] - 3s 8ms/step - loss: 9.4822e-05 - accuracy: 1.0000 - val_loss: 0.6918 - val_accuracy: 0.8612\n",
            "Epoch 18/20\n",
            "391/391 [==============================] - 3s 8ms/step - loss: 7.2096e-05 - accuracy: 1.0000 - val_loss: 0.7083 - val_accuracy: 0.8608\n",
            "Epoch 19/20\n",
            "391/391 [==============================] - 3s 8ms/step - loss: 5.5779e-05 - accuracy: 1.0000 - val_loss: 0.7242 - val_accuracy: 0.8608\n",
            "Epoch 20/20\n",
            "391/391 [==============================] - 3s 8ms/step - loss: 4.3325e-05 - accuracy: 1.0000 - val_loss: 0.7405 - val_accuracy: 0.8608\n"
          ],
          "name": "stdout"
        },
        {
          "output_type": "execute_result",
          "data": {
            "text/plain": [
              "<tensorflow.python.keras.callbacks.History at 0x7f855debafd0>"
            ]
          },
          "metadata": {
            "tags": []
          },
          "execution_count": 25
        }
      ]
    },
    {
      "cell_type": "markdown",
      "metadata": {
        "id": "6yrtqPdEb52P"
      },
      "source": [
        "## visualising the word embeddings: OPTIONAL\n",
        "\n",
        "*   List item\n",
        "*   List item\n",
        "\n"
      ]
    },
    {
      "cell_type": "markdown",
      "metadata": {
        "id": "RtdBLvbMcRoM"
      },
      "source": [
        "\n",
        "Code for visualization:\n"
      ]
    },
    {
      "cell_type": "code",
      "metadata": {
        "id": "HvdmLK49czdX"
      },
      "source": [
        "e = model.layers[0]\n",
        "weights = e.get_weights()[0]"
      ],
      "execution_count": null,
      "outputs": []
    },
    {
      "cell_type": "code",
      "metadata": {
        "colab": {
          "base_uri": "https://localhost:8080/",
          "height": 120
        },
        "id": "lk54ncmNcSIM",
        "outputId": "a5d1dfc8-13c0-495c-99c4-f92ae942cb52"
      },
      "source": [
        "reverse_word_dict = dict([(value, key) for (key, value) in word_dict.items()])\n",
        "\n",
        "def decode_review(text):\n",
        "    return ' '.join([reverse_word_dict.get(i, '?') for i in text])\n",
        "\n",
        "decode_review(x_train[0])"
      ],
      "execution_count": null,
      "outputs": [
        {
          "output_type": "execute_result",
          "data": {
            "application/vnd.google.colaboratory.intrinsic+json": {
              "type": "string"
            },
            "text/plain": [
              "\"the as you with out themselves powerful lets loves their becomes reaching had journalist of lot from anyone to have after out atmosphere never more room and it so heart shows to years of every never going and help moments or of every chest visual movie except her was several of enough more with is now current film as you of mine potentially unfortunately of you than him that with out themselves her get for was camp of you movie sometimes movie that with scary but and to story wonderful that in seeing in character to of 70s musicians with heart had shadows they of here that with her serious to have does when from why what have critics they is you that isn't one will very to as itself with other and in of seen over landed for anyone of and br show's to whether from than out themselves history he name half some br of and odd was two most of mean for 1 any an boat she he should is thought frog but of script you not while history he heart to real at barrel but when from one bit then have two of script their with her nobody most that with wasn't to with armed acting watch an for with heartfelt film want an ? ? ? ? ? ? ? ? ? ? ? ? ? ? ? ? ? ? ? ? ? ? ? ? ? ? ? ? ? ? ? ? ? ? ? ? ? ?\""
            ]
          },
          "metadata": {
            "tags": []
          },
          "execution_count": 22
        }
      ]
    },
    {
      "cell_type": "code",
      "metadata": {
        "id": "Rm6Yegfvb99f"
      },
      "source": [
        "import io\n",
        "\n",
        "out_v = io.open('vecs.tsv', 'w', encoding='utf-8')\n",
        "out_m = io.open('meta.tsv', 'w', encoding='utf-8')\n",
        "for word_num in range(1, vocab_size):\n",
        "  word = reverse_word_dict[word_num]\n",
        "  embeddings = weights[word_num]\n",
        "  out_m.write(word + \"\\n\")\n",
        "  out_v.write('\\t'.join([str(x) for x in embeddings]) + \"\\n\")\n",
        "out_v.close()\n",
        "out_m.close()"
      ],
      "execution_count": null,
      "outputs": []
    },
    {
      "cell_type": "code",
      "metadata": {
        "colab": {
          "base_uri": "https://localhost:8080/",
          "height": 17
        },
        "id": "fxn_Tde9coFn",
        "outputId": "c3f25833-93f1-4e85-dc7a-fb39ad7c21ba"
      },
      "source": [
        "try:\n",
        "  from google.colab import files\n",
        "except ImportError:\n",
        "  pass\n",
        "else:\n",
        "  files.download('vecs.tsv')\n",
        "  files.download('meta.tsv')"
      ],
      "execution_count": null,
      "outputs": [
        {
          "output_type": "display_data",
          "data": {
            "application/javascript": [
              "\n",
              "    async function download(id, filename, size) {\n",
              "      if (!google.colab.kernel.accessAllowed) {\n",
              "        return;\n",
              "      }\n",
              "      const div = document.createElement('div');\n",
              "      const label = document.createElement('label');\n",
              "      label.textContent = `Downloading \"${filename}\": `;\n",
              "      div.appendChild(label);\n",
              "      const progress = document.createElement('progress');\n",
              "      progress.max = size;\n",
              "      div.appendChild(progress);\n",
              "      document.body.appendChild(div);\n",
              "\n",
              "      const buffers = [];\n",
              "      let downloaded = 0;\n",
              "\n",
              "      const channel = await google.colab.kernel.comms.open(id);\n",
              "      // Send a message to notify the kernel that we're ready.\n",
              "      channel.send({})\n",
              "\n",
              "      for await (const message of channel.messages) {\n",
              "        // Send a message to notify the kernel that we're ready.\n",
              "        channel.send({})\n",
              "        if (message.buffers) {\n",
              "          for (const buffer of message.buffers) {\n",
              "            buffers.push(buffer);\n",
              "            downloaded += buffer.byteLength;\n",
              "            progress.value = downloaded;\n",
              "          }\n",
              "        }\n",
              "      }\n",
              "      const blob = new Blob(buffers, {type: 'application/binary'});\n",
              "      const a = document.createElement('a');\n",
              "      a.href = window.URL.createObjectURL(blob);\n",
              "      a.download = filename;\n",
              "      div.appendChild(a);\n",
              "      a.click();\n",
              "      div.remove();\n",
              "    }\n",
              "  "
            ],
            "text/plain": [
              "<IPython.core.display.Javascript object>"
            ]
          },
          "metadata": {
            "tags": []
          }
        },
        {
          "output_type": "display_data",
          "data": {
            "application/javascript": [
              "download(\"download_12b4cb8f-62c4-4bd6-942a-e7989b9337a7\", \"vecs.tsv\", 1914525)"
            ],
            "text/plain": [
              "<IPython.core.display.Javascript object>"
            ]
          },
          "metadata": {
            "tags": []
          }
        },
        {
          "output_type": "display_data",
          "data": {
            "application/javascript": [
              "\n",
              "    async function download(id, filename, size) {\n",
              "      if (!google.colab.kernel.accessAllowed) {\n",
              "        return;\n",
              "      }\n",
              "      const div = document.createElement('div');\n",
              "      const label = document.createElement('label');\n",
              "      label.textContent = `Downloading \"${filename}\": `;\n",
              "      div.appendChild(label);\n",
              "      const progress = document.createElement('progress');\n",
              "      progress.max = size;\n",
              "      div.appendChild(progress);\n",
              "      document.body.appendChild(div);\n",
              "\n",
              "      const buffers = [];\n",
              "      let downloaded = 0;\n",
              "\n",
              "      const channel = await google.colab.kernel.comms.open(id);\n",
              "      // Send a message to notify the kernel that we're ready.\n",
              "      channel.send({})\n",
              "\n",
              "      for await (const message of channel.messages) {\n",
              "        // Send a message to notify the kernel that we're ready.\n",
              "        channel.send({})\n",
              "        if (message.buffers) {\n",
              "          for (const buffer of message.buffers) {\n",
              "            buffers.push(buffer);\n",
              "            downloaded += buffer.byteLength;\n",
              "            progress.value = downloaded;\n",
              "          }\n",
              "        }\n",
              "      }\n",
              "      const blob = new Blob(buffers, {type: 'application/binary'});\n",
              "      const a = document.createElement('a');\n",
              "      a.href = window.URL.createObjectURL(blob);\n",
              "      a.download = filename;\n",
              "      div.appendChild(a);\n",
              "      a.click();\n",
              "      div.remove();\n",
              "    }\n",
              "  "
            ],
            "text/plain": [
              "<IPython.core.display.Javascript object>"
            ]
          },
          "metadata": {
            "tags": []
          }
        },
        {
          "output_type": "display_data",
          "data": {
            "application/javascript": [
              "download(\"download_a990a91d-aeb2-4c22-8208-7aa01c9c9f46\", \"meta.tsv\", 76166)"
            ],
            "text/plain": [
              "<IPython.core.display.Javascript object>"
            ]
          },
          "metadata": {
            "tags": []
          }
        }
      ]
    },
    {
      "cell_type": "markdown",
      "metadata": {
        "id": "cd42DESbXXkK"
      },
      "source": [
        "![deep.jpeg](data:image/jpeg;base64,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)"
      ]
    },
    {
      "cell_type": "markdown",
      "metadata": {
        "id": "xDNlu4B9akaw"
      },
      "source": []
    },
    {
      "cell_type": "markdown",
      "metadata": {
        "id": "T3bHpI2DakfT"
      },
      "source": [
        "## Why not Dense layer\n",
        "### The sequence of words is important : \n",
        "### SEquencence in every data point is not same"
      ]
    },
    {
      "cell_type": "markdown",
      "metadata": {
        "id": "aTMp-PaoXEWJ"
      },
      "source": [
        "### LSTM: Long Short-Term Memory"
      ]
    },
    {
      "cell_type": "markdown",
      "metadata": {
        "id": "kcN-uTJ6W-9h"
      },
      "source": [
        "![lstm.jpeg](data:image/jpeg;base64,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)"
      ]
    },
    {
      "cell_type": "markdown",
      "metadata": {
        "id": "XPH8YCoSWvFk"
      },
      "source": [
        "\n",
        "\n",
        "---\n",
        "\n"
      ]
    },
    {
      "cell_type": "markdown",
      "metadata": {
        "id": "JA3Q3arVa82r"
      },
      "source": [
        "#  [  3 , 5, ,7 , 89]\n",
        "\n",
        "Input  = 3 , out put = g(3)\n",
        "input = 5 , g(3), output = g(5)\n",
        "input = 7, g(5), output = \n",
        "\n",
        "\n",
        "### I grew up in Germany that why Ithe language I was tought was German\n",
        "\n",
        "## Unidirectional Reading\n",
        "### I want a glass of pineapple ...?....   (juice/fruit)\n",
        "### I want a slice of pineapple ...?....   (pizza/fruit)\n",
        "\n",
        "\n",
        "\n",
        "## Birectional reading\n",
        "\n",
        "#### I want to be Donald trump was president of USA.\n",
        "#### I want to be Donald is my favourite catoon charecter."
      ]
    },
    {
      "cell_type": "code",
      "metadata": {
        "colab": {
          "base_uri": "https://localhost:8080/"
        },
        "id": "I22DKQlhdLNW",
        "outputId": "ea9fc552-bb32-4f84-8ba8-4754899c9ec4"
      },
      "source": [
        "model_lstm = tf.keras.Sequential([\n",
        "    tf.keras.layers.Embedding(vocab_size, embedding_dim, input_length=max_length),\n",
        "    #tf.keras.layers.Flatten(),\n",
        "    tf.keras.layers.Bidirectional(tf.keras.layers.LSTM(32, return_sequences=True)),\n",
        "    tf.keras.layers.Bidirectional(tf.keras.layers.LSTM(16)),\n",
        "    tf.keras.layers.Dense(64, activation='relu'),\n",
        "    tf.keras.layers.Dense(1, activation='sigmoid')\n",
        "])\n",
        "model_lstm.compile(loss='binary_crossentropy',optimizer='adam',metrics=['accuracy'])\n",
        "model_lstm.summary()"
      ],
      "execution_count": 29,
      "outputs": [
        {
          "output_type": "stream",
          "text": [
            "Model: \"sequential_2\"\n",
            "_________________________________________________________________\n",
            "Layer (type)                 Output Shape              Param #   \n",
            "=================================================================\n",
            "embedding_2 (Embedding)      (None, 256, 16)           160000    \n",
            "_________________________________________________________________\n",
            "bidirectional_2 (Bidirection (None, 256, 64)           12544     \n",
            "_________________________________________________________________\n",
            "bidirectional_3 (Bidirection (None, 32)                10368     \n",
            "_________________________________________________________________\n",
            "dense_4 (Dense)              (None, 64)                2112      \n",
            "_________________________________________________________________\n",
            "dense_5 (Dense)              (None, 1)                 65        \n",
            "=================================================================\n",
            "Total params: 185,089\n",
            "Trainable params: 185,089\n",
            "Non-trainable params: 0\n",
            "_________________________________________________________________\n"
          ],
          "name": "stdout"
        }
      ]
    },
    {
      "cell_type": "code",
      "metadata": {
        "colab": {
          "base_uri": "https://localhost:8080/",
          "height": 392
        },
        "id": "_8cuHPx5OHyM",
        "outputId": "4d6562e8-76c2-42aa-c7c9-205a9f9045f6"
      },
      "source": [
        "history_lstm = model_lstm.fit(\n",
        "    x_train, y_train,\n",
        "    epochs = 10,\n",
        "    validation_data = (x_test, y_test),\n",
        "    batch_size = 256                   #validation_split = 0.15,\n",
        ")"
      ],
      "execution_count": 30,
      "outputs": [
        {
          "output_type": "stream",
          "text": [
            "Epoch 1/10\n",
            " 6/98 [>.............................] - ETA: 1:10 - loss: 0.6934 - accuracy: 0.4873"
          ],
          "name": "stdout"
        },
        {
          "output_type": "error",
          "ename": "KeyboardInterrupt",
          "evalue": "ignored",
          "traceback": [
            "\u001b[0;31m---------------------------------------------------------------------------\u001b[0m",
            "\u001b[0;31mKeyboardInterrupt\u001b[0m                         Traceback (most recent call last)",
            "\u001b[0;32m<ipython-input-30-c2b68bd9ac88>\u001b[0m in \u001b[0;36m<module>\u001b[0;34m()\u001b[0m\n\u001b[1;32m      3\u001b[0m     \u001b[0mepochs\u001b[0m \u001b[0;34m=\u001b[0m \u001b[0;36m10\u001b[0m\u001b[0;34m,\u001b[0m\u001b[0;34m\u001b[0m\u001b[0;34m\u001b[0m\u001b[0m\n\u001b[1;32m      4\u001b[0m     \u001b[0mvalidation_data\u001b[0m \u001b[0;34m=\u001b[0m \u001b[0;34m(\u001b[0m\u001b[0mx_test\u001b[0m\u001b[0;34m,\u001b[0m \u001b[0my_test\u001b[0m\u001b[0;34m)\u001b[0m\u001b[0;34m,\u001b[0m\u001b[0;34m\u001b[0m\u001b[0;34m\u001b[0m\u001b[0m\n\u001b[0;32m----> 5\u001b[0;31m     \u001b[0mbatch_size\u001b[0m \u001b[0;34m=\u001b[0m \u001b[0;36m256\u001b[0m                   \u001b[0;31m#validation_split = 0.15,\u001b[0m\u001b[0;34m\u001b[0m\u001b[0;34m\u001b[0m\u001b[0m\n\u001b[0m\u001b[1;32m      6\u001b[0m )\n",
            "\u001b[0;32m/usr/local/lib/python3.7/dist-packages/tensorflow/python/keras/engine/training.py\u001b[0m in \u001b[0;36mfit\u001b[0;34m(self, x, y, batch_size, epochs, verbose, callbacks, validation_split, validation_data, shuffle, class_weight, sample_weight, initial_epoch, steps_per_epoch, validation_steps, validation_batch_size, validation_freq, max_queue_size, workers, use_multiprocessing)\u001b[0m\n\u001b[1;32m   1098\u001b[0m                 _r=1):\n\u001b[1;32m   1099\u001b[0m               \u001b[0mcallbacks\u001b[0m\u001b[0;34m.\u001b[0m\u001b[0mon_train_batch_begin\u001b[0m\u001b[0;34m(\u001b[0m\u001b[0mstep\u001b[0m\u001b[0;34m)\u001b[0m\u001b[0;34m\u001b[0m\u001b[0;34m\u001b[0m\u001b[0m\n\u001b[0;32m-> 1100\u001b[0;31m               \u001b[0mtmp_logs\u001b[0m \u001b[0;34m=\u001b[0m \u001b[0mself\u001b[0m\u001b[0;34m.\u001b[0m\u001b[0mtrain_function\u001b[0m\u001b[0;34m(\u001b[0m\u001b[0miterator\u001b[0m\u001b[0;34m)\u001b[0m\u001b[0;34m\u001b[0m\u001b[0;34m\u001b[0m\u001b[0m\n\u001b[0m\u001b[1;32m   1101\u001b[0m               \u001b[0;32mif\u001b[0m \u001b[0mdata_handler\u001b[0m\u001b[0;34m.\u001b[0m\u001b[0mshould_sync\u001b[0m\u001b[0;34m:\u001b[0m\u001b[0;34m\u001b[0m\u001b[0;34m\u001b[0m\u001b[0m\n\u001b[1;32m   1102\u001b[0m                 \u001b[0mcontext\u001b[0m\u001b[0;34m.\u001b[0m\u001b[0masync_wait\u001b[0m\u001b[0;34m(\u001b[0m\u001b[0;34m)\u001b[0m\u001b[0;34m\u001b[0m\u001b[0;34m\u001b[0m\u001b[0m\n",
            "\u001b[0;32m/usr/local/lib/python3.7/dist-packages/tensorflow/python/eager/def_function.py\u001b[0m in \u001b[0;36m__call__\u001b[0;34m(self, *args, **kwds)\u001b[0m\n\u001b[1;32m    826\u001b[0m     \u001b[0mtracing_count\u001b[0m \u001b[0;34m=\u001b[0m \u001b[0mself\u001b[0m\u001b[0;34m.\u001b[0m\u001b[0mexperimental_get_tracing_count\u001b[0m\u001b[0;34m(\u001b[0m\u001b[0;34m)\u001b[0m\u001b[0;34m\u001b[0m\u001b[0;34m\u001b[0m\u001b[0m\n\u001b[1;32m    827\u001b[0m     \u001b[0;32mwith\u001b[0m \u001b[0mtrace\u001b[0m\u001b[0;34m.\u001b[0m\u001b[0mTrace\u001b[0m\u001b[0;34m(\u001b[0m\u001b[0mself\u001b[0m\u001b[0;34m.\u001b[0m\u001b[0m_name\u001b[0m\u001b[0;34m)\u001b[0m \u001b[0;32mas\u001b[0m \u001b[0mtm\u001b[0m\u001b[0;34m:\u001b[0m\u001b[0;34m\u001b[0m\u001b[0;34m\u001b[0m\u001b[0m\n\u001b[0;32m--> 828\u001b[0;31m       \u001b[0mresult\u001b[0m \u001b[0;34m=\u001b[0m \u001b[0mself\u001b[0m\u001b[0;34m.\u001b[0m\u001b[0m_call\u001b[0m\u001b[0;34m(\u001b[0m\u001b[0;34m*\u001b[0m\u001b[0margs\u001b[0m\u001b[0;34m,\u001b[0m \u001b[0;34m**\u001b[0m\u001b[0mkwds\u001b[0m\u001b[0;34m)\u001b[0m\u001b[0;34m\u001b[0m\u001b[0;34m\u001b[0m\u001b[0m\n\u001b[0m\u001b[1;32m    829\u001b[0m       \u001b[0mcompiler\u001b[0m \u001b[0;34m=\u001b[0m \u001b[0;34m\"xla\"\u001b[0m \u001b[0;32mif\u001b[0m \u001b[0mself\u001b[0m\u001b[0;34m.\u001b[0m\u001b[0m_experimental_compile\u001b[0m \u001b[0;32melse\u001b[0m \u001b[0;34m\"nonXla\"\u001b[0m\u001b[0;34m\u001b[0m\u001b[0;34m\u001b[0m\u001b[0m\n\u001b[1;32m    830\u001b[0m       \u001b[0mnew_tracing_count\u001b[0m \u001b[0;34m=\u001b[0m \u001b[0mself\u001b[0m\u001b[0;34m.\u001b[0m\u001b[0mexperimental_get_tracing_count\u001b[0m\u001b[0;34m(\u001b[0m\u001b[0;34m)\u001b[0m\u001b[0;34m\u001b[0m\u001b[0;34m\u001b[0m\u001b[0m\n",
            "\u001b[0;32m/usr/local/lib/python3.7/dist-packages/tensorflow/python/eager/def_function.py\u001b[0m in \u001b[0;36m_call\u001b[0;34m(self, *args, **kwds)\u001b[0m\n\u001b[1;32m    853\u001b[0m       \u001b[0;31m# In this case we have created variables on the first call, so we run the\u001b[0m\u001b[0;34m\u001b[0m\u001b[0;34m\u001b[0m\u001b[0;34m\u001b[0m\u001b[0m\n\u001b[1;32m    854\u001b[0m       \u001b[0;31m# defunned version which is guaranteed to never create variables.\u001b[0m\u001b[0;34m\u001b[0m\u001b[0;34m\u001b[0m\u001b[0;34m\u001b[0m\u001b[0m\n\u001b[0;32m--> 855\u001b[0;31m       \u001b[0;32mreturn\u001b[0m \u001b[0mself\u001b[0m\u001b[0;34m.\u001b[0m\u001b[0m_stateless_fn\u001b[0m\u001b[0;34m(\u001b[0m\u001b[0;34m*\u001b[0m\u001b[0margs\u001b[0m\u001b[0;34m,\u001b[0m \u001b[0;34m**\u001b[0m\u001b[0mkwds\u001b[0m\u001b[0;34m)\u001b[0m  \u001b[0;31m# pylint: disable=not-callable\u001b[0m\u001b[0;34m\u001b[0m\u001b[0;34m\u001b[0m\u001b[0m\n\u001b[0m\u001b[1;32m    856\u001b[0m     \u001b[0;32melif\u001b[0m \u001b[0mself\u001b[0m\u001b[0;34m.\u001b[0m\u001b[0m_stateful_fn\u001b[0m \u001b[0;32mis\u001b[0m \u001b[0;32mnot\u001b[0m \u001b[0;32mNone\u001b[0m\u001b[0;34m:\u001b[0m\u001b[0;34m\u001b[0m\u001b[0;34m\u001b[0m\u001b[0m\n\u001b[1;32m    857\u001b[0m       \u001b[0;31m# Release the lock early so that multiple threads can perform the call\u001b[0m\u001b[0;34m\u001b[0m\u001b[0;34m\u001b[0m\u001b[0;34m\u001b[0m\u001b[0m\n",
            "\u001b[0;32m/usr/local/lib/python3.7/dist-packages/tensorflow/python/eager/function.py\u001b[0m in \u001b[0;36m__call__\u001b[0;34m(self, *args, **kwargs)\u001b[0m\n\u001b[1;32m   2941\u001b[0m        filtered_flat_args) = self._maybe_define_function(args, kwargs)\n\u001b[1;32m   2942\u001b[0m     return graph_function._call_flat(\n\u001b[0;32m-> 2943\u001b[0;31m         filtered_flat_args, captured_inputs=graph_function.captured_inputs)  # pylint: disable=protected-access\n\u001b[0m\u001b[1;32m   2944\u001b[0m \u001b[0;34m\u001b[0m\u001b[0m\n\u001b[1;32m   2945\u001b[0m   \u001b[0;34m@\u001b[0m\u001b[0mproperty\u001b[0m\u001b[0;34m\u001b[0m\u001b[0;34m\u001b[0m\u001b[0m\n",
            "\u001b[0;32m/usr/local/lib/python3.7/dist-packages/tensorflow/python/eager/function.py\u001b[0m in \u001b[0;36m_call_flat\u001b[0;34m(self, args, captured_inputs, cancellation_manager)\u001b[0m\n\u001b[1;32m   1917\u001b[0m       \u001b[0;31m# No tape is watching; skip to running the function.\u001b[0m\u001b[0;34m\u001b[0m\u001b[0;34m\u001b[0m\u001b[0;34m\u001b[0m\u001b[0m\n\u001b[1;32m   1918\u001b[0m       return self._build_call_outputs(self._inference_function.call(\n\u001b[0;32m-> 1919\u001b[0;31m           ctx, args, cancellation_manager=cancellation_manager))\n\u001b[0m\u001b[1;32m   1920\u001b[0m     forward_backward = self._select_forward_and_backward_functions(\n\u001b[1;32m   1921\u001b[0m         \u001b[0margs\u001b[0m\u001b[0;34m,\u001b[0m\u001b[0;34m\u001b[0m\u001b[0;34m\u001b[0m\u001b[0m\n",
            "\u001b[0;32m/usr/local/lib/python3.7/dist-packages/tensorflow/python/eager/function.py\u001b[0m in \u001b[0;36mcall\u001b[0;34m(self, ctx, args, cancellation_manager)\u001b[0m\n\u001b[1;32m    558\u001b[0m               \u001b[0minputs\u001b[0m\u001b[0;34m=\u001b[0m\u001b[0margs\u001b[0m\u001b[0;34m,\u001b[0m\u001b[0;34m\u001b[0m\u001b[0;34m\u001b[0m\u001b[0m\n\u001b[1;32m    559\u001b[0m               \u001b[0mattrs\u001b[0m\u001b[0;34m=\u001b[0m\u001b[0mattrs\u001b[0m\u001b[0;34m,\u001b[0m\u001b[0;34m\u001b[0m\u001b[0;34m\u001b[0m\u001b[0m\n\u001b[0;32m--> 560\u001b[0;31m               ctx=ctx)\n\u001b[0m\u001b[1;32m    561\u001b[0m         \u001b[0;32melse\u001b[0m\u001b[0;34m:\u001b[0m\u001b[0;34m\u001b[0m\u001b[0;34m\u001b[0m\u001b[0m\n\u001b[1;32m    562\u001b[0m           outputs = execute.execute_with_cancellation(\n",
            "\u001b[0;32m/usr/local/lib/python3.7/dist-packages/tensorflow/python/eager/execute.py\u001b[0m in \u001b[0;36mquick_execute\u001b[0;34m(op_name, num_outputs, inputs, attrs, ctx, name)\u001b[0m\n\u001b[1;32m     58\u001b[0m     \u001b[0mctx\u001b[0m\u001b[0;34m.\u001b[0m\u001b[0mensure_initialized\u001b[0m\u001b[0;34m(\u001b[0m\u001b[0;34m)\u001b[0m\u001b[0;34m\u001b[0m\u001b[0;34m\u001b[0m\u001b[0m\n\u001b[1;32m     59\u001b[0m     tensors = pywrap_tfe.TFE_Py_Execute(ctx._handle, device_name, op_name,\n\u001b[0;32m---> 60\u001b[0;31m                                         inputs, attrs, num_outputs)\n\u001b[0m\u001b[1;32m     61\u001b[0m   \u001b[0;32mexcept\u001b[0m \u001b[0mcore\u001b[0m\u001b[0;34m.\u001b[0m\u001b[0m_NotOkStatusException\u001b[0m \u001b[0;32mas\u001b[0m \u001b[0me\u001b[0m\u001b[0;34m:\u001b[0m\u001b[0;34m\u001b[0m\u001b[0;34m\u001b[0m\u001b[0m\n\u001b[1;32m     62\u001b[0m     \u001b[0;32mif\u001b[0m \u001b[0mname\u001b[0m \u001b[0;32mis\u001b[0m \u001b[0;32mnot\u001b[0m \u001b[0;32mNone\u001b[0m\u001b[0;34m:\u001b[0m\u001b[0;34m\u001b[0m\u001b[0;34m\u001b[0m\u001b[0m\n",
            "\u001b[0;31mKeyboardInterrupt\u001b[0m: "
          ]
        }
      ]
    },
    {
      "cell_type": "markdown",
      "metadata": {
        "id": "V0D4Cgk2XSDc"
      },
      "source": []
    },
    {
      "cell_type": "markdown",
      "metadata": {
        "id": "3sfXv021XSG_"
      },
      "source": []
    },
    {
      "cell_type": "markdown",
      "metadata": {
        "id": "KI23zyZ-XSLV"
      },
      "source": []
    }
  ]
}